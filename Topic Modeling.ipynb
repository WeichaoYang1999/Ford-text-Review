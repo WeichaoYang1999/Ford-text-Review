{
 "cells": [
  {
   "cell_type": "code",
   "execution_count": 1,
   "id": "4649d772",
   "metadata": {},
   "outputs": [
    {
     "name": "stderr",
     "output_type": "stream",
     "text": [
      "[nltk_data] Downloading package stopwords to\n",
      "[nltk_data]     /Users/yangweichao/nltk_data...\n",
      "[nltk_data]   Package stopwords is already up-to-date!\n",
      "[nltk_data] Downloading package punkt to\n",
      "[nltk_data]     /Users/yangweichao/nltk_data...\n",
      "[nltk_data]   Package punkt is already up-to-date!\n",
      "[nltk_data] Downloading package averaged_perceptron_tagger to\n",
      "[nltk_data]     /Users/yangweichao/nltk_data...\n",
      "[nltk_data]   Package averaged_perceptron_tagger is already up-to-\n",
      "[nltk_data]       date!\n",
      "[nltk_data] Downloading package wordnet to\n",
      "[nltk_data]     /Users/yangweichao/nltk_data...\n",
      "[nltk_data]   Package wordnet is already up-to-date!\n"
     ]
    },
    {
     "name": "stdout",
     "output_type": "stream",
     "text": [
      "Original:   <p>The circus dog in a plissé skirt jumped over Python who wasn't that large, just 3 feet long.</p>\n",
      "Processed:  ['<', 'p', '>', 'The', 'circus', 'dog', 'in', 'a', 'plissé', 'skirt', 'jumped', 'over', 'Python', 'who', 'was', \"n't\", 'that', 'large', ',', 'just', '3', 'feet', 'long.', '<', '/p', '>']\n",
      "Original:   <p>The circus dog in a plissé skirt jumped over Python who wasn't that large, just 3 feet long.</p>\n",
      "Processed:  <p>The circus dog in a plissé skirt jumped over Python who was not that large, just 3 feet long.</p>\n",
      "Original:   <p>The circus dog in a plissé skirt jumped over Python who wasn't that large, just 3 feet long.</p>\n",
      "Processed:  [('<', 'a'), ('p', 'n'), ('>', 'v'), ('the', None), ('circus', 'n'), ('dog', 'n'), ('in', None), ('a', None), ('plissé', 'n'), ('skirt', 'n'), ('jumped', 'v'), ('over', None), ('python', 'n'), ('who', None), ('was', 'v'), (\"n't\", 'r'), ('that', None), ('large', 'a'), (',', None), ('just', 'r'), ('3', None), ('feet', 'n'), ('long.', 'a'), ('<', 'n'), ('/p', 'n'), ('>', 'n')]\n",
      "Original:   <p>The circus dog in a plissé skirt jumped over Python who wasn't that large, just 3 feet long.</p>\n",
      "Processed:  < p > the circus dog in a plissé skirt jump over python who be n't that large , just 3 foot long. < /p >\n",
      "Original:   <p>The circus dog in a plissé skirt jumped over Python who wasn't that large, just 3 feet long.</p>\n",
      "Processed:    p   The circus dog in a plissé skirt jumped over Python who was n t that large   just 3 feet long     p  \n",
      "Original:   <p>The circus dog in a plissé skirt jumped over Python who wasn't that large, just 3 feet long.</p>\n",
      "Processed:  < p > The circus dog plissé skirt jumped Python n't large , 3 feet long. < /p >\n",
      "Original:   <p>The circus dog in a plissé skirt jumped over Python who wasn't that large, just 3 feet long.</p>\n",
      "Processed:  p The circus dog in a plissé skirt jumped over Python who was n't that large just feet long. /p\n",
      "Original:   <p>The circus dog in a plissé skirt jumped over Python who wasn't that large, just 3 feet long.</p>\n",
      "Processed:  The circus dog in a plissé skirt jumped over Python who wasn't that large, just 3 feet long.\n",
      "Original:   <p>The circus dog in a plissé skirt jumped over Python who wasn't that large, just 3 feet long.</p>\n",
      "Processed:  <p>The circus dog in a plisse skirt jumped over Python who wasn't that large, just 3 feet long.</p>\n"
     ]
    }
   ],
   "source": [
    "%run ./Text_Normalization_Function.ipynb #defining text normalization function"
   ]
  },
  {
   "cell_type": "code",
   "execution_count": 2,
   "id": "87a52367",
   "metadata": {},
   "outputs": [
    {
     "data": {
      "text/html": [
       "        <script type=\"text/javascript\">\n",
       "        window.PlotlyConfig = {MathJaxConfig: 'local'};\n",
       "        if (window.MathJax) {MathJax.Hub.Config({SVG: {font: \"STIX-Web\"}});}\n",
       "        if (typeof require !== 'undefined') {\n",
       "        require.undef(\"plotly\");\n",
       "        requirejs.config({\n",
       "            paths: {\n",
       "                'plotly': ['https://cdn.plot.ly/plotly-2.11.1.min']\n",
       "            }\n",
       "        });\n",
       "        require(['plotly'], function(Plotly) {\n",
       "            window._Plotly = Plotly;\n",
       "        });\n",
       "        }\n",
       "        </script>\n",
       "        "
      ]
     },
     "metadata": {},
     "output_type": "display_data"
    }
   ],
   "source": [
    "import numpy as np\n",
    "import pandas as pd\n",
    "import nltk\n",
    "from sklearn import metrics\n",
    "from sklearn.feature_extraction.text import  CountVectorizer\n",
    "from sklearn.decomposition import LatentDirichletAllocation\n",
    "from pprint import pprint\n",
    "import pyLDAvis\n",
    "import pyLDAvis.sklearn\n",
    "import matplotlib.pyplot as plt\n",
    "%matplotlib inline\n",
    "import plotly.offline as py\n",
    "py.init_notebook_mode(connected=True)\n",
    "import plotly.graph_objs as go\n",
    "import plotly.tools as tls\n",
    "import warnings\n",
    "warnings.simplefilter(action='ignore', category=FutureWarning)\n",
    "warnings.filterwarnings(\"ignore\", category=DeprecationWarning)\n",
    "warnings.filterwarnings('ignore', category=UserWarning, module='openpyxl')"
   ]
  },
  {
   "cell_type": "code",
   "execution_count": 3,
   "id": "3717e2c6",
   "metadata": {},
   "outputs": [],
   "source": [
    "def display_topics(model, feature_names, no_top_words):\n",
    "    for topic_idx, topic in enumerate(model.components_):\n",
    "        print(\"Topic %d:\" % (topic_idx))\n",
    "        print(\" \".join([feature_names[i]\n",
    "                        for i in topic.argsort()[:-no_top_words - 1:-1]]))\n",
    "        \n",
    "def get_topic_words(vectorizer, lda_model, n_words):\n",
    "    keywords = np.array(vectorizer.get_feature_names())\n",
    "    topic_words = []\n",
    "    for topic_weights in lda_model.components_:\n",
    "        top_word_locs = (-topic_weights).argsort()[:n_words]\n",
    "        topic_words.append(keywords.take(top_word_locs).tolist())\n",
    "    return topic_words\n",
    "\n",
    "def get_top_n_words(n_top_words, count_vectorizer, text_data):\n",
    "    vectorized_headlines = count_vectorizer.fit_transform(text_data.values)\n",
    "    vectorized_total = np.sum(vectorized_headlines, axis=0)\n",
    "    word_indices = np.flip(np.argsort(vectorized_total)[0,:], 1)\n",
    "    word_values = np.flip(np.sort(vectorized_total)[0,:],1)\n",
    "    \n",
    "    word_vectors = np.zeros((n_top_words, vectorized_headlines.shape[1]))\n",
    "    for i in range(n_top_words):\n",
    "        word_vectors[i,word_indices[0,i]] = 1\n",
    "\n",
    "    words = [word[0].encode('ascii').decode('utf-8') for \n",
    "             word in count_vectorizer.inverse_transform(word_vectors)]\n",
    "\n",
    "    return (words, word_values[0,:n_top_words].tolist()[0])"
   ]
  },
  {
   "cell_type": "code",
   "execution_count": 4,
   "id": "e0dbdd3c",
   "metadata": {},
   "outputs": [
    {
     "data": {
      "text/html": [
       "<div>\n",
       "<style scoped>\n",
       "    .dataframe tbody tr th:only-of-type {\n",
       "        vertical-align: middle;\n",
       "    }\n",
       "\n",
       "    .dataframe tbody tr th {\n",
       "        vertical-align: top;\n",
       "    }\n",
       "\n",
       "    .dataframe thead th {\n",
       "        text-align: right;\n",
       "    }\n",
       "</style>\n",
       "<table border=\"1\" class=\"dataframe\">\n",
       "  <thead>\n",
       "    <tr style=\"text-align: right;\">\n",
       "      <th></th>\n",
       "      <th>class</th>\n",
       "      <th>text</th>\n",
       "    </tr>\n",
       "  </thead>\n",
       "  <tbody>\n",
       "    <tr>\n",
       "      <th>0</th>\n",
       "      <td>Pos</td>\n",
       "      <td>Some of you might have read my previous post ...</td>\n",
       "    </tr>\n",
       "    <tr>\n",
       "      <th>1</th>\n",
       "      <td>Pos</td>\n",
       "      <td>I bought my new 1999 Ford Taurus just two mon...</td>\n",
       "    </tr>\n",
       "    <tr>\n",
       "      <th>2</th>\n",
       "      <td>Pos</td>\n",
       "      <td>My first car was a Ford  One of those old  cl...</td>\n",
       "    </tr>\n",
       "    <tr>\n",
       "      <th>3</th>\n",
       "      <td>Pos</td>\n",
       "      <td>Last spring we got a new car  a 1999 ford tau...</td>\n",
       "    </tr>\n",
       "    <tr>\n",
       "      <th>4</th>\n",
       "      <td>Pos</td>\n",
       "      <td>Recently I bought a used  99 Ford Taurus  The...</td>\n",
       "    </tr>\n",
       "  </tbody>\n",
       "</table>\n",
       "</div>"
      ],
      "text/plain": [
       "  class                                               text\n",
       "0   Pos   Some of you might have read my previous post ...\n",
       "1   Pos   I bought my new 1999 Ford Taurus just two mon...\n",
       "2   Pos   My first car was a Ford  One of those old  cl...\n",
       "3   Pos   Last spring we got a new car  a 1999 ford tau...\n",
       "4   Pos   Recently I bought a used  99 Ford Taurus  The..."
      ]
     },
     "execution_count": 4,
     "metadata": {},
     "output_type": "execute_result"
    }
   ],
   "source": [
    "df = pd.read_excel('/Users/yangweichao/Desktop/DAT562 Text Mining/Final/Ford_data.xlsx')\n",
    "df.head()"
   ]
  },
  {
   "cell_type": "code",
   "execution_count": 5,
   "id": "574af988",
   "metadata": {},
   "outputs": [
    {
     "data": {
      "text/html": [
       "<div>\n",
       "<style scoped>\n",
       "    .dataframe tbody tr th:only-of-type {\n",
       "        vertical-align: middle;\n",
       "    }\n",
       "\n",
       "    .dataframe tbody tr th {\n",
       "        vertical-align: top;\n",
       "    }\n",
       "\n",
       "    .dataframe thead th {\n",
       "        text-align: right;\n",
       "    }\n",
       "</style>\n",
       "<table border=\"1\" class=\"dataframe\">\n",
       "  <thead>\n",
       "    <tr style=\"text-align: right;\">\n",
       "      <th></th>\n",
       "      <th>class</th>\n",
       "      <th>text</th>\n",
       "    </tr>\n",
       "  </thead>\n",
       "  <tbody>\n",
       "    <tr>\n",
       "      <th>0</th>\n",
       "      <td>Pos</td>\n",
       "      <td>Some of you might have read my previous post ...</td>\n",
       "    </tr>\n",
       "    <tr>\n",
       "      <th>1</th>\n",
       "      <td>Pos</td>\n",
       "      <td>I bought my new 1999 Ford Taurus just two mon...</td>\n",
       "    </tr>\n",
       "    <tr>\n",
       "      <th>2</th>\n",
       "      <td>Pos</td>\n",
       "      <td>My first car was a Ford  One of those old  cl...</td>\n",
       "    </tr>\n",
       "    <tr>\n",
       "      <th>3</th>\n",
       "      <td>Pos</td>\n",
       "      <td>Last spring we got a new car  a 1999 ford tau...</td>\n",
       "    </tr>\n",
       "    <tr>\n",
       "      <th>4</th>\n",
       "      <td>Pos</td>\n",
       "      <td>Recently I bought a used  99 Ford Taurus  The...</td>\n",
       "    </tr>\n",
       "  </tbody>\n",
       "</table>\n",
       "</div>"
      ],
      "text/plain": [
       "  class                                               text\n",
       "0   Pos   Some of you might have read my previous post ...\n",
       "1   Pos   I bought my new 1999 Ford Taurus just two mon...\n",
       "2   Pos   My first car was a Ford  One of those old  cl...\n",
       "3   Pos   Last spring we got a new car  a 1999 ford tau...\n",
       "4   Pos   Recently I bought a used  99 Ford Taurus  The..."
      ]
     },
     "execution_count": 5,
     "metadata": {},
     "output_type": "execute_result"
    }
   ],
   "source": [
    "df_Pos=df[df['class'].isin(['Pos'])]\n",
    "df_Pos.head()"
   ]
  },
  {
   "cell_type": "code",
   "execution_count": 6,
   "id": "147edcff",
   "metadata": {},
   "outputs": [
    {
     "data": {
      "text/html": [
       "<div>\n",
       "<style scoped>\n",
       "    .dataframe tbody tr th:only-of-type {\n",
       "        vertical-align: middle;\n",
       "    }\n",
       "\n",
       "    .dataframe tbody tr th {\n",
       "        vertical-align: top;\n",
       "    }\n",
       "\n",
       "    .dataframe thead th {\n",
       "        text-align: right;\n",
       "    }\n",
       "</style>\n",
       "<table border=\"1\" class=\"dataframe\">\n",
       "  <thead>\n",
       "    <tr style=\"text-align: right;\">\n",
       "      <th></th>\n",
       "      <th>class</th>\n",
       "      <th>text</th>\n",
       "    </tr>\n",
       "  </thead>\n",
       "  <tbody>\n",
       "    <tr>\n",
       "      <th>345</th>\n",
       "      <td>Neg</td>\n",
       "      <td>In 1992 we bought a new Taurus and we really ...</td>\n",
       "    </tr>\n",
       "    <tr>\n",
       "      <th>346</th>\n",
       "      <td>Neg</td>\n",
       "      <td>The last business trip  I drove to San Franci...</td>\n",
       "    </tr>\n",
       "    <tr>\n",
       "      <th>347</th>\n",
       "      <td>Neg</td>\n",
       "      <td>My husband and I purchased a 1990 Ford F250 a...</td>\n",
       "    </tr>\n",
       "    <tr>\n",
       "      <th>348</th>\n",
       "      <td>Neg</td>\n",
       "      <td>I feel I have a thorough opinion of this truc...</td>\n",
       "    </tr>\n",
       "    <tr>\n",
       "      <th>349</th>\n",
       "      <td>Neg</td>\n",
       "      <td>AS a mother of 3  all of whom are still in ca...</td>\n",
       "    </tr>\n",
       "  </tbody>\n",
       "</table>\n",
       "</div>"
      ],
      "text/plain": [
       "    class                                               text\n",
       "345   Neg   In 1992 we bought a new Taurus and we really ...\n",
       "346   Neg   The last business trip  I drove to San Franci...\n",
       "347   Neg   My husband and I purchased a 1990 Ford F250 a...\n",
       "348   Neg   I feel I have a thorough opinion of this truc...\n",
       "349   Neg   AS a mother of 3  all of whom are still in ca..."
      ]
     },
     "execution_count": 6,
     "metadata": {},
     "output_type": "execute_result"
    }
   ],
   "source": [
    "df_Neg=df[df['class'].isin(['Neg'])]\n",
    "df_Neg.head()"
   ]
  },
  {
   "cell_type": "code",
   "execution_count": 8,
   "id": "554a8e48",
   "metadata": {},
   "outputs": [
    {
     "data": {
      "application/vnd.plotly.v1+json": {
       "config": {
        "linkText": "Export to plot.ly",
        "plotlyServerURL": "https://plot.ly",
        "showLink": false
       },
       "data": [
        {
         "marker": {
          "color": [
           691,
           691
          ]
         },
         "text": "Text entries attributed to class",
         "type": "bar",
         "x": [
          "Pos",
          "Neg"
         ],
         "y": [
          691,
          691
         ]
        }
       ],
       "layout": {
        "template": {
         "data": {
          "bar": [
           {
            "error_x": {
             "color": "#2a3f5f"
            },
            "error_y": {
             "color": "#2a3f5f"
            },
            "marker": {
             "line": {
              "color": "#E5ECF6",
              "width": 0.5
             },
             "pattern": {
              "fillmode": "overlay",
              "size": 10,
              "solidity": 0.2
             }
            },
            "type": "bar"
           }
          ],
          "barpolar": [
           {
            "marker": {
             "line": {
              "color": "#E5ECF6",
              "width": 0.5
             },
             "pattern": {
              "fillmode": "overlay",
              "size": 10,
              "solidity": 0.2
             }
            },
            "type": "barpolar"
           }
          ],
          "carpet": [
           {
            "aaxis": {
             "endlinecolor": "#2a3f5f",
             "gridcolor": "white",
             "linecolor": "white",
             "minorgridcolor": "white",
             "startlinecolor": "#2a3f5f"
            },
            "baxis": {
             "endlinecolor": "#2a3f5f",
             "gridcolor": "white",
             "linecolor": "white",
             "minorgridcolor": "white",
             "startlinecolor": "#2a3f5f"
            },
            "type": "carpet"
           }
          ],
          "choropleth": [
           {
            "colorbar": {
             "outlinewidth": 0,
             "ticks": ""
            },
            "type": "choropleth"
           }
          ],
          "contour": [
           {
            "colorbar": {
             "outlinewidth": 0,
             "ticks": ""
            },
            "colorscale": [
             [
              0,
              "#0d0887"
             ],
             [
              0.1111111111111111,
              "#46039f"
             ],
             [
              0.2222222222222222,
              "#7201a8"
             ],
             [
              0.3333333333333333,
              "#9c179e"
             ],
             [
              0.4444444444444444,
              "#bd3786"
             ],
             [
              0.5555555555555556,
              "#d8576b"
             ],
             [
              0.6666666666666666,
              "#ed7953"
             ],
             [
              0.7777777777777778,
              "#fb9f3a"
             ],
             [
              0.8888888888888888,
              "#fdca26"
             ],
             [
              1,
              "#f0f921"
             ]
            ],
            "type": "contour"
           }
          ],
          "contourcarpet": [
           {
            "colorbar": {
             "outlinewidth": 0,
             "ticks": ""
            },
            "type": "contourcarpet"
           }
          ],
          "heatmap": [
           {
            "colorbar": {
             "outlinewidth": 0,
             "ticks": ""
            },
            "colorscale": [
             [
              0,
              "#0d0887"
             ],
             [
              0.1111111111111111,
              "#46039f"
             ],
             [
              0.2222222222222222,
              "#7201a8"
             ],
             [
              0.3333333333333333,
              "#9c179e"
             ],
             [
              0.4444444444444444,
              "#bd3786"
             ],
             [
              0.5555555555555556,
              "#d8576b"
             ],
             [
              0.6666666666666666,
              "#ed7953"
             ],
             [
              0.7777777777777778,
              "#fb9f3a"
             ],
             [
              0.8888888888888888,
              "#fdca26"
             ],
             [
              1,
              "#f0f921"
             ]
            ],
            "type": "heatmap"
           }
          ],
          "heatmapgl": [
           {
            "colorbar": {
             "outlinewidth": 0,
             "ticks": ""
            },
            "colorscale": [
             [
              0,
              "#0d0887"
             ],
             [
              0.1111111111111111,
              "#46039f"
             ],
             [
              0.2222222222222222,
              "#7201a8"
             ],
             [
              0.3333333333333333,
              "#9c179e"
             ],
             [
              0.4444444444444444,
              "#bd3786"
             ],
             [
              0.5555555555555556,
              "#d8576b"
             ],
             [
              0.6666666666666666,
              "#ed7953"
             ],
             [
              0.7777777777777778,
              "#fb9f3a"
             ],
             [
              0.8888888888888888,
              "#fdca26"
             ],
             [
              1,
              "#f0f921"
             ]
            ],
            "type": "heatmapgl"
           }
          ],
          "histogram": [
           {
            "marker": {
             "pattern": {
              "fillmode": "overlay",
              "size": 10,
              "solidity": 0.2
             }
            },
            "type": "histogram"
           }
          ],
          "histogram2d": [
           {
            "colorbar": {
             "outlinewidth": 0,
             "ticks": ""
            },
            "colorscale": [
             [
              0,
              "#0d0887"
             ],
             [
              0.1111111111111111,
              "#46039f"
             ],
             [
              0.2222222222222222,
              "#7201a8"
             ],
             [
              0.3333333333333333,
              "#9c179e"
             ],
             [
              0.4444444444444444,
              "#bd3786"
             ],
             [
              0.5555555555555556,
              "#d8576b"
             ],
             [
              0.6666666666666666,
              "#ed7953"
             ],
             [
              0.7777777777777778,
              "#fb9f3a"
             ],
             [
              0.8888888888888888,
              "#fdca26"
             ],
             [
              1,
              "#f0f921"
             ]
            ],
            "type": "histogram2d"
           }
          ],
          "histogram2dcontour": [
           {
            "colorbar": {
             "outlinewidth": 0,
             "ticks": ""
            },
            "colorscale": [
             [
              0,
              "#0d0887"
             ],
             [
              0.1111111111111111,
              "#46039f"
             ],
             [
              0.2222222222222222,
              "#7201a8"
             ],
             [
              0.3333333333333333,
              "#9c179e"
             ],
             [
              0.4444444444444444,
              "#bd3786"
             ],
             [
              0.5555555555555556,
              "#d8576b"
             ],
             [
              0.6666666666666666,
              "#ed7953"
             ],
             [
              0.7777777777777778,
              "#fb9f3a"
             ],
             [
              0.8888888888888888,
              "#fdca26"
             ],
             [
              1,
              "#f0f921"
             ]
            ],
            "type": "histogram2dcontour"
           }
          ],
          "mesh3d": [
           {
            "colorbar": {
             "outlinewidth": 0,
             "ticks": ""
            },
            "type": "mesh3d"
           }
          ],
          "parcoords": [
           {
            "line": {
             "colorbar": {
              "outlinewidth": 0,
              "ticks": ""
             }
            },
            "type": "parcoords"
           }
          ],
          "pie": [
           {
            "automargin": true,
            "type": "pie"
           }
          ],
          "scatter": [
           {
            "fillpattern": {
             "fillmode": "overlay",
             "size": 10,
             "solidity": 0.2
            },
            "type": "scatter"
           }
          ],
          "scatter3d": [
           {
            "line": {
             "colorbar": {
              "outlinewidth": 0,
              "ticks": ""
             }
            },
            "marker": {
             "colorbar": {
              "outlinewidth": 0,
              "ticks": ""
             }
            },
            "type": "scatter3d"
           }
          ],
          "scattercarpet": [
           {
            "marker": {
             "colorbar": {
              "outlinewidth": 0,
              "ticks": ""
             }
            },
            "type": "scattercarpet"
           }
          ],
          "scattergeo": [
           {
            "marker": {
             "colorbar": {
              "outlinewidth": 0,
              "ticks": ""
             }
            },
            "type": "scattergeo"
           }
          ],
          "scattergl": [
           {
            "marker": {
             "colorbar": {
              "outlinewidth": 0,
              "ticks": ""
             }
            },
            "type": "scattergl"
           }
          ],
          "scattermapbox": [
           {
            "marker": {
             "colorbar": {
              "outlinewidth": 0,
              "ticks": ""
             }
            },
            "type": "scattermapbox"
           }
          ],
          "scatterpolar": [
           {
            "marker": {
             "colorbar": {
              "outlinewidth": 0,
              "ticks": ""
             }
            },
            "type": "scatterpolar"
           }
          ],
          "scatterpolargl": [
           {
            "marker": {
             "colorbar": {
              "outlinewidth": 0,
              "ticks": ""
             }
            },
            "type": "scatterpolargl"
           }
          ],
          "scatterternary": [
           {
            "marker": {
             "colorbar": {
              "outlinewidth": 0,
              "ticks": ""
             }
            },
            "type": "scatterternary"
           }
          ],
          "surface": [
           {
            "colorbar": {
             "outlinewidth": 0,
             "ticks": ""
            },
            "colorscale": [
             [
              0,
              "#0d0887"
             ],
             [
              0.1111111111111111,
              "#46039f"
             ],
             [
              0.2222222222222222,
              "#7201a8"
             ],
             [
              0.3333333333333333,
              "#9c179e"
             ],
             [
              0.4444444444444444,
              "#bd3786"
             ],
             [
              0.5555555555555556,
              "#d8576b"
             ],
             [
              0.6666666666666666,
              "#ed7953"
             ],
             [
              0.7777777777777778,
              "#fb9f3a"
             ],
             [
              0.8888888888888888,
              "#fdca26"
             ],
             [
              1,
              "#f0f921"
             ]
            ],
            "type": "surface"
           }
          ],
          "table": [
           {
            "cells": {
             "fill": {
              "color": "#EBF0F8"
             },
             "line": {
              "color": "white"
             }
            },
            "header": {
             "fill": {
              "color": "#C8D4E3"
             },
             "line": {
              "color": "white"
             }
            },
            "type": "table"
           }
          ]
         },
         "layout": {
          "annotationdefaults": {
           "arrowcolor": "#2a3f5f",
           "arrowhead": 0,
           "arrowwidth": 1
          },
          "autotypenumbers": "strict",
          "coloraxis": {
           "colorbar": {
            "outlinewidth": 0,
            "ticks": ""
           }
          },
          "colorscale": {
           "diverging": [
            [
             0,
             "#8e0152"
            ],
            [
             0.1,
             "#c51b7d"
            ],
            [
             0.2,
             "#de77ae"
            ],
            [
             0.3,
             "#f1b6da"
            ],
            [
             0.4,
             "#fde0ef"
            ],
            [
             0.5,
             "#f7f7f7"
            ],
            [
             0.6,
             "#e6f5d0"
            ],
            [
             0.7,
             "#b8e186"
            ],
            [
             0.8,
             "#7fbc41"
            ],
            [
             0.9,
             "#4d9221"
            ],
            [
             1,
             "#276419"
            ]
           ],
           "sequential": [
            [
             0,
             "#0d0887"
            ],
            [
             0.1111111111111111,
             "#46039f"
            ],
            [
             0.2222222222222222,
             "#7201a8"
            ],
            [
             0.3333333333333333,
             "#9c179e"
            ],
            [
             0.4444444444444444,
             "#bd3786"
            ],
            [
             0.5555555555555556,
             "#d8576b"
            ],
            [
             0.6666666666666666,
             "#ed7953"
            ],
            [
             0.7777777777777778,
             "#fb9f3a"
            ],
            [
             0.8888888888888888,
             "#fdca26"
            ],
            [
             1,
             "#f0f921"
            ]
           ],
           "sequentialminus": [
            [
             0,
             "#0d0887"
            ],
            [
             0.1111111111111111,
             "#46039f"
            ],
            [
             0.2222222222222222,
             "#7201a8"
            ],
            [
             0.3333333333333333,
             "#9c179e"
            ],
            [
             0.4444444444444444,
             "#bd3786"
            ],
            [
             0.5555555555555556,
             "#d8576b"
            ],
            [
             0.6666666666666666,
             "#ed7953"
            ],
            [
             0.7777777777777778,
             "#fb9f3a"
            ],
            [
             0.8888888888888888,
             "#fdca26"
            ],
            [
             1,
             "#f0f921"
            ]
           ]
          },
          "colorway": [
           "#636efa",
           "#EF553B",
           "#00cc96",
           "#ab63fa",
           "#FFA15A",
           "#19d3f3",
           "#FF6692",
           "#B6E880",
           "#FF97FF",
           "#FECB52"
          ],
          "font": {
           "color": "#2a3f5f"
          },
          "geo": {
           "bgcolor": "white",
           "lakecolor": "white",
           "landcolor": "#E5ECF6",
           "showlakes": true,
           "showland": true,
           "subunitcolor": "white"
          },
          "hoverlabel": {
           "align": "left"
          },
          "hovermode": "closest",
          "mapbox": {
           "style": "light"
          },
          "paper_bgcolor": "white",
          "plot_bgcolor": "#E5ECF6",
          "polar": {
           "angularaxis": {
            "gridcolor": "white",
            "linecolor": "white",
            "ticks": ""
           },
           "bgcolor": "#E5ECF6",
           "radialaxis": {
            "gridcolor": "white",
            "linecolor": "white",
            "ticks": ""
           }
          },
          "scene": {
           "xaxis": {
            "backgroundcolor": "#E5ECF6",
            "gridcolor": "white",
            "gridwidth": 2,
            "linecolor": "white",
            "showbackground": true,
            "ticks": "",
            "zerolinecolor": "white"
           },
           "yaxis": {
            "backgroundcolor": "#E5ECF6",
            "gridcolor": "white",
            "gridwidth": 2,
            "linecolor": "white",
            "showbackground": true,
            "ticks": "",
            "zerolinecolor": "white"
           },
           "zaxis": {
            "backgroundcolor": "#E5ECF6",
            "gridcolor": "white",
            "gridwidth": 2,
            "linecolor": "white",
            "showbackground": true,
            "ticks": "",
            "zerolinecolor": "white"
           }
          },
          "shapedefaults": {
           "line": {
            "color": "#2a3f5f"
           }
          },
          "ternary": {
           "aaxis": {
            "gridcolor": "white",
            "linecolor": "white",
            "ticks": ""
           },
           "baxis": {
            "gridcolor": "white",
            "linecolor": "white",
            "ticks": ""
           },
           "bgcolor": "#E5ECF6",
           "caxis": {
            "gridcolor": "white",
            "linecolor": "white",
            "ticks": ""
           }
          },
          "title": {
           "x": 0.05
          },
          "xaxis": {
           "automargin": true,
           "gridcolor": "white",
           "linecolor": "white",
           "ticks": "",
           "title": {
            "standoff": 15
           },
           "zerolinecolor": "white",
           "zerolinewidth": 2
          },
          "yaxis": {
           "automargin": true,
           "gridcolor": "white",
           "linecolor": "white",
           "ticks": "",
           "title": {
            "standoff": 15
           },
           "zerolinecolor": "white",
           "zerolinewidth": 2
          }
         }
        },
        "title": {
         "text": "Label distribution"
        }
       }
      },
      "text/html": [
       "<div>                            <div id=\"93bb3e4a-31e2-440a-aedc-6fa8b32d8bd1\" class=\"plotly-graph-div\" style=\"height:525px; width:100%;\"></div>            <script type=\"text/javascript\">                require([\"plotly\"], function(Plotly) {                    window.PLOTLYENV=window.PLOTLYENV || {};                                    if (document.getElementById(\"93bb3e4a-31e2-440a-aedc-6fa8b32d8bd1\")) {                    Plotly.newPlot(                        \"93bb3e4a-31e2-440a-aedc-6fa8b32d8bd1\",                        [{\"marker\":{\"color\":[691,691]},\"text\":\"Text entries attributed to class\",\"x\":[\"Pos\",\"Neg\"],\"y\":[691,691],\"type\":\"bar\"}],                        {\"template\":{\"data\":{\"barpolar\":[{\"marker\":{\"line\":{\"color\":\"#E5ECF6\",\"width\":0.5},\"pattern\":{\"fillmode\":\"overlay\",\"size\":10,\"solidity\":0.2}},\"type\":\"barpolar\"}],\"bar\":[{\"error_x\":{\"color\":\"#2a3f5f\"},\"error_y\":{\"color\":\"#2a3f5f\"},\"marker\":{\"line\":{\"color\":\"#E5ECF6\",\"width\":0.5},\"pattern\":{\"fillmode\":\"overlay\",\"size\":10,\"solidity\":0.2}},\"type\":\"bar\"}],\"carpet\":[{\"aaxis\":{\"endlinecolor\":\"#2a3f5f\",\"gridcolor\":\"white\",\"linecolor\":\"white\",\"minorgridcolor\":\"white\",\"startlinecolor\":\"#2a3f5f\"},\"baxis\":{\"endlinecolor\":\"#2a3f5f\",\"gridcolor\":\"white\",\"linecolor\":\"white\",\"minorgridcolor\":\"white\",\"startlinecolor\":\"#2a3f5f\"},\"type\":\"carpet\"}],\"choropleth\":[{\"colorbar\":{\"outlinewidth\":0,\"ticks\":\"\"},\"type\":\"choropleth\"}],\"contourcarpet\":[{\"colorbar\":{\"outlinewidth\":0,\"ticks\":\"\"},\"type\":\"contourcarpet\"}],\"contour\":[{\"colorbar\":{\"outlinewidth\":0,\"ticks\":\"\"},\"colorscale\":[[0.0,\"#0d0887\"],[0.1111111111111111,\"#46039f\"],[0.2222222222222222,\"#7201a8\"],[0.3333333333333333,\"#9c179e\"],[0.4444444444444444,\"#bd3786\"],[0.5555555555555556,\"#d8576b\"],[0.6666666666666666,\"#ed7953\"],[0.7777777777777778,\"#fb9f3a\"],[0.8888888888888888,\"#fdca26\"],[1.0,\"#f0f921\"]],\"type\":\"contour\"}],\"heatmapgl\":[{\"colorbar\":{\"outlinewidth\":0,\"ticks\":\"\"},\"colorscale\":[[0.0,\"#0d0887\"],[0.1111111111111111,\"#46039f\"],[0.2222222222222222,\"#7201a8\"],[0.3333333333333333,\"#9c179e\"],[0.4444444444444444,\"#bd3786\"],[0.5555555555555556,\"#d8576b\"],[0.6666666666666666,\"#ed7953\"],[0.7777777777777778,\"#fb9f3a\"],[0.8888888888888888,\"#fdca26\"],[1.0,\"#f0f921\"]],\"type\":\"heatmapgl\"}],\"heatmap\":[{\"colorbar\":{\"outlinewidth\":0,\"ticks\":\"\"},\"colorscale\":[[0.0,\"#0d0887\"],[0.1111111111111111,\"#46039f\"],[0.2222222222222222,\"#7201a8\"],[0.3333333333333333,\"#9c179e\"],[0.4444444444444444,\"#bd3786\"],[0.5555555555555556,\"#d8576b\"],[0.6666666666666666,\"#ed7953\"],[0.7777777777777778,\"#fb9f3a\"],[0.8888888888888888,\"#fdca26\"],[1.0,\"#f0f921\"]],\"type\":\"heatmap\"}],\"histogram2dcontour\":[{\"colorbar\":{\"outlinewidth\":0,\"ticks\":\"\"},\"colorscale\":[[0.0,\"#0d0887\"],[0.1111111111111111,\"#46039f\"],[0.2222222222222222,\"#7201a8\"],[0.3333333333333333,\"#9c179e\"],[0.4444444444444444,\"#bd3786\"],[0.5555555555555556,\"#d8576b\"],[0.6666666666666666,\"#ed7953\"],[0.7777777777777778,\"#fb9f3a\"],[0.8888888888888888,\"#fdca26\"],[1.0,\"#f0f921\"]],\"type\":\"histogram2dcontour\"}],\"histogram2d\":[{\"colorbar\":{\"outlinewidth\":0,\"ticks\":\"\"},\"colorscale\":[[0.0,\"#0d0887\"],[0.1111111111111111,\"#46039f\"],[0.2222222222222222,\"#7201a8\"],[0.3333333333333333,\"#9c179e\"],[0.4444444444444444,\"#bd3786\"],[0.5555555555555556,\"#d8576b\"],[0.6666666666666666,\"#ed7953\"],[0.7777777777777778,\"#fb9f3a\"],[0.8888888888888888,\"#fdca26\"],[1.0,\"#f0f921\"]],\"type\":\"histogram2d\"}],\"histogram\":[{\"marker\":{\"pattern\":{\"fillmode\":\"overlay\",\"size\":10,\"solidity\":0.2}},\"type\":\"histogram\"}],\"mesh3d\":[{\"colorbar\":{\"outlinewidth\":0,\"ticks\":\"\"},\"type\":\"mesh3d\"}],\"parcoords\":[{\"line\":{\"colorbar\":{\"outlinewidth\":0,\"ticks\":\"\"}},\"type\":\"parcoords\"}],\"pie\":[{\"automargin\":true,\"type\":\"pie\"}],\"scatter3d\":[{\"line\":{\"colorbar\":{\"outlinewidth\":0,\"ticks\":\"\"}},\"marker\":{\"colorbar\":{\"outlinewidth\":0,\"ticks\":\"\"}},\"type\":\"scatter3d\"}],\"scattercarpet\":[{\"marker\":{\"colorbar\":{\"outlinewidth\":0,\"ticks\":\"\"}},\"type\":\"scattercarpet\"}],\"scattergeo\":[{\"marker\":{\"colorbar\":{\"outlinewidth\":0,\"ticks\":\"\"}},\"type\":\"scattergeo\"}],\"scattergl\":[{\"marker\":{\"colorbar\":{\"outlinewidth\":0,\"ticks\":\"\"}},\"type\":\"scattergl\"}],\"scattermapbox\":[{\"marker\":{\"colorbar\":{\"outlinewidth\":0,\"ticks\":\"\"}},\"type\":\"scattermapbox\"}],\"scatterpolargl\":[{\"marker\":{\"colorbar\":{\"outlinewidth\":0,\"ticks\":\"\"}},\"type\":\"scatterpolargl\"}],\"scatterpolar\":[{\"marker\":{\"colorbar\":{\"outlinewidth\":0,\"ticks\":\"\"}},\"type\":\"scatterpolar\"}],\"scatter\":[{\"fillpattern\":{\"fillmode\":\"overlay\",\"size\":10,\"solidity\":0.2},\"type\":\"scatter\"}],\"scatterternary\":[{\"marker\":{\"colorbar\":{\"outlinewidth\":0,\"ticks\":\"\"}},\"type\":\"scatterternary\"}],\"surface\":[{\"colorbar\":{\"outlinewidth\":0,\"ticks\":\"\"},\"colorscale\":[[0.0,\"#0d0887\"],[0.1111111111111111,\"#46039f\"],[0.2222222222222222,\"#7201a8\"],[0.3333333333333333,\"#9c179e\"],[0.4444444444444444,\"#bd3786\"],[0.5555555555555556,\"#d8576b\"],[0.6666666666666666,\"#ed7953\"],[0.7777777777777778,\"#fb9f3a\"],[0.8888888888888888,\"#fdca26\"],[1.0,\"#f0f921\"]],\"type\":\"surface\"}],\"table\":[{\"cells\":{\"fill\":{\"color\":\"#EBF0F8\"},\"line\":{\"color\":\"white\"}},\"header\":{\"fill\":{\"color\":\"#C8D4E3\"},\"line\":{\"color\":\"white\"}},\"type\":\"table\"}]},\"layout\":{\"annotationdefaults\":{\"arrowcolor\":\"#2a3f5f\",\"arrowhead\":0,\"arrowwidth\":1},\"autotypenumbers\":\"strict\",\"coloraxis\":{\"colorbar\":{\"outlinewidth\":0,\"ticks\":\"\"}},\"colorscale\":{\"diverging\":[[0,\"#8e0152\"],[0.1,\"#c51b7d\"],[0.2,\"#de77ae\"],[0.3,\"#f1b6da\"],[0.4,\"#fde0ef\"],[0.5,\"#f7f7f7\"],[0.6,\"#e6f5d0\"],[0.7,\"#b8e186\"],[0.8,\"#7fbc41\"],[0.9,\"#4d9221\"],[1,\"#276419\"]],\"sequential\":[[0.0,\"#0d0887\"],[0.1111111111111111,\"#46039f\"],[0.2222222222222222,\"#7201a8\"],[0.3333333333333333,\"#9c179e\"],[0.4444444444444444,\"#bd3786\"],[0.5555555555555556,\"#d8576b\"],[0.6666666666666666,\"#ed7953\"],[0.7777777777777778,\"#fb9f3a\"],[0.8888888888888888,\"#fdca26\"],[1.0,\"#f0f921\"]],\"sequentialminus\":[[0.0,\"#0d0887\"],[0.1111111111111111,\"#46039f\"],[0.2222222222222222,\"#7201a8\"],[0.3333333333333333,\"#9c179e\"],[0.4444444444444444,\"#bd3786\"],[0.5555555555555556,\"#d8576b\"],[0.6666666666666666,\"#ed7953\"],[0.7777777777777778,\"#fb9f3a\"],[0.8888888888888888,\"#fdca26\"],[1.0,\"#f0f921\"]]},\"colorway\":[\"#636efa\",\"#EF553B\",\"#00cc96\",\"#ab63fa\",\"#FFA15A\",\"#19d3f3\",\"#FF6692\",\"#B6E880\",\"#FF97FF\",\"#FECB52\"],\"font\":{\"color\":\"#2a3f5f\"},\"geo\":{\"bgcolor\":\"white\",\"lakecolor\":\"white\",\"landcolor\":\"#E5ECF6\",\"showlakes\":true,\"showland\":true,\"subunitcolor\":\"white\"},\"hoverlabel\":{\"align\":\"left\"},\"hovermode\":\"closest\",\"mapbox\":{\"style\":\"light\"},\"paper_bgcolor\":\"white\",\"plot_bgcolor\":\"#E5ECF6\",\"polar\":{\"angularaxis\":{\"gridcolor\":\"white\",\"linecolor\":\"white\",\"ticks\":\"\"},\"bgcolor\":\"#E5ECF6\",\"radialaxis\":{\"gridcolor\":\"white\",\"linecolor\":\"white\",\"ticks\":\"\"}},\"scene\":{\"xaxis\":{\"backgroundcolor\":\"#E5ECF6\",\"gridcolor\":\"white\",\"gridwidth\":2,\"linecolor\":\"white\",\"showbackground\":true,\"ticks\":\"\",\"zerolinecolor\":\"white\"},\"yaxis\":{\"backgroundcolor\":\"#E5ECF6\",\"gridcolor\":\"white\",\"gridwidth\":2,\"linecolor\":\"white\",\"showbackground\":true,\"ticks\":\"\",\"zerolinecolor\":\"white\"},\"zaxis\":{\"backgroundcolor\":\"#E5ECF6\",\"gridcolor\":\"white\",\"gridwidth\":2,\"linecolor\":\"white\",\"showbackground\":true,\"ticks\":\"\",\"zerolinecolor\":\"white\"}},\"shapedefaults\":{\"line\":{\"color\":\"#2a3f5f\"}},\"ternary\":{\"aaxis\":{\"gridcolor\":\"white\",\"linecolor\":\"white\",\"ticks\":\"\"},\"baxis\":{\"gridcolor\":\"white\",\"linecolor\":\"white\",\"ticks\":\"\"},\"bgcolor\":\"#E5ECF6\",\"caxis\":{\"gridcolor\":\"white\",\"linecolor\":\"white\",\"ticks\":\"\"}},\"title\":{\"x\":0.05},\"xaxis\":{\"automargin\":true,\"gridcolor\":\"white\",\"linecolor\":\"white\",\"ticks\":\"\",\"title\":{\"standoff\":15},\"zerolinecolor\":\"white\",\"zerolinewidth\":2},\"yaxis\":{\"automargin\":true,\"gridcolor\":\"white\",\"linecolor\":\"white\",\"ticks\":\"\",\"title\":{\"standoff\":15},\"zerolinecolor\":\"white\",\"zerolinewidth\":2}}},\"title\":{\"text\":\"Label distribution\"}},                        {\"responsive\": true}                    ).then(function(){\n",
       "                            \n",
       "var gd = document.getElementById('93bb3e4a-31e2-440a-aedc-6fa8b32d8bd1');\n",
       "var x = new MutationObserver(function (mutations, observer) {{\n",
       "        var display = window.getComputedStyle(gd).display;\n",
       "        if (!display || display === 'none') {{\n",
       "            console.log([gd, 'removed!']);\n",
       "            Plotly.purge(gd);\n",
       "            observer.disconnect();\n",
       "        }}\n",
       "}});\n",
       "\n",
       "// Listen for the removal of the full notebook cells\n",
       "var notebookContainer = gd.closest('#notebook-container');\n",
       "if (notebookContainer) {{\n",
       "    x.observe(notebookContainer, {childList: true});\n",
       "}}\n",
       "\n",
       "// Listen for the clearing of the current output cell\n",
       "var outputEl = gd.closest('.output');\n",
       "if (outputEl) {{\n",
       "    x.observe(outputEl, {childList: true});\n",
       "}}\n",
       "\n",
       "                        })                };                });            </script>        </div>"
      ]
     },
     "metadata": {},
     "output_type": "display_data"
    }
   ],
   "source": [
    "data = [go.Bar(\n",
    "            x = df['class'].unique(),\n",
    "            y = df['class'].value_counts().values,\n",
    "            marker= dict(color = df['class'].value_counts().values),\n",
    "            text='Text entries attributed to class')]\n",
    "\n",
    "layout = go.Layout(title='Label distribution')\n",
    "fig = go.Figure(data=data, layout=layout)\n",
    "py.iplot(fig, filename='basic-bar')"
   ]
  },
  {
   "cell_type": "code",
   "execution_count": 9,
   "id": "12cf5885",
   "metadata": {},
   "outputs": [
    {
     "data": {
      "application/vnd.plotly.v1+json": {
       "config": {
        "linkText": "Export to plot.ly",
        "plotlyServerURL": "https://plot.ly",
        "showLink": false
       },
       "data": [
        {
         "marker": {
          "color": [
           3055,
           3043,
           2931,
           2661,
           2413,
           2356,
           2347,
           2083,
           1879,
           1706,
           1559,
           1542,
           1484,
           1440,
           1415,
           1352,
           1319,
           1281,
           1262,
           1245,
           1217,
           1087,
           1049,
           992,
           982,
           966,
           948,
           926,
           925,
           896,
           891,
           872,
           868,
           832,
           829,
           824,
           816,
           809,
           792,
           759,
           754,
           744,
           730,
           708,
           699,
           693,
           657,
           651,
           647,
           645,
           639,
           621,
           613,
           597,
           588,
           585,
           582,
           581,
           575,
           575,
           572,
           563,
           558,
           542,
           541,
           530,
           526,
           524,
           516,
           515,
           514,
           508,
           481,
           454,
           443,
           434,
           429,
           423,
           423,
           420,
           419,
           407,
           403,
           399,
           397,
           396,
           394,
           393,
           393,
           393
          ],
          "colorscale": [
           [
            0,
            "rgb(0,0,131)"
           ],
           [
            0.2,
            "rgb(0,60,170)"
           ],
           [
            0.4,
            "rgb(5,255,255)"
           ],
           [
            0.6,
            "rgb(255,255,0)"
           ],
           [
            0.8,
            "rgb(250,0,0)"
           ],
           [
            1,
            "rgb(128,0,0)"
           ]
          ]
         },
         "type": "bar",
         "x": [
          "The",
          "that",
          "car",
          "with",
          "on",
          "have",
          "you",
          "this",
          "was",
          "my",
          "are",
          "but",
          "s",
          "Ford",
          "not",
          "t",
          "has",
          "as",
          "It",
          "be",
          "had",
          "at",
          "very",
          "or",
          "can",
          "all",
          "like",
          "truck",
          "about",
          "we",
          "an",
          "up",
          "one",
          "vehicle",
          "out",
          "more",
          "so",
          "when",
          "drive",
          "would"
         ],
         "y": [
          3055,
          3043,
          2931,
          2661,
          2413,
          2356,
          2347,
          2083,
          1879,
          1706,
          1559,
          1542,
          1484,
          1440,
          1415,
          1352,
          1319,
          1281,
          1262,
          1245,
          1217,
          1087,
          1049,
          992,
          982,
          966,
          948,
          926,
          925,
          896,
          891,
          872,
          868,
          832,
          829,
          824,
          816,
          809,
          792,
          759
         ]
        }
       ],
       "layout": {
        "template": {
         "data": {
          "bar": [
           {
            "error_x": {
             "color": "#2a3f5f"
            },
            "error_y": {
             "color": "#2a3f5f"
            },
            "marker": {
             "line": {
              "color": "#E5ECF6",
              "width": 0.5
             },
             "pattern": {
              "fillmode": "overlay",
              "size": 10,
              "solidity": 0.2
             }
            },
            "type": "bar"
           }
          ],
          "barpolar": [
           {
            "marker": {
             "line": {
              "color": "#E5ECF6",
              "width": 0.5
             },
             "pattern": {
              "fillmode": "overlay",
              "size": 10,
              "solidity": 0.2
             }
            },
            "type": "barpolar"
           }
          ],
          "carpet": [
           {
            "aaxis": {
             "endlinecolor": "#2a3f5f",
             "gridcolor": "white",
             "linecolor": "white",
             "minorgridcolor": "white",
             "startlinecolor": "#2a3f5f"
            },
            "baxis": {
             "endlinecolor": "#2a3f5f",
             "gridcolor": "white",
             "linecolor": "white",
             "minorgridcolor": "white",
             "startlinecolor": "#2a3f5f"
            },
            "type": "carpet"
           }
          ],
          "choropleth": [
           {
            "colorbar": {
             "outlinewidth": 0,
             "ticks": ""
            },
            "type": "choropleth"
           }
          ],
          "contour": [
           {
            "colorbar": {
             "outlinewidth": 0,
             "ticks": ""
            },
            "colorscale": [
             [
              0,
              "#0d0887"
             ],
             [
              0.1111111111111111,
              "#46039f"
             ],
             [
              0.2222222222222222,
              "#7201a8"
             ],
             [
              0.3333333333333333,
              "#9c179e"
             ],
             [
              0.4444444444444444,
              "#bd3786"
             ],
             [
              0.5555555555555556,
              "#d8576b"
             ],
             [
              0.6666666666666666,
              "#ed7953"
             ],
             [
              0.7777777777777778,
              "#fb9f3a"
             ],
             [
              0.8888888888888888,
              "#fdca26"
             ],
             [
              1,
              "#f0f921"
             ]
            ],
            "type": "contour"
           }
          ],
          "contourcarpet": [
           {
            "colorbar": {
             "outlinewidth": 0,
             "ticks": ""
            },
            "type": "contourcarpet"
           }
          ],
          "heatmap": [
           {
            "colorbar": {
             "outlinewidth": 0,
             "ticks": ""
            },
            "colorscale": [
             [
              0,
              "#0d0887"
             ],
             [
              0.1111111111111111,
              "#46039f"
             ],
             [
              0.2222222222222222,
              "#7201a8"
             ],
             [
              0.3333333333333333,
              "#9c179e"
             ],
             [
              0.4444444444444444,
              "#bd3786"
             ],
             [
              0.5555555555555556,
              "#d8576b"
             ],
             [
              0.6666666666666666,
              "#ed7953"
             ],
             [
              0.7777777777777778,
              "#fb9f3a"
             ],
             [
              0.8888888888888888,
              "#fdca26"
             ],
             [
              1,
              "#f0f921"
             ]
            ],
            "type": "heatmap"
           }
          ],
          "heatmapgl": [
           {
            "colorbar": {
             "outlinewidth": 0,
             "ticks": ""
            },
            "colorscale": [
             [
              0,
              "#0d0887"
             ],
             [
              0.1111111111111111,
              "#46039f"
             ],
             [
              0.2222222222222222,
              "#7201a8"
             ],
             [
              0.3333333333333333,
              "#9c179e"
             ],
             [
              0.4444444444444444,
              "#bd3786"
             ],
             [
              0.5555555555555556,
              "#d8576b"
             ],
             [
              0.6666666666666666,
              "#ed7953"
             ],
             [
              0.7777777777777778,
              "#fb9f3a"
             ],
             [
              0.8888888888888888,
              "#fdca26"
             ],
             [
              1,
              "#f0f921"
             ]
            ],
            "type": "heatmapgl"
           }
          ],
          "histogram": [
           {
            "marker": {
             "pattern": {
              "fillmode": "overlay",
              "size": 10,
              "solidity": 0.2
             }
            },
            "type": "histogram"
           }
          ],
          "histogram2d": [
           {
            "colorbar": {
             "outlinewidth": 0,
             "ticks": ""
            },
            "colorscale": [
             [
              0,
              "#0d0887"
             ],
             [
              0.1111111111111111,
              "#46039f"
             ],
             [
              0.2222222222222222,
              "#7201a8"
             ],
             [
              0.3333333333333333,
              "#9c179e"
             ],
             [
              0.4444444444444444,
              "#bd3786"
             ],
             [
              0.5555555555555556,
              "#d8576b"
             ],
             [
              0.6666666666666666,
              "#ed7953"
             ],
             [
              0.7777777777777778,
              "#fb9f3a"
             ],
             [
              0.8888888888888888,
              "#fdca26"
             ],
             [
              1,
              "#f0f921"
             ]
            ],
            "type": "histogram2d"
           }
          ],
          "histogram2dcontour": [
           {
            "colorbar": {
             "outlinewidth": 0,
             "ticks": ""
            },
            "colorscale": [
             [
              0,
              "#0d0887"
             ],
             [
              0.1111111111111111,
              "#46039f"
             ],
             [
              0.2222222222222222,
              "#7201a8"
             ],
             [
              0.3333333333333333,
              "#9c179e"
             ],
             [
              0.4444444444444444,
              "#bd3786"
             ],
             [
              0.5555555555555556,
              "#d8576b"
             ],
             [
              0.6666666666666666,
              "#ed7953"
             ],
             [
              0.7777777777777778,
              "#fb9f3a"
             ],
             [
              0.8888888888888888,
              "#fdca26"
             ],
             [
              1,
              "#f0f921"
             ]
            ],
            "type": "histogram2dcontour"
           }
          ],
          "mesh3d": [
           {
            "colorbar": {
             "outlinewidth": 0,
             "ticks": ""
            },
            "type": "mesh3d"
           }
          ],
          "parcoords": [
           {
            "line": {
             "colorbar": {
              "outlinewidth": 0,
              "ticks": ""
             }
            },
            "type": "parcoords"
           }
          ],
          "pie": [
           {
            "automargin": true,
            "type": "pie"
           }
          ],
          "scatter": [
           {
            "fillpattern": {
             "fillmode": "overlay",
             "size": 10,
             "solidity": 0.2
            },
            "type": "scatter"
           }
          ],
          "scatter3d": [
           {
            "line": {
             "colorbar": {
              "outlinewidth": 0,
              "ticks": ""
             }
            },
            "marker": {
             "colorbar": {
              "outlinewidth": 0,
              "ticks": ""
             }
            },
            "type": "scatter3d"
           }
          ],
          "scattercarpet": [
           {
            "marker": {
             "colorbar": {
              "outlinewidth": 0,
              "ticks": ""
             }
            },
            "type": "scattercarpet"
           }
          ],
          "scattergeo": [
           {
            "marker": {
             "colorbar": {
              "outlinewidth": 0,
              "ticks": ""
             }
            },
            "type": "scattergeo"
           }
          ],
          "scattergl": [
           {
            "marker": {
             "colorbar": {
              "outlinewidth": 0,
              "ticks": ""
             }
            },
            "type": "scattergl"
           }
          ],
          "scattermapbox": [
           {
            "marker": {
             "colorbar": {
              "outlinewidth": 0,
              "ticks": ""
             }
            },
            "type": "scattermapbox"
           }
          ],
          "scatterpolar": [
           {
            "marker": {
             "colorbar": {
              "outlinewidth": 0,
              "ticks": ""
             }
            },
            "type": "scatterpolar"
           }
          ],
          "scatterpolargl": [
           {
            "marker": {
             "colorbar": {
              "outlinewidth": 0,
              "ticks": ""
             }
            },
            "type": "scatterpolargl"
           }
          ],
          "scatterternary": [
           {
            "marker": {
             "colorbar": {
              "outlinewidth": 0,
              "ticks": ""
             }
            },
            "type": "scatterternary"
           }
          ],
          "surface": [
           {
            "colorbar": {
             "outlinewidth": 0,
             "ticks": ""
            },
            "colorscale": [
             [
              0,
              "#0d0887"
             ],
             [
              0.1111111111111111,
              "#46039f"
             ],
             [
              0.2222222222222222,
              "#7201a8"
             ],
             [
              0.3333333333333333,
              "#9c179e"
             ],
             [
              0.4444444444444444,
              "#bd3786"
             ],
             [
              0.5555555555555556,
              "#d8576b"
             ],
             [
              0.6666666666666666,
              "#ed7953"
             ],
             [
              0.7777777777777778,
              "#fb9f3a"
             ],
             [
              0.8888888888888888,
              "#fdca26"
             ],
             [
              1,
              "#f0f921"
             ]
            ],
            "type": "surface"
           }
          ],
          "table": [
           {
            "cells": {
             "fill": {
              "color": "#EBF0F8"
             },
             "line": {
              "color": "white"
             }
            },
            "header": {
             "fill": {
              "color": "#C8D4E3"
             },
             "line": {
              "color": "white"
             }
            },
            "type": "table"
           }
          ]
         },
         "layout": {
          "annotationdefaults": {
           "arrowcolor": "#2a3f5f",
           "arrowhead": 0,
           "arrowwidth": 1
          },
          "autotypenumbers": "strict",
          "coloraxis": {
           "colorbar": {
            "outlinewidth": 0,
            "ticks": ""
           }
          },
          "colorscale": {
           "diverging": [
            [
             0,
             "#8e0152"
            ],
            [
             0.1,
             "#c51b7d"
            ],
            [
             0.2,
             "#de77ae"
            ],
            [
             0.3,
             "#f1b6da"
            ],
            [
             0.4,
             "#fde0ef"
            ],
            [
             0.5,
             "#f7f7f7"
            ],
            [
             0.6,
             "#e6f5d0"
            ],
            [
             0.7,
             "#b8e186"
            ],
            [
             0.8,
             "#7fbc41"
            ],
            [
             0.9,
             "#4d9221"
            ],
            [
             1,
             "#276419"
            ]
           ],
           "sequential": [
            [
             0,
             "#0d0887"
            ],
            [
             0.1111111111111111,
             "#46039f"
            ],
            [
             0.2222222222222222,
             "#7201a8"
            ],
            [
             0.3333333333333333,
             "#9c179e"
            ],
            [
             0.4444444444444444,
             "#bd3786"
            ],
            [
             0.5555555555555556,
             "#d8576b"
            ],
            [
             0.6666666666666666,
             "#ed7953"
            ],
            [
             0.7777777777777778,
             "#fb9f3a"
            ],
            [
             0.8888888888888888,
             "#fdca26"
            ],
            [
             1,
             "#f0f921"
            ]
           ],
           "sequentialminus": [
            [
             0,
             "#0d0887"
            ],
            [
             0.1111111111111111,
             "#46039f"
            ],
            [
             0.2222222222222222,
             "#7201a8"
            ],
            [
             0.3333333333333333,
             "#9c179e"
            ],
            [
             0.4444444444444444,
             "#bd3786"
            ],
            [
             0.5555555555555556,
             "#d8576b"
            ],
            [
             0.6666666666666666,
             "#ed7953"
            ],
            [
             0.7777777777777778,
             "#fb9f3a"
            ],
            [
             0.8888888888888888,
             "#fdca26"
            ],
            [
             1,
             "#f0f921"
            ]
           ]
          },
          "colorway": [
           "#636efa",
           "#EF553B",
           "#00cc96",
           "#ab63fa",
           "#FFA15A",
           "#19d3f3",
           "#FF6692",
           "#B6E880",
           "#FF97FF",
           "#FECB52"
          ],
          "font": {
           "color": "#2a3f5f"
          },
          "geo": {
           "bgcolor": "white",
           "lakecolor": "white",
           "landcolor": "#E5ECF6",
           "showlakes": true,
           "showland": true,
           "subunitcolor": "white"
          },
          "hoverlabel": {
           "align": "left"
          },
          "hovermode": "closest",
          "mapbox": {
           "style": "light"
          },
          "paper_bgcolor": "white",
          "plot_bgcolor": "#E5ECF6",
          "polar": {
           "angularaxis": {
            "gridcolor": "white",
            "linecolor": "white",
            "ticks": ""
           },
           "bgcolor": "#E5ECF6",
           "radialaxis": {
            "gridcolor": "white",
            "linecolor": "white",
            "ticks": ""
           }
          },
          "scene": {
           "xaxis": {
            "backgroundcolor": "#E5ECF6",
            "gridcolor": "white",
            "gridwidth": 2,
            "linecolor": "white",
            "showbackground": true,
            "ticks": "",
            "zerolinecolor": "white"
           },
           "yaxis": {
            "backgroundcolor": "#E5ECF6",
            "gridcolor": "white",
            "gridwidth": 2,
            "linecolor": "white",
            "showbackground": true,
            "ticks": "",
            "zerolinecolor": "white"
           },
           "zaxis": {
            "backgroundcolor": "#E5ECF6",
            "gridcolor": "white",
            "gridwidth": 2,
            "linecolor": "white",
            "showbackground": true,
            "ticks": "",
            "zerolinecolor": "white"
           }
          },
          "shapedefaults": {
           "line": {
            "color": "#2a3f5f"
           }
          },
          "ternary": {
           "aaxis": {
            "gridcolor": "white",
            "linecolor": "white",
            "ticks": ""
           },
           "baxis": {
            "gridcolor": "white",
            "linecolor": "white",
            "ticks": ""
           },
           "bgcolor": "#E5ECF6",
           "caxis": {
            "gridcolor": "white",
            "linecolor": "white",
            "ticks": ""
           }
          },
          "title": {
           "x": 0.05
          },
          "xaxis": {
           "automargin": true,
           "gridcolor": "white",
           "linecolor": "white",
           "ticks": "",
           "title": {
            "standoff": 15
           },
           "zerolinecolor": "white",
           "zerolinewidth": 2
          },
          "yaxis": {
           "automargin": true,
           "gridcolor": "white",
           "linecolor": "white",
           "ticks": "",
           "title": {
            "standoff": 15
           },
           "zerolinecolor": "white",
           "zerolinewidth": 2
          }
         }
        },
        "title": {
         "text": "Top 50 (Uncleaned) Word frequencies in the Pos dataset"
        }
       }
      },
      "text/html": [
       "<div>                            <div id=\"eb513096-1289-4f19-8b6a-dd94e2961dde\" class=\"plotly-graph-div\" style=\"height:525px; width:100%;\"></div>            <script type=\"text/javascript\">                require([\"plotly\"], function(Plotly) {                    window.PLOTLYENV=window.PLOTLYENV || {};                                    if (document.getElementById(\"eb513096-1289-4f19-8b6a-dd94e2961dde\")) {                    Plotly.newPlot(                        \"eb513096-1289-4f19-8b6a-dd94e2961dde\",                        [{\"marker\":{\"color\":[3055,3043,2931,2661,2413,2356,2347,2083,1879,1706,1559,1542,1484,1440,1415,1352,1319,1281,1262,1245,1217,1087,1049,992,982,966,948,926,925,896,891,872,868,832,829,824,816,809,792,759,754,744,730,708,699,693,657,651,647,645,639,621,613,597,588,585,582,581,575,575,572,563,558,542,541,530,526,524,516,515,514,508,481,454,443,434,429,423,423,420,419,407,403,399,397,396,394,393,393,393],\"colorscale\":[[0.0,\"rgb(0,0,131)\"],[0.2,\"rgb(0,60,170)\"],[0.4,\"rgb(5,255,255)\"],[0.6,\"rgb(255,255,0)\"],[0.8,\"rgb(250,0,0)\"],[1.0,\"rgb(128,0,0)\"]]},\"x\":[\"The\",\"that\",\"car\",\"with\",\"on\",\"have\",\"you\",\"this\",\"was\",\"my\",\"are\",\"but\",\"s\",\"Ford\",\"not\",\"t\",\"has\",\"as\",\"It\",\"be\",\"had\",\"at\",\"very\",\"or\",\"can\",\"all\",\"like\",\"truck\",\"about\",\"we\",\"an\",\"up\",\"one\",\"vehicle\",\"out\",\"more\",\"so\",\"when\",\"drive\",\"would\"],\"y\":[3055,3043,2931,2661,2413,2356,2347,2083,1879,1706,1559,1542,1484,1440,1415,1352,1319,1281,1262,1245,1217,1087,1049,992,982,966,948,926,925,896,891,872,868,832,829,824,816,809,792,759],\"type\":\"bar\"}],                        {\"template\":{\"data\":{\"barpolar\":[{\"marker\":{\"line\":{\"color\":\"#E5ECF6\",\"width\":0.5},\"pattern\":{\"fillmode\":\"overlay\",\"size\":10,\"solidity\":0.2}},\"type\":\"barpolar\"}],\"bar\":[{\"error_x\":{\"color\":\"#2a3f5f\"},\"error_y\":{\"color\":\"#2a3f5f\"},\"marker\":{\"line\":{\"color\":\"#E5ECF6\",\"width\":0.5},\"pattern\":{\"fillmode\":\"overlay\",\"size\":10,\"solidity\":0.2}},\"type\":\"bar\"}],\"carpet\":[{\"aaxis\":{\"endlinecolor\":\"#2a3f5f\",\"gridcolor\":\"white\",\"linecolor\":\"white\",\"minorgridcolor\":\"white\",\"startlinecolor\":\"#2a3f5f\"},\"baxis\":{\"endlinecolor\":\"#2a3f5f\",\"gridcolor\":\"white\",\"linecolor\":\"white\",\"minorgridcolor\":\"white\",\"startlinecolor\":\"#2a3f5f\"},\"type\":\"carpet\"}],\"choropleth\":[{\"colorbar\":{\"outlinewidth\":0,\"ticks\":\"\"},\"type\":\"choropleth\"}],\"contourcarpet\":[{\"colorbar\":{\"outlinewidth\":0,\"ticks\":\"\"},\"type\":\"contourcarpet\"}],\"contour\":[{\"colorbar\":{\"outlinewidth\":0,\"ticks\":\"\"},\"colorscale\":[[0.0,\"#0d0887\"],[0.1111111111111111,\"#46039f\"],[0.2222222222222222,\"#7201a8\"],[0.3333333333333333,\"#9c179e\"],[0.4444444444444444,\"#bd3786\"],[0.5555555555555556,\"#d8576b\"],[0.6666666666666666,\"#ed7953\"],[0.7777777777777778,\"#fb9f3a\"],[0.8888888888888888,\"#fdca26\"],[1.0,\"#f0f921\"]],\"type\":\"contour\"}],\"heatmapgl\":[{\"colorbar\":{\"outlinewidth\":0,\"ticks\":\"\"},\"colorscale\":[[0.0,\"#0d0887\"],[0.1111111111111111,\"#46039f\"],[0.2222222222222222,\"#7201a8\"],[0.3333333333333333,\"#9c179e\"],[0.4444444444444444,\"#bd3786\"],[0.5555555555555556,\"#d8576b\"],[0.6666666666666666,\"#ed7953\"],[0.7777777777777778,\"#fb9f3a\"],[0.8888888888888888,\"#fdca26\"],[1.0,\"#f0f921\"]],\"type\":\"heatmapgl\"}],\"heatmap\":[{\"colorbar\":{\"outlinewidth\":0,\"ticks\":\"\"},\"colorscale\":[[0.0,\"#0d0887\"],[0.1111111111111111,\"#46039f\"],[0.2222222222222222,\"#7201a8\"],[0.3333333333333333,\"#9c179e\"],[0.4444444444444444,\"#bd3786\"],[0.5555555555555556,\"#d8576b\"],[0.6666666666666666,\"#ed7953\"],[0.7777777777777778,\"#fb9f3a\"],[0.8888888888888888,\"#fdca26\"],[1.0,\"#f0f921\"]],\"type\":\"heatmap\"}],\"histogram2dcontour\":[{\"colorbar\":{\"outlinewidth\":0,\"ticks\":\"\"},\"colorscale\":[[0.0,\"#0d0887\"],[0.1111111111111111,\"#46039f\"],[0.2222222222222222,\"#7201a8\"],[0.3333333333333333,\"#9c179e\"],[0.4444444444444444,\"#bd3786\"],[0.5555555555555556,\"#d8576b\"],[0.6666666666666666,\"#ed7953\"],[0.7777777777777778,\"#fb9f3a\"],[0.8888888888888888,\"#fdca26\"],[1.0,\"#f0f921\"]],\"type\":\"histogram2dcontour\"}],\"histogram2d\":[{\"colorbar\":{\"outlinewidth\":0,\"ticks\":\"\"},\"colorscale\":[[0.0,\"#0d0887\"],[0.1111111111111111,\"#46039f\"],[0.2222222222222222,\"#7201a8\"],[0.3333333333333333,\"#9c179e\"],[0.4444444444444444,\"#bd3786\"],[0.5555555555555556,\"#d8576b\"],[0.6666666666666666,\"#ed7953\"],[0.7777777777777778,\"#fb9f3a\"],[0.8888888888888888,\"#fdca26\"],[1.0,\"#f0f921\"]],\"type\":\"histogram2d\"}],\"histogram\":[{\"marker\":{\"pattern\":{\"fillmode\":\"overlay\",\"size\":10,\"solidity\":0.2}},\"type\":\"histogram\"}],\"mesh3d\":[{\"colorbar\":{\"outlinewidth\":0,\"ticks\":\"\"},\"type\":\"mesh3d\"}],\"parcoords\":[{\"line\":{\"colorbar\":{\"outlinewidth\":0,\"ticks\":\"\"}},\"type\":\"parcoords\"}],\"pie\":[{\"automargin\":true,\"type\":\"pie\"}],\"scatter3d\":[{\"line\":{\"colorbar\":{\"outlinewidth\":0,\"ticks\":\"\"}},\"marker\":{\"colorbar\":{\"outlinewidth\":0,\"ticks\":\"\"}},\"type\":\"scatter3d\"}],\"scattercarpet\":[{\"marker\":{\"colorbar\":{\"outlinewidth\":0,\"ticks\":\"\"}},\"type\":\"scattercarpet\"}],\"scattergeo\":[{\"marker\":{\"colorbar\":{\"outlinewidth\":0,\"ticks\":\"\"}},\"type\":\"scattergeo\"}],\"scattergl\":[{\"marker\":{\"colorbar\":{\"outlinewidth\":0,\"ticks\":\"\"}},\"type\":\"scattergl\"}],\"scattermapbox\":[{\"marker\":{\"colorbar\":{\"outlinewidth\":0,\"ticks\":\"\"}},\"type\":\"scattermapbox\"}],\"scatterpolargl\":[{\"marker\":{\"colorbar\":{\"outlinewidth\":0,\"ticks\":\"\"}},\"type\":\"scatterpolargl\"}],\"scatterpolar\":[{\"marker\":{\"colorbar\":{\"outlinewidth\":0,\"ticks\":\"\"}},\"type\":\"scatterpolar\"}],\"scatter\":[{\"fillpattern\":{\"fillmode\":\"overlay\",\"size\":10,\"solidity\":0.2},\"type\":\"scatter\"}],\"scatterternary\":[{\"marker\":{\"colorbar\":{\"outlinewidth\":0,\"ticks\":\"\"}},\"type\":\"scatterternary\"}],\"surface\":[{\"colorbar\":{\"outlinewidth\":0,\"ticks\":\"\"},\"colorscale\":[[0.0,\"#0d0887\"],[0.1111111111111111,\"#46039f\"],[0.2222222222222222,\"#7201a8\"],[0.3333333333333333,\"#9c179e\"],[0.4444444444444444,\"#bd3786\"],[0.5555555555555556,\"#d8576b\"],[0.6666666666666666,\"#ed7953\"],[0.7777777777777778,\"#fb9f3a\"],[0.8888888888888888,\"#fdca26\"],[1.0,\"#f0f921\"]],\"type\":\"surface\"}],\"table\":[{\"cells\":{\"fill\":{\"color\":\"#EBF0F8\"},\"line\":{\"color\":\"white\"}},\"header\":{\"fill\":{\"color\":\"#C8D4E3\"},\"line\":{\"color\":\"white\"}},\"type\":\"table\"}]},\"layout\":{\"annotationdefaults\":{\"arrowcolor\":\"#2a3f5f\",\"arrowhead\":0,\"arrowwidth\":1},\"autotypenumbers\":\"strict\",\"coloraxis\":{\"colorbar\":{\"outlinewidth\":0,\"ticks\":\"\"}},\"colorscale\":{\"diverging\":[[0,\"#8e0152\"],[0.1,\"#c51b7d\"],[0.2,\"#de77ae\"],[0.3,\"#f1b6da\"],[0.4,\"#fde0ef\"],[0.5,\"#f7f7f7\"],[0.6,\"#e6f5d0\"],[0.7,\"#b8e186\"],[0.8,\"#7fbc41\"],[0.9,\"#4d9221\"],[1,\"#276419\"]],\"sequential\":[[0.0,\"#0d0887\"],[0.1111111111111111,\"#46039f\"],[0.2222222222222222,\"#7201a8\"],[0.3333333333333333,\"#9c179e\"],[0.4444444444444444,\"#bd3786\"],[0.5555555555555556,\"#d8576b\"],[0.6666666666666666,\"#ed7953\"],[0.7777777777777778,\"#fb9f3a\"],[0.8888888888888888,\"#fdca26\"],[1.0,\"#f0f921\"]],\"sequentialminus\":[[0.0,\"#0d0887\"],[0.1111111111111111,\"#46039f\"],[0.2222222222222222,\"#7201a8\"],[0.3333333333333333,\"#9c179e\"],[0.4444444444444444,\"#bd3786\"],[0.5555555555555556,\"#d8576b\"],[0.6666666666666666,\"#ed7953\"],[0.7777777777777778,\"#fb9f3a\"],[0.8888888888888888,\"#fdca26\"],[1.0,\"#f0f921\"]]},\"colorway\":[\"#636efa\",\"#EF553B\",\"#00cc96\",\"#ab63fa\",\"#FFA15A\",\"#19d3f3\",\"#FF6692\",\"#B6E880\",\"#FF97FF\",\"#FECB52\"],\"font\":{\"color\":\"#2a3f5f\"},\"geo\":{\"bgcolor\":\"white\",\"lakecolor\":\"white\",\"landcolor\":\"#E5ECF6\",\"showlakes\":true,\"showland\":true,\"subunitcolor\":\"white\"},\"hoverlabel\":{\"align\":\"left\"},\"hovermode\":\"closest\",\"mapbox\":{\"style\":\"light\"},\"paper_bgcolor\":\"white\",\"plot_bgcolor\":\"#E5ECF6\",\"polar\":{\"angularaxis\":{\"gridcolor\":\"white\",\"linecolor\":\"white\",\"ticks\":\"\"},\"bgcolor\":\"#E5ECF6\",\"radialaxis\":{\"gridcolor\":\"white\",\"linecolor\":\"white\",\"ticks\":\"\"}},\"scene\":{\"xaxis\":{\"backgroundcolor\":\"#E5ECF6\",\"gridcolor\":\"white\",\"gridwidth\":2,\"linecolor\":\"white\",\"showbackground\":true,\"ticks\":\"\",\"zerolinecolor\":\"white\"},\"yaxis\":{\"backgroundcolor\":\"#E5ECF6\",\"gridcolor\":\"white\",\"gridwidth\":2,\"linecolor\":\"white\",\"showbackground\":true,\"ticks\":\"\",\"zerolinecolor\":\"white\"},\"zaxis\":{\"backgroundcolor\":\"#E5ECF6\",\"gridcolor\":\"white\",\"gridwidth\":2,\"linecolor\":\"white\",\"showbackground\":true,\"ticks\":\"\",\"zerolinecolor\":\"white\"}},\"shapedefaults\":{\"line\":{\"color\":\"#2a3f5f\"}},\"ternary\":{\"aaxis\":{\"gridcolor\":\"white\",\"linecolor\":\"white\",\"ticks\":\"\"},\"baxis\":{\"gridcolor\":\"white\",\"linecolor\":\"white\",\"ticks\":\"\"},\"bgcolor\":\"#E5ECF6\",\"caxis\":{\"gridcolor\":\"white\",\"linecolor\":\"white\",\"ticks\":\"\"}},\"title\":{\"x\":0.05},\"xaxis\":{\"automargin\":true,\"gridcolor\":\"white\",\"linecolor\":\"white\",\"ticks\":\"\",\"title\":{\"standoff\":15},\"zerolinecolor\":\"white\",\"zerolinewidth\":2},\"yaxis\":{\"automargin\":true,\"gridcolor\":\"white\",\"linecolor\":\"white\",\"ticks\":\"\",\"title\":{\"standoff\":15},\"zerolinecolor\":\"white\",\"zerolinewidth\":2}}},\"title\":{\"text\":\"Top 50 (Uncleaned) Word frequencies in the Pos dataset\"}},                        {\"responsive\": true}                    ).then(function(){\n",
       "                            \n",
       "var gd = document.getElementById('eb513096-1289-4f19-8b6a-dd94e2961dde');\n",
       "var x = new MutationObserver(function (mutations, observer) {{\n",
       "        var display = window.getComputedStyle(gd).display;\n",
       "        if (!display || display === 'none') {{\n",
       "            console.log([gd, 'removed!']);\n",
       "            Plotly.purge(gd);\n",
       "            observer.disconnect();\n",
       "        }}\n",
       "}});\n",
       "\n",
       "// Listen for the removal of the full notebook cells\n",
       "var notebookContainer = gd.closest('#notebook-container');\n",
       "if (notebookContainer) {{\n",
       "    x.observe(notebookContainer, {childList: true});\n",
       "}}\n",
       "\n",
       "// Listen for the clearing of the current output cell\n",
       "var outputEl = gd.closest('.output');\n",
       "if (outputEl) {{\n",
       "    x.observe(outputEl, {childList: true});\n",
       "}}\n",
       "\n",
       "                        })                };                });            </script>        </div>"
      ]
     },
     "metadata": {},
     "output_type": "display_data"
    }
   ],
   "source": [
    "all_words = df_Pos['text'].str.split(expand=True).unstack().value_counts()\n",
    "data = [go.Bar(\n",
    "            x = all_words.index.values[10:50],\n",
    "            y = all_words.values[10:50],\n",
    "            marker= dict(colorscale='Jet',color = all_words.values[10:100]))]\n",
    "\n",
    "layout = go.Layout(title='Top 50 (Uncleaned) Word frequencies in the Pos dataset')\n",
    "fig = go.Figure(data=data, layout=layout)\n",
    "py.iplot(fig, filename='basic-bar')"
   ]
  },
  {
   "cell_type": "code",
   "execution_count": 10,
   "id": "eed5228c",
   "metadata": {},
   "outputs": [
    {
     "data": {
      "application/vnd.plotly.v1+json": {
       "config": {
        "linkText": "Export to plot.ly",
        "plotlyServerURL": "https://plot.ly",
        "showLink": false
       },
       "data": [
        {
         "marker": {
          "color": [
           3444,
           3260,
           3129,
           3010,
           2703,
           2588,
           2506,
           2283,
           2245,
           2179,
           2025,
           1925,
           1768,
           1746,
           1735,
           1678,
           1482,
           1426,
           1360,
           1331,
           1218,
           1215,
           1156,
           1017,
           1015,
           1011,
           1005,
           997,
           978,
           965,
           948,
           945,
           920,
           912,
           911,
           907,
           894,
           885,
           860,
           845,
           809,
           794,
           755,
           748,
           733,
           723,
           707,
           707,
           686,
           684,
           680,
           670,
           661,
           656,
           656,
           654,
           637,
           632,
           623,
           614,
           613,
           578,
           567,
           554,
           540,
           538,
           533,
           523,
           517,
           516,
           508,
           504,
           504,
           497,
           497,
           486,
           486,
           479,
           478,
           476,
           471,
           470,
           456,
           455,
           453,
           453,
           444,
           442,
           440,
           439
          ],
          "colorscale": [
           [
            0,
            "rgb(0,0,131)"
           ],
           [
            0.2,
            "rgb(0,60,170)"
           ],
           [
            0.4,
            "rgb(5,255,255)"
           ],
           [
            0.6,
            "rgb(255,255,0)"
           ],
           [
            0.8,
            "rgb(250,0,0)"
           ],
           [
            1,
            "rgb(128,0,0)"
           ]
          ]
         },
         "type": "bar",
         "x": [
          "car",
          "was",
          "for",
          "The",
          "on",
          "with",
          "this",
          "have",
          "my",
          "you",
          "not",
          "Ford",
          "t",
          "had",
          "but",
          "s",
          "are",
          "be",
          "as",
          "at",
          "has",
          "It",
          "out",
          "about",
          "they",
          "me",
          "or",
          "would",
          "like",
          "all",
          "up",
          "when",
          "one",
          "from",
          "we",
          "an",
          "so",
          "vehicle",
          "can",
          "very"
         ],
         "y": [
          3444,
          3260,
          3129,
          3010,
          2703,
          2588,
          2506,
          2283,
          2245,
          2179,
          2025,
          1925,
          1768,
          1746,
          1735,
          1678,
          1482,
          1426,
          1360,
          1331,
          1218,
          1215,
          1156,
          1017,
          1015,
          1011,
          1005,
          997,
          978,
          965,
          948,
          945,
          920,
          912,
          911,
          907,
          894,
          885,
          860,
          845
         ]
        }
       ],
       "layout": {
        "template": {
         "data": {
          "bar": [
           {
            "error_x": {
             "color": "#2a3f5f"
            },
            "error_y": {
             "color": "#2a3f5f"
            },
            "marker": {
             "line": {
              "color": "#E5ECF6",
              "width": 0.5
             },
             "pattern": {
              "fillmode": "overlay",
              "size": 10,
              "solidity": 0.2
             }
            },
            "type": "bar"
           }
          ],
          "barpolar": [
           {
            "marker": {
             "line": {
              "color": "#E5ECF6",
              "width": 0.5
             },
             "pattern": {
              "fillmode": "overlay",
              "size": 10,
              "solidity": 0.2
             }
            },
            "type": "barpolar"
           }
          ],
          "carpet": [
           {
            "aaxis": {
             "endlinecolor": "#2a3f5f",
             "gridcolor": "white",
             "linecolor": "white",
             "minorgridcolor": "white",
             "startlinecolor": "#2a3f5f"
            },
            "baxis": {
             "endlinecolor": "#2a3f5f",
             "gridcolor": "white",
             "linecolor": "white",
             "minorgridcolor": "white",
             "startlinecolor": "#2a3f5f"
            },
            "type": "carpet"
           }
          ],
          "choropleth": [
           {
            "colorbar": {
             "outlinewidth": 0,
             "ticks": ""
            },
            "type": "choropleth"
           }
          ],
          "contour": [
           {
            "colorbar": {
             "outlinewidth": 0,
             "ticks": ""
            },
            "colorscale": [
             [
              0,
              "#0d0887"
             ],
             [
              0.1111111111111111,
              "#46039f"
             ],
             [
              0.2222222222222222,
              "#7201a8"
             ],
             [
              0.3333333333333333,
              "#9c179e"
             ],
             [
              0.4444444444444444,
              "#bd3786"
             ],
             [
              0.5555555555555556,
              "#d8576b"
             ],
             [
              0.6666666666666666,
              "#ed7953"
             ],
             [
              0.7777777777777778,
              "#fb9f3a"
             ],
             [
              0.8888888888888888,
              "#fdca26"
             ],
             [
              1,
              "#f0f921"
             ]
            ],
            "type": "contour"
           }
          ],
          "contourcarpet": [
           {
            "colorbar": {
             "outlinewidth": 0,
             "ticks": ""
            },
            "type": "contourcarpet"
           }
          ],
          "heatmap": [
           {
            "colorbar": {
             "outlinewidth": 0,
             "ticks": ""
            },
            "colorscale": [
             [
              0,
              "#0d0887"
             ],
             [
              0.1111111111111111,
              "#46039f"
             ],
             [
              0.2222222222222222,
              "#7201a8"
             ],
             [
              0.3333333333333333,
              "#9c179e"
             ],
             [
              0.4444444444444444,
              "#bd3786"
             ],
             [
              0.5555555555555556,
              "#d8576b"
             ],
             [
              0.6666666666666666,
              "#ed7953"
             ],
             [
              0.7777777777777778,
              "#fb9f3a"
             ],
             [
              0.8888888888888888,
              "#fdca26"
             ],
             [
              1,
              "#f0f921"
             ]
            ],
            "type": "heatmap"
           }
          ],
          "heatmapgl": [
           {
            "colorbar": {
             "outlinewidth": 0,
             "ticks": ""
            },
            "colorscale": [
             [
              0,
              "#0d0887"
             ],
             [
              0.1111111111111111,
              "#46039f"
             ],
             [
              0.2222222222222222,
              "#7201a8"
             ],
             [
              0.3333333333333333,
              "#9c179e"
             ],
             [
              0.4444444444444444,
              "#bd3786"
             ],
             [
              0.5555555555555556,
              "#d8576b"
             ],
             [
              0.6666666666666666,
              "#ed7953"
             ],
             [
              0.7777777777777778,
              "#fb9f3a"
             ],
             [
              0.8888888888888888,
              "#fdca26"
             ],
             [
              1,
              "#f0f921"
             ]
            ],
            "type": "heatmapgl"
           }
          ],
          "histogram": [
           {
            "marker": {
             "pattern": {
              "fillmode": "overlay",
              "size": 10,
              "solidity": 0.2
             }
            },
            "type": "histogram"
           }
          ],
          "histogram2d": [
           {
            "colorbar": {
             "outlinewidth": 0,
             "ticks": ""
            },
            "colorscale": [
             [
              0,
              "#0d0887"
             ],
             [
              0.1111111111111111,
              "#46039f"
             ],
             [
              0.2222222222222222,
              "#7201a8"
             ],
             [
              0.3333333333333333,
              "#9c179e"
             ],
             [
              0.4444444444444444,
              "#bd3786"
             ],
             [
              0.5555555555555556,
              "#d8576b"
             ],
             [
              0.6666666666666666,
              "#ed7953"
             ],
             [
              0.7777777777777778,
              "#fb9f3a"
             ],
             [
              0.8888888888888888,
              "#fdca26"
             ],
             [
              1,
              "#f0f921"
             ]
            ],
            "type": "histogram2d"
           }
          ],
          "histogram2dcontour": [
           {
            "colorbar": {
             "outlinewidth": 0,
             "ticks": ""
            },
            "colorscale": [
             [
              0,
              "#0d0887"
             ],
             [
              0.1111111111111111,
              "#46039f"
             ],
             [
              0.2222222222222222,
              "#7201a8"
             ],
             [
              0.3333333333333333,
              "#9c179e"
             ],
             [
              0.4444444444444444,
              "#bd3786"
             ],
             [
              0.5555555555555556,
              "#d8576b"
             ],
             [
              0.6666666666666666,
              "#ed7953"
             ],
             [
              0.7777777777777778,
              "#fb9f3a"
             ],
             [
              0.8888888888888888,
              "#fdca26"
             ],
             [
              1,
              "#f0f921"
             ]
            ],
            "type": "histogram2dcontour"
           }
          ],
          "mesh3d": [
           {
            "colorbar": {
             "outlinewidth": 0,
             "ticks": ""
            },
            "type": "mesh3d"
           }
          ],
          "parcoords": [
           {
            "line": {
             "colorbar": {
              "outlinewidth": 0,
              "ticks": ""
             }
            },
            "type": "parcoords"
           }
          ],
          "pie": [
           {
            "automargin": true,
            "type": "pie"
           }
          ],
          "scatter": [
           {
            "fillpattern": {
             "fillmode": "overlay",
             "size": 10,
             "solidity": 0.2
            },
            "type": "scatter"
           }
          ],
          "scatter3d": [
           {
            "line": {
             "colorbar": {
              "outlinewidth": 0,
              "ticks": ""
             }
            },
            "marker": {
             "colorbar": {
              "outlinewidth": 0,
              "ticks": ""
             }
            },
            "type": "scatter3d"
           }
          ],
          "scattercarpet": [
           {
            "marker": {
             "colorbar": {
              "outlinewidth": 0,
              "ticks": ""
             }
            },
            "type": "scattercarpet"
           }
          ],
          "scattergeo": [
           {
            "marker": {
             "colorbar": {
              "outlinewidth": 0,
              "ticks": ""
             }
            },
            "type": "scattergeo"
           }
          ],
          "scattergl": [
           {
            "marker": {
             "colorbar": {
              "outlinewidth": 0,
              "ticks": ""
             }
            },
            "type": "scattergl"
           }
          ],
          "scattermapbox": [
           {
            "marker": {
             "colorbar": {
              "outlinewidth": 0,
              "ticks": ""
             }
            },
            "type": "scattermapbox"
           }
          ],
          "scatterpolar": [
           {
            "marker": {
             "colorbar": {
              "outlinewidth": 0,
              "ticks": ""
             }
            },
            "type": "scatterpolar"
           }
          ],
          "scatterpolargl": [
           {
            "marker": {
             "colorbar": {
              "outlinewidth": 0,
              "ticks": ""
             }
            },
            "type": "scatterpolargl"
           }
          ],
          "scatterternary": [
           {
            "marker": {
             "colorbar": {
              "outlinewidth": 0,
              "ticks": ""
             }
            },
            "type": "scatterternary"
           }
          ],
          "surface": [
           {
            "colorbar": {
             "outlinewidth": 0,
             "ticks": ""
            },
            "colorscale": [
             [
              0,
              "#0d0887"
             ],
             [
              0.1111111111111111,
              "#46039f"
             ],
             [
              0.2222222222222222,
              "#7201a8"
             ],
             [
              0.3333333333333333,
              "#9c179e"
             ],
             [
              0.4444444444444444,
              "#bd3786"
             ],
             [
              0.5555555555555556,
              "#d8576b"
             ],
             [
              0.6666666666666666,
              "#ed7953"
             ],
             [
              0.7777777777777778,
              "#fb9f3a"
             ],
             [
              0.8888888888888888,
              "#fdca26"
             ],
             [
              1,
              "#f0f921"
             ]
            ],
            "type": "surface"
           }
          ],
          "table": [
           {
            "cells": {
             "fill": {
              "color": "#EBF0F8"
             },
             "line": {
              "color": "white"
             }
            },
            "header": {
             "fill": {
              "color": "#C8D4E3"
             },
             "line": {
              "color": "white"
             }
            },
            "type": "table"
           }
          ]
         },
         "layout": {
          "annotationdefaults": {
           "arrowcolor": "#2a3f5f",
           "arrowhead": 0,
           "arrowwidth": 1
          },
          "autotypenumbers": "strict",
          "coloraxis": {
           "colorbar": {
            "outlinewidth": 0,
            "ticks": ""
           }
          },
          "colorscale": {
           "diverging": [
            [
             0,
             "#8e0152"
            ],
            [
             0.1,
             "#c51b7d"
            ],
            [
             0.2,
             "#de77ae"
            ],
            [
             0.3,
             "#f1b6da"
            ],
            [
             0.4,
             "#fde0ef"
            ],
            [
             0.5,
             "#f7f7f7"
            ],
            [
             0.6,
             "#e6f5d0"
            ],
            [
             0.7,
             "#b8e186"
            ],
            [
             0.8,
             "#7fbc41"
            ],
            [
             0.9,
             "#4d9221"
            ],
            [
             1,
             "#276419"
            ]
           ],
           "sequential": [
            [
             0,
             "#0d0887"
            ],
            [
             0.1111111111111111,
             "#46039f"
            ],
            [
             0.2222222222222222,
             "#7201a8"
            ],
            [
             0.3333333333333333,
             "#9c179e"
            ],
            [
             0.4444444444444444,
             "#bd3786"
            ],
            [
             0.5555555555555556,
             "#d8576b"
            ],
            [
             0.6666666666666666,
             "#ed7953"
            ],
            [
             0.7777777777777778,
             "#fb9f3a"
            ],
            [
             0.8888888888888888,
             "#fdca26"
            ],
            [
             1,
             "#f0f921"
            ]
           ],
           "sequentialminus": [
            [
             0,
             "#0d0887"
            ],
            [
             0.1111111111111111,
             "#46039f"
            ],
            [
             0.2222222222222222,
             "#7201a8"
            ],
            [
             0.3333333333333333,
             "#9c179e"
            ],
            [
             0.4444444444444444,
             "#bd3786"
            ],
            [
             0.5555555555555556,
             "#d8576b"
            ],
            [
             0.6666666666666666,
             "#ed7953"
            ],
            [
             0.7777777777777778,
             "#fb9f3a"
            ],
            [
             0.8888888888888888,
             "#fdca26"
            ],
            [
             1,
             "#f0f921"
            ]
           ]
          },
          "colorway": [
           "#636efa",
           "#EF553B",
           "#00cc96",
           "#ab63fa",
           "#FFA15A",
           "#19d3f3",
           "#FF6692",
           "#B6E880",
           "#FF97FF",
           "#FECB52"
          ],
          "font": {
           "color": "#2a3f5f"
          },
          "geo": {
           "bgcolor": "white",
           "lakecolor": "white",
           "landcolor": "#E5ECF6",
           "showlakes": true,
           "showland": true,
           "subunitcolor": "white"
          },
          "hoverlabel": {
           "align": "left"
          },
          "hovermode": "closest",
          "mapbox": {
           "style": "light"
          },
          "paper_bgcolor": "white",
          "plot_bgcolor": "#E5ECF6",
          "polar": {
           "angularaxis": {
            "gridcolor": "white",
            "linecolor": "white",
            "ticks": ""
           },
           "bgcolor": "#E5ECF6",
           "radialaxis": {
            "gridcolor": "white",
            "linecolor": "white",
            "ticks": ""
           }
          },
          "scene": {
           "xaxis": {
            "backgroundcolor": "#E5ECF6",
            "gridcolor": "white",
            "gridwidth": 2,
            "linecolor": "white",
            "showbackground": true,
            "ticks": "",
            "zerolinecolor": "white"
           },
           "yaxis": {
            "backgroundcolor": "#E5ECF6",
            "gridcolor": "white",
            "gridwidth": 2,
            "linecolor": "white",
            "showbackground": true,
            "ticks": "",
            "zerolinecolor": "white"
           },
           "zaxis": {
            "backgroundcolor": "#E5ECF6",
            "gridcolor": "white",
            "gridwidth": 2,
            "linecolor": "white",
            "showbackground": true,
            "ticks": "",
            "zerolinecolor": "white"
           }
          },
          "shapedefaults": {
           "line": {
            "color": "#2a3f5f"
           }
          },
          "ternary": {
           "aaxis": {
            "gridcolor": "white",
            "linecolor": "white",
            "ticks": ""
           },
           "baxis": {
            "gridcolor": "white",
            "linecolor": "white",
            "ticks": ""
           },
           "bgcolor": "#E5ECF6",
           "caxis": {
            "gridcolor": "white",
            "linecolor": "white",
            "ticks": ""
           }
          },
          "title": {
           "x": 0.05
          },
          "xaxis": {
           "automargin": true,
           "gridcolor": "white",
           "linecolor": "white",
           "ticks": "",
           "title": {
            "standoff": 15
           },
           "zerolinecolor": "white",
           "zerolinewidth": 2
          },
          "yaxis": {
           "automargin": true,
           "gridcolor": "white",
           "linecolor": "white",
           "ticks": "",
           "title": {
            "standoff": 15
           },
           "zerolinecolor": "white",
           "zerolinewidth": 2
          }
         }
        },
        "title": {
         "text": "Top 50 (Uncleaned) Word frequencies in the Neg dataset"
        }
       }
      },
      "text/html": [
       "<div>                            <div id=\"3c3b36fb-225f-4d1f-9330-a9211227fda7\" class=\"plotly-graph-div\" style=\"height:525px; width:100%;\"></div>            <script type=\"text/javascript\">                require([\"plotly\"], function(Plotly) {                    window.PLOTLYENV=window.PLOTLYENV || {};                                    if (document.getElementById(\"3c3b36fb-225f-4d1f-9330-a9211227fda7\")) {                    Plotly.newPlot(                        \"3c3b36fb-225f-4d1f-9330-a9211227fda7\",                        [{\"marker\":{\"color\":[3444,3260,3129,3010,2703,2588,2506,2283,2245,2179,2025,1925,1768,1746,1735,1678,1482,1426,1360,1331,1218,1215,1156,1017,1015,1011,1005,997,978,965,948,945,920,912,911,907,894,885,860,845,809,794,755,748,733,723,707,707,686,684,680,670,661,656,656,654,637,632,623,614,613,578,567,554,540,538,533,523,517,516,508,504,504,497,497,486,486,479,478,476,471,470,456,455,453,453,444,442,440,439],\"colorscale\":[[0.0,\"rgb(0,0,131)\"],[0.2,\"rgb(0,60,170)\"],[0.4,\"rgb(5,255,255)\"],[0.6,\"rgb(255,255,0)\"],[0.8,\"rgb(250,0,0)\"],[1.0,\"rgb(128,0,0)\"]]},\"x\":[\"car\",\"was\",\"for\",\"The\",\"on\",\"with\",\"this\",\"have\",\"my\",\"you\",\"not\",\"Ford\",\"t\",\"had\",\"but\",\"s\",\"are\",\"be\",\"as\",\"at\",\"has\",\"It\",\"out\",\"about\",\"they\",\"me\",\"or\",\"would\",\"like\",\"all\",\"up\",\"when\",\"one\",\"from\",\"we\",\"an\",\"so\",\"vehicle\",\"can\",\"very\"],\"y\":[3444,3260,3129,3010,2703,2588,2506,2283,2245,2179,2025,1925,1768,1746,1735,1678,1482,1426,1360,1331,1218,1215,1156,1017,1015,1011,1005,997,978,965,948,945,920,912,911,907,894,885,860,845],\"type\":\"bar\"}],                        {\"template\":{\"data\":{\"barpolar\":[{\"marker\":{\"line\":{\"color\":\"#E5ECF6\",\"width\":0.5},\"pattern\":{\"fillmode\":\"overlay\",\"size\":10,\"solidity\":0.2}},\"type\":\"barpolar\"}],\"bar\":[{\"error_x\":{\"color\":\"#2a3f5f\"},\"error_y\":{\"color\":\"#2a3f5f\"},\"marker\":{\"line\":{\"color\":\"#E5ECF6\",\"width\":0.5},\"pattern\":{\"fillmode\":\"overlay\",\"size\":10,\"solidity\":0.2}},\"type\":\"bar\"}],\"carpet\":[{\"aaxis\":{\"endlinecolor\":\"#2a3f5f\",\"gridcolor\":\"white\",\"linecolor\":\"white\",\"minorgridcolor\":\"white\",\"startlinecolor\":\"#2a3f5f\"},\"baxis\":{\"endlinecolor\":\"#2a3f5f\",\"gridcolor\":\"white\",\"linecolor\":\"white\",\"minorgridcolor\":\"white\",\"startlinecolor\":\"#2a3f5f\"},\"type\":\"carpet\"}],\"choropleth\":[{\"colorbar\":{\"outlinewidth\":0,\"ticks\":\"\"},\"type\":\"choropleth\"}],\"contourcarpet\":[{\"colorbar\":{\"outlinewidth\":0,\"ticks\":\"\"},\"type\":\"contourcarpet\"}],\"contour\":[{\"colorbar\":{\"outlinewidth\":0,\"ticks\":\"\"},\"colorscale\":[[0.0,\"#0d0887\"],[0.1111111111111111,\"#46039f\"],[0.2222222222222222,\"#7201a8\"],[0.3333333333333333,\"#9c179e\"],[0.4444444444444444,\"#bd3786\"],[0.5555555555555556,\"#d8576b\"],[0.6666666666666666,\"#ed7953\"],[0.7777777777777778,\"#fb9f3a\"],[0.8888888888888888,\"#fdca26\"],[1.0,\"#f0f921\"]],\"type\":\"contour\"}],\"heatmapgl\":[{\"colorbar\":{\"outlinewidth\":0,\"ticks\":\"\"},\"colorscale\":[[0.0,\"#0d0887\"],[0.1111111111111111,\"#46039f\"],[0.2222222222222222,\"#7201a8\"],[0.3333333333333333,\"#9c179e\"],[0.4444444444444444,\"#bd3786\"],[0.5555555555555556,\"#d8576b\"],[0.6666666666666666,\"#ed7953\"],[0.7777777777777778,\"#fb9f3a\"],[0.8888888888888888,\"#fdca26\"],[1.0,\"#f0f921\"]],\"type\":\"heatmapgl\"}],\"heatmap\":[{\"colorbar\":{\"outlinewidth\":0,\"ticks\":\"\"},\"colorscale\":[[0.0,\"#0d0887\"],[0.1111111111111111,\"#46039f\"],[0.2222222222222222,\"#7201a8\"],[0.3333333333333333,\"#9c179e\"],[0.4444444444444444,\"#bd3786\"],[0.5555555555555556,\"#d8576b\"],[0.6666666666666666,\"#ed7953\"],[0.7777777777777778,\"#fb9f3a\"],[0.8888888888888888,\"#fdca26\"],[1.0,\"#f0f921\"]],\"type\":\"heatmap\"}],\"histogram2dcontour\":[{\"colorbar\":{\"outlinewidth\":0,\"ticks\":\"\"},\"colorscale\":[[0.0,\"#0d0887\"],[0.1111111111111111,\"#46039f\"],[0.2222222222222222,\"#7201a8\"],[0.3333333333333333,\"#9c179e\"],[0.4444444444444444,\"#bd3786\"],[0.5555555555555556,\"#d8576b\"],[0.6666666666666666,\"#ed7953\"],[0.7777777777777778,\"#fb9f3a\"],[0.8888888888888888,\"#fdca26\"],[1.0,\"#f0f921\"]],\"type\":\"histogram2dcontour\"}],\"histogram2d\":[{\"colorbar\":{\"outlinewidth\":0,\"ticks\":\"\"},\"colorscale\":[[0.0,\"#0d0887\"],[0.1111111111111111,\"#46039f\"],[0.2222222222222222,\"#7201a8\"],[0.3333333333333333,\"#9c179e\"],[0.4444444444444444,\"#bd3786\"],[0.5555555555555556,\"#d8576b\"],[0.6666666666666666,\"#ed7953\"],[0.7777777777777778,\"#fb9f3a\"],[0.8888888888888888,\"#fdca26\"],[1.0,\"#f0f921\"]],\"type\":\"histogram2d\"}],\"histogram\":[{\"marker\":{\"pattern\":{\"fillmode\":\"overlay\",\"size\":10,\"solidity\":0.2}},\"type\":\"histogram\"}],\"mesh3d\":[{\"colorbar\":{\"outlinewidth\":0,\"ticks\":\"\"},\"type\":\"mesh3d\"}],\"parcoords\":[{\"line\":{\"colorbar\":{\"outlinewidth\":0,\"ticks\":\"\"}},\"type\":\"parcoords\"}],\"pie\":[{\"automargin\":true,\"type\":\"pie\"}],\"scatter3d\":[{\"line\":{\"colorbar\":{\"outlinewidth\":0,\"ticks\":\"\"}},\"marker\":{\"colorbar\":{\"outlinewidth\":0,\"ticks\":\"\"}},\"type\":\"scatter3d\"}],\"scattercarpet\":[{\"marker\":{\"colorbar\":{\"outlinewidth\":0,\"ticks\":\"\"}},\"type\":\"scattercarpet\"}],\"scattergeo\":[{\"marker\":{\"colorbar\":{\"outlinewidth\":0,\"ticks\":\"\"}},\"type\":\"scattergeo\"}],\"scattergl\":[{\"marker\":{\"colorbar\":{\"outlinewidth\":0,\"ticks\":\"\"}},\"type\":\"scattergl\"}],\"scattermapbox\":[{\"marker\":{\"colorbar\":{\"outlinewidth\":0,\"ticks\":\"\"}},\"type\":\"scattermapbox\"}],\"scatterpolargl\":[{\"marker\":{\"colorbar\":{\"outlinewidth\":0,\"ticks\":\"\"}},\"type\":\"scatterpolargl\"}],\"scatterpolar\":[{\"marker\":{\"colorbar\":{\"outlinewidth\":0,\"ticks\":\"\"}},\"type\":\"scatterpolar\"}],\"scatter\":[{\"fillpattern\":{\"fillmode\":\"overlay\",\"size\":10,\"solidity\":0.2},\"type\":\"scatter\"}],\"scatterternary\":[{\"marker\":{\"colorbar\":{\"outlinewidth\":0,\"ticks\":\"\"}},\"type\":\"scatterternary\"}],\"surface\":[{\"colorbar\":{\"outlinewidth\":0,\"ticks\":\"\"},\"colorscale\":[[0.0,\"#0d0887\"],[0.1111111111111111,\"#46039f\"],[0.2222222222222222,\"#7201a8\"],[0.3333333333333333,\"#9c179e\"],[0.4444444444444444,\"#bd3786\"],[0.5555555555555556,\"#d8576b\"],[0.6666666666666666,\"#ed7953\"],[0.7777777777777778,\"#fb9f3a\"],[0.8888888888888888,\"#fdca26\"],[1.0,\"#f0f921\"]],\"type\":\"surface\"}],\"table\":[{\"cells\":{\"fill\":{\"color\":\"#EBF0F8\"},\"line\":{\"color\":\"white\"}},\"header\":{\"fill\":{\"color\":\"#C8D4E3\"},\"line\":{\"color\":\"white\"}},\"type\":\"table\"}]},\"layout\":{\"annotationdefaults\":{\"arrowcolor\":\"#2a3f5f\",\"arrowhead\":0,\"arrowwidth\":1},\"autotypenumbers\":\"strict\",\"coloraxis\":{\"colorbar\":{\"outlinewidth\":0,\"ticks\":\"\"}},\"colorscale\":{\"diverging\":[[0,\"#8e0152\"],[0.1,\"#c51b7d\"],[0.2,\"#de77ae\"],[0.3,\"#f1b6da\"],[0.4,\"#fde0ef\"],[0.5,\"#f7f7f7\"],[0.6,\"#e6f5d0\"],[0.7,\"#b8e186\"],[0.8,\"#7fbc41\"],[0.9,\"#4d9221\"],[1,\"#276419\"]],\"sequential\":[[0.0,\"#0d0887\"],[0.1111111111111111,\"#46039f\"],[0.2222222222222222,\"#7201a8\"],[0.3333333333333333,\"#9c179e\"],[0.4444444444444444,\"#bd3786\"],[0.5555555555555556,\"#d8576b\"],[0.6666666666666666,\"#ed7953\"],[0.7777777777777778,\"#fb9f3a\"],[0.8888888888888888,\"#fdca26\"],[1.0,\"#f0f921\"]],\"sequentialminus\":[[0.0,\"#0d0887\"],[0.1111111111111111,\"#46039f\"],[0.2222222222222222,\"#7201a8\"],[0.3333333333333333,\"#9c179e\"],[0.4444444444444444,\"#bd3786\"],[0.5555555555555556,\"#d8576b\"],[0.6666666666666666,\"#ed7953\"],[0.7777777777777778,\"#fb9f3a\"],[0.8888888888888888,\"#fdca26\"],[1.0,\"#f0f921\"]]},\"colorway\":[\"#636efa\",\"#EF553B\",\"#00cc96\",\"#ab63fa\",\"#FFA15A\",\"#19d3f3\",\"#FF6692\",\"#B6E880\",\"#FF97FF\",\"#FECB52\"],\"font\":{\"color\":\"#2a3f5f\"},\"geo\":{\"bgcolor\":\"white\",\"lakecolor\":\"white\",\"landcolor\":\"#E5ECF6\",\"showlakes\":true,\"showland\":true,\"subunitcolor\":\"white\"},\"hoverlabel\":{\"align\":\"left\"},\"hovermode\":\"closest\",\"mapbox\":{\"style\":\"light\"},\"paper_bgcolor\":\"white\",\"plot_bgcolor\":\"#E5ECF6\",\"polar\":{\"angularaxis\":{\"gridcolor\":\"white\",\"linecolor\":\"white\",\"ticks\":\"\"},\"bgcolor\":\"#E5ECF6\",\"radialaxis\":{\"gridcolor\":\"white\",\"linecolor\":\"white\",\"ticks\":\"\"}},\"scene\":{\"xaxis\":{\"backgroundcolor\":\"#E5ECF6\",\"gridcolor\":\"white\",\"gridwidth\":2,\"linecolor\":\"white\",\"showbackground\":true,\"ticks\":\"\",\"zerolinecolor\":\"white\"},\"yaxis\":{\"backgroundcolor\":\"#E5ECF6\",\"gridcolor\":\"white\",\"gridwidth\":2,\"linecolor\":\"white\",\"showbackground\":true,\"ticks\":\"\",\"zerolinecolor\":\"white\"},\"zaxis\":{\"backgroundcolor\":\"#E5ECF6\",\"gridcolor\":\"white\",\"gridwidth\":2,\"linecolor\":\"white\",\"showbackground\":true,\"ticks\":\"\",\"zerolinecolor\":\"white\"}},\"shapedefaults\":{\"line\":{\"color\":\"#2a3f5f\"}},\"ternary\":{\"aaxis\":{\"gridcolor\":\"white\",\"linecolor\":\"white\",\"ticks\":\"\"},\"baxis\":{\"gridcolor\":\"white\",\"linecolor\":\"white\",\"ticks\":\"\"},\"bgcolor\":\"#E5ECF6\",\"caxis\":{\"gridcolor\":\"white\",\"linecolor\":\"white\",\"ticks\":\"\"}},\"title\":{\"x\":0.05},\"xaxis\":{\"automargin\":true,\"gridcolor\":\"white\",\"linecolor\":\"white\",\"ticks\":\"\",\"title\":{\"standoff\":15},\"zerolinecolor\":\"white\",\"zerolinewidth\":2},\"yaxis\":{\"automargin\":true,\"gridcolor\":\"white\",\"linecolor\":\"white\",\"ticks\":\"\",\"title\":{\"standoff\":15},\"zerolinecolor\":\"white\",\"zerolinewidth\":2}}},\"title\":{\"text\":\"Top 50 (Uncleaned) Word frequencies in the Neg dataset\"}},                        {\"responsive\": true}                    ).then(function(){\n",
       "                            \n",
       "var gd = document.getElementById('3c3b36fb-225f-4d1f-9330-a9211227fda7');\n",
       "var x = new MutationObserver(function (mutations, observer) {{\n",
       "        var display = window.getComputedStyle(gd).display;\n",
       "        if (!display || display === 'none') {{\n",
       "            console.log([gd, 'removed!']);\n",
       "            Plotly.purge(gd);\n",
       "            observer.disconnect();\n",
       "        }}\n",
       "}});\n",
       "\n",
       "// Listen for the removal of the full notebook cells\n",
       "var notebookContainer = gd.closest('#notebook-container');\n",
       "if (notebookContainer) {{\n",
       "    x.observe(notebookContainer, {childList: true});\n",
       "}}\n",
       "\n",
       "// Listen for the clearing of the current output cell\n",
       "var outputEl = gd.closest('.output');\n",
       "if (outputEl) {{\n",
       "    x.observe(outputEl, {childList: true});\n",
       "}}\n",
       "\n",
       "                        })                };                });            </script>        </div>"
      ]
     },
     "metadata": {},
     "output_type": "display_data"
    }
   ],
   "source": [
    "all_words = df_Neg['text'].str.split(expand=True).unstack().value_counts()\n",
    "data = [go.Bar(\n",
    "            x = all_words.index.values[10:50],\n",
    "            y = all_words.values[10:50],\n",
    "            marker= dict(colorscale='Jet',color = all_words.values[10:100]))]\n",
    "\n",
    "layout = go.Layout(title='Top 50 (Uncleaned) Word frequencies in the Neg dataset')\n",
    "fig = go.Figure(data=data, layout=layout)\n",
    "py.iplot(fig, filename='basic-bar')"
   ]
  },
  {
   "cell_type": "code",
   "execution_count": 11,
   "id": "03a5554c",
   "metadata": {},
   "outputs": [
    {
     "data": {
      "image/png": "[encoded data removed]",
      "text/plain": [
       "<Figure size 1152x576 with 1 Axes>"
      ]
     },
     "metadata": {
      "needs_background": "light"
     },
     "output_type": "display_data"
    }
   ],
   "source": [
    "count_vectorizer = CountVectorizer(stop_words='english')\n",
    "words, word_values = get_top_n_words(n_top_words=20,\n",
    "                                     count_vectorizer=count_vectorizer, \n",
    "                                     text_data=df_Pos['text'])\n",
    "\n",
    "fig, ax = plt.subplots(figsize=(16,8))\n",
    "ax.bar(range(len(words)), word_values);\n",
    "ax.set_xticks(range(len(words)));\n",
    "ax.set_xticklabels(words, rotation='vertical');\n",
    "ax.set_title('Top 20 Word frequencies in the Pos dataset (excluding stop words)');\n",
    "ax.set_xlabel('Word');\n",
    "ax.set_ylabel('Number of occurences');\n",
    "plt.show()"
   ]
  },
  {
   "cell_type": "code",
   "execution_count": 12,
   "id": "c4a9f94f",
   "metadata": {},
   "outputs": [
    {
     "data": {
      "image/png": "[encoded data removed]",
      "text/plain": [
       "<Figure size 1152x576 with 1 Axes>"
      ]
     },
     "metadata": {
      "needs_background": "light"
     },
     "output_type": "display_data"
    }
   ],
   "source": [
    "count_vectorizer = CountVectorizer(stop_words='english')\n",
    "words, word_values = get_top_n_words(n_top_words=20,\n",
    "                                     count_vectorizer=count_vectorizer, \n",
    "                                     text_data=df_Neg['text'])\n",
    "\n",
    "fig, ax = plt.subplots(figsize=(16,8))\n",
    "ax.bar(range(len(words)), word_values);\n",
    "ax.set_xticks(range(len(words)));\n",
    "ax.set_xticklabels(words, rotation='vertical');\n",
    "ax.set_title('Top 20 Word frequencies in the Neg dataset (excluding stop words)');\n",
    "ax.set_xlabel('Word');\n",
    "ax.set_ylabel('Number of occurences');\n",
    "plt.show()"
   ]
  },
  {
   "cell_type": "markdown",
   "id": "89fab0b1",
   "metadata": {},
   "source": [
    "**Positive Label Topic Modeling**"
   ]
  },
  {
   "cell_type": "code",
   "execution_count": 13,
   "id": "771aea41",
   "metadata": {},
   "outputs": [],
   "source": [
    "normalized_Pos = normalize_corpus(df_Pos['text'])\n",
    "\n",
    "bow_vectorizer_Pos = CountVectorizer(max_features=1000)\n",
    "\n",
    "bow_corpus_Pos = bow_vectorizer_Pos.fit_transform(normalized_Pos)"
   ]
  },
  {
   "cell_type": "code",
   "execution_count": 14,
   "id": "51a8a888",
   "metadata": {},
   "outputs": [],
   "source": [
    "lda_Pos = LatentDirichletAllocation(n_components=2, max_iter=100,\n",
    "                                learning_method = 'online',\n",
    "                                learning_offset = 50.,\n",
    "                                random_state = 0)"
   ]
  },
  {
   "cell_type": "code",
   "execution_count": 15,
   "id": "76e52718",
   "metadata": {},
   "outputs": [
    {
     "data": {
      "text/plain": [
       "LatentDirichletAllocation(learning_method='online', learning_offset=50.0,\n",
       "                          max_iter=100, n_components=2, random_state=0)"
      ]
     },
     "execution_count": 15,
     "metadata": {},
     "output_type": "execute_result"
    }
   ],
   "source": [
    "lda_Pos.fit(bow_corpus_Pos)"
   ]
  },
  {
   "cell_type": "code",
   "execution_count": 16,
   "id": "400e0d18",
   "metadata": {},
   "outputs": [
    {
     "name": "stdout",
     "output_type": "stream",
     "text": [
      "Topic 0:\n",
      "car drive ford like br buy look good problem mile great vehicle quot year well new gas time seat want\n",
      "Topic 1:\n",
      "seat truck ford rear vehicle drive wheel control front power like well door engine model good driver look suv side\n"
     ]
    }
   ],
   "source": [
    "no_top_words_Pos = 20\n",
    "display_topics(lda_Pos, bow_vectorizer_Pos.get_feature_names(), no_top_words_Pos)"
   ]
  },
  {
   "cell_type": "code",
   "execution_count": 17,
   "id": "01955e56",
   "metadata": {},
   "outputs": [
    {
     "data": {
      "text/html": [
       "<div>\n",
       "<style scoped>\n",
       "    .dataframe tbody tr th:only-of-type {\n",
       "        vertical-align: middle;\n",
       "    }\n",
       "\n",
       "    .dataframe tbody tr th {\n",
       "        vertical-align: top;\n",
       "    }\n",
       "\n",
       "    .dataframe thead th {\n",
       "        text-align: right;\n",
       "    }\n",
       "</style>\n",
       "<table border=\"1\" class=\"dataframe\">\n",
       "  <thead>\n",
       "    <tr style=\"text-align: right;\">\n",
       "      <th></th>\n",
       "      <th>Topic_0</th>\n",
       "      <th>Topic_1</th>\n",
       "    </tr>\n",
       "  </thead>\n",
       "  <tbody>\n",
       "    <tr>\n",
       "      <th>0l</th>\n",
       "      <td>0.000192</td>\n",
       "      <td>0.000523</td>\n",
       "    </tr>\n",
       "    <tr>\n",
       "      <th>146s</th>\n",
       "      <td>0.000009</td>\n",
       "      <td>0.002179</td>\n",
       "    </tr>\n",
       "    <tr>\n",
       "      <th>146t</th>\n",
       "      <td>0.000009</td>\n",
       "      <td>0.001476</td>\n",
       "    </tr>\n",
       "    <tr>\n",
       "      <th>146ve</th>\n",
       "      <td>0.000009</td>\n",
       "      <td>0.000662</td>\n",
       "    </tr>\n",
       "    <tr>\n",
       "      <th>3rd</th>\n",
       "      <td>0.000040</td>\n",
       "      <td>0.000429</td>\n",
       "    </tr>\n",
       "  </tbody>\n",
       "</table>\n",
       "</div>"
      ],
      "text/plain": [
       "        Topic_0   Topic_1\n",
       "0l     0.000192  0.000523\n",
       "146s   0.000009  0.002179\n",
       "146t   0.000009  0.001476\n",
       "146ve  0.000009  0.000662\n",
       "3rd    0.000040  0.000429"
      ]
     },
     "execution_count": 17,
     "metadata": {},
     "output_type": "execute_result"
    }
   ],
   "source": [
    "word_weights_Pos= lda_Pos.components_ / lda_Pos.components_.sum(axis=1)[:, np.newaxis]\n",
    "word_weights_df_Pos = pd.DataFrame(word_weights_Pos.T, \n",
    "                               index = bow_vectorizer_Pos.get_feature_names(), \n",
    "                               columns = [\"Topic_\" + str(i) for i in range(2)])\n",
    "word_weights_df_Pos.head()"
   ]
  },
  {
   "cell_type": "code",
   "execution_count": 18,
   "id": "e0f55984",
   "metadata": {},
   "outputs": [
    {
     "data": {
      "text/html": [
       "<div>\n",
       "<style scoped>\n",
       "    .dataframe tbody tr th:only-of-type {\n",
       "        vertical-align: middle;\n",
       "    }\n",
       "\n",
       "    .dataframe tbody tr th {\n",
       "        vertical-align: top;\n",
       "    }\n",
       "\n",
       "    .dataframe thead th {\n",
       "        text-align: right;\n",
       "    }\n",
       "</style>\n",
       "<table border=\"1\" class=\"dataframe\">\n",
       "  <thead>\n",
       "    <tr style=\"text-align: right;\">\n",
       "      <th></th>\n",
       "      <th>Topic_0</th>\n",
       "      <th>Topic_1</th>\n",
       "    </tr>\n",
       "  </thead>\n",
       "  <tbody>\n",
       "    <tr>\n",
       "      <th>car</th>\n",
       "      <td>0.055282</td>\n",
       "      <td>0.005185</td>\n",
       "    </tr>\n",
       "    <tr>\n",
       "      <th>drive</th>\n",
       "      <td>0.017827</td>\n",
       "      <td>0.009370</td>\n",
       "    </tr>\n",
       "    <tr>\n",
       "      <th>ford</th>\n",
       "      <td>0.013896</td>\n",
       "      <td>0.015743</td>\n",
       "    </tr>\n",
       "    <tr>\n",
       "      <th>like</th>\n",
       "      <td>0.011057</td>\n",
       "      <td>0.007733</td>\n",
       "    </tr>\n",
       "    <tr>\n",
       "      <th>br</th>\n",
       "      <td>0.010334</td>\n",
       "      <td>0.000457</td>\n",
       "    </tr>\n",
       "    <tr>\n",
       "      <th>buy</th>\n",
       "      <td>0.010270</td>\n",
       "      <td>0.000874</td>\n",
       "    </tr>\n",
       "    <tr>\n",
       "      <th>look</th>\n",
       "      <td>0.009939</td>\n",
       "      <td>0.005978</td>\n",
       "    </tr>\n",
       "    <tr>\n",
       "      <th>good</th>\n",
       "      <td>0.009922</td>\n",
       "      <td>0.006096</td>\n",
       "    </tr>\n",
       "    <tr>\n",
       "      <th>problem</th>\n",
       "      <td>0.008960</td>\n",
       "      <td>0.001019</td>\n",
       "    </tr>\n",
       "    <tr>\n",
       "      <th>mile</th>\n",
       "      <td>0.008773</td>\n",
       "      <td>0.000620</td>\n",
       "    </tr>\n",
       "  </tbody>\n",
       "</table>\n",
       "</div>"
      ],
      "text/plain": [
       "          Topic_0   Topic_1\n",
       "car      0.055282  0.005185\n",
       "drive    0.017827  0.009370\n",
       "ford     0.013896  0.015743\n",
       "like     0.011057  0.007733\n",
       "br       0.010334  0.000457\n",
       "buy      0.010270  0.000874\n",
       "look     0.009939  0.005978\n",
       "good     0.009922  0.006096\n",
       "problem  0.008960  0.001019\n",
       "mile     0.008773  0.000620"
      ]
     },
     "execution_count": 18,
     "metadata": {},
     "output_type": "execute_result"
    }
   ],
   "source": [
    "word_weights_df_Pos.sort_values(by='Topic_0',ascending=False).head(10)"
   ]
  },
  {
   "cell_type": "code",
   "execution_count": 19,
   "id": "04aa5f60",
   "metadata": {},
   "outputs": [
    {
     "name": "stderr",
     "output_type": "stream",
     "text": [
      "/Users/yangweichao/opt/anaconda3/lib/python3.9/site-packages/past/builtins/misc.py:45: DeprecationWarning: the imp module is deprecated in favour of importlib; see the module's documentation for alternative uses\n",
      "  from imp import reload\n",
      "/Users/yangweichao/opt/anaconda3/lib/python3.9/site-packages/past/builtins/misc.py:45: DeprecationWarning: the imp module is deprecated in favour of importlib; see the module's documentation for alternative uses\n",
      "  from imp import reload\n",
      "/Users/yangweichao/opt/anaconda3/lib/python3.9/site-packages/past/builtins/misc.py:45: DeprecationWarning: the imp module is deprecated in favour of importlib; see the module's documentation for alternative uses\n",
      "  from imp import reload\n",
      "/Users/yangweichao/opt/anaconda3/lib/python3.9/site-packages/past/builtins/misc.py:45: DeprecationWarning: the imp module is deprecated in favour of importlib; see the module's documentation for alternative uses\n",
      "  from imp import reload\n",
      "/Users/yangweichao/opt/anaconda3/lib/python3.9/site-packages/past/builtins/misc.py:45: DeprecationWarning: the imp module is deprecated in favour of importlib; see the module's documentation for alternative uses\n",
      "  from imp import reload\n",
      "/Users/yangweichao/opt/anaconda3/lib/python3.9/site-packages/past/builtins/misc.py:45: DeprecationWarning: the imp module is deprecated in favour of importlib; see the module's documentation for alternative uses\n",
      "  from imp import reload\n",
      "/Users/yangweichao/opt/anaconda3/lib/python3.9/site-packages/past/builtins/misc.py:45: DeprecationWarning: the imp module is deprecated in favour of importlib; see the module's documentation for alternative uses\n",
      "  from imp import reload\n",
      "/Users/yangweichao/opt/anaconda3/lib/python3.9/site-packages/past/builtins/misc.py:45: DeprecationWarning: the imp module is deprecated in favour of importlib; see the module's documentation for alternative uses\n",
      "  from imp import reload\n"
     ]
    },
    {
     "data": {
      "text/html": [
       "\n",
       "<link rel=\"stylesheet\" type=\"text/css\" href=\"https://cdn.jsdelivr.net/gh/bmabey/pyLDAvis@3.3.1/pyLDAvis/js/ldavis.v1.0.0.css\">\n",
       "\n",
       "\n",
       "<div id=\"ldavis_el791051403871983242886769490512\"></div>\n",
       "<script type=\"text/javascript\">\n",
       "\n",
       "var ldavis_el791051403871983242886769490512_data = {\"mdsDat\": {\"x\": [-60.31231689453125, 60.31256103515625], \"y\": [141.36962890625, -141.369140625], \"topics\": [1, 2], \"cluster\": [1, 1], \"Freq\": [57.26334883232433, 42.73665116767567]}, \"tinfo\": {\"Term\": [\"car\", \"truck\", \"br\", \"seat\", \"rear\", \"control\", \"buy\", \"mile\", \"problem\", \"front\", \"gas\", \"escort\", \"mustang\", \"love\", \"expedition\", \"wheel\", \"feature\", \"side\", \"suv\", \"cargo\", \"mileage\", \"large\", \"standard\", \"cab\", \"driver\", \"available\", \"passenger\", \"system\", \"bed\", \"package\", \"escort\", \"reliable\", \"zx2\", \"probe\", \"mustang\", \"gt\", \"awesome\", \"convertible\", \"repair\", \"used\", \"sho\", \"original\", \"dependable\", \"thunderbird\", \"college\", \"bronco\", \"dream\", \"jetta\", \"bmw\", \"camaro\", \"civic\", \"economical\", \"hatchback\", \"coupe\", \"commute\", \"alot\", \"leak\", \"maintenance\", \"gasket\", \"nothing\", \"br\", \"mileage\", \"fun\", \"car\", \"gas\", \"mile\", \"love\", \"buy\", \"problem\", \"replace\", \"anyone\", \"family\", \"safe\", \"decide\", \"fix\", \"pick\", \"great\", \"trip\", \"quot\", \"day\", \"drive\", \"want\", \"never\", \"year\", \"still\", \"lot\", \"look\", \"good\", \"like\", \"time\", \"really\", \"take\", \"new\", \"little\", \"ford\", \"think\", \"need\", \"people\", \"thing\", \"vehicle\", \"well\", \"engine\", \"seat\", \"power\", \"146s\", \"escape\", \"console\", \"center\", \"storage\", \"146t\", \"row\", \"optional\", \"available\", \"position\", \"height\", \"trim\", \"bauer\", \"torque\", \"eddie\", \"inch\", \"adjustable\", \"ft\", \"lariat\", \"xl\", \"expedition\", \"temperature\", \"trac\", \"146ve\", \"shifter\", \"produce\", \"tailgate\", \"vent\", \"cabin\", \"additional\", \"cargo\", \"excursion\", \"climate\", \"equip\", \"tilt\", \"dash\", \"bed\", \"holder\", \"allow\", \"control\", \"package\", \"cab\", \"provide\", \"rear\", \"pickup\", \"standard\", \"truck\", \"feature\", \"side\", \"suv\", \"seat\", \"front\", \"wheel\", \"large\", \"passenger\", \"system\", \"driver\", \"offer\", \"steer\", \"ford\", \"model\", \"door\", \"option\", \"interior\", \"power\", \"vehicle\", \"design\", \"window\", \"well\", \"engine\", \"like\", \"drive\", \"much\", \"even\", \"ride\", \"road\", \"good\", \"look\", \"explorer\", \"use\", \"car\"], \"Freq\": [3592.0, 1015.0, 648.0, 1221.0, 545.0, 423.0, 663.0, 560.0, 590.0, 468.0, 419.0, 267.0, 281.0, 391.0, 169.0, 553.0, 284.0, 303.0, 305.0, 156.0, 287.0, 318.0, 203.0, 164.0, 374.0, 117.0, 252.0, 288.0, 125.0, 132.0, 266.91197441435673, 112.57739031988773, 81.50566530892682, 56.49775280512824, 278.02597273706704, 92.78732944773232, 49.750488701369484, 42.65377590066795, 125.49567695358053, 67.17390062042735, 44.82960280335036, 47.799684524824045, 29.712681480318853, 41.166552511490714, 39.75478757422552, 30.37373126729879, 44.83252156625658, 32.202348333735955, 37.62840146035279, 24.05935498153263, 30.08584731444382, 28.19277040644124, 50.470499043873744, 42.93825294821524, 34.254298489200075, 27.73589665784568, 24.145308407715035, 95.70352265058783, 21.16681726050666, 93.27725443502447, 627.6460308026122, 278.30427320262464, 148.88261649014063, 3357.5631340681657, 400.62563950638986, 532.8241853874165, 373.2078202976793, 623.7692279253885, 544.1822456528923, 182.58536710338606, 138.99561704795488, 222.0637043979586, 76.68348764694157, 131.49620989548237, 111.6739601472312, 89.17862602734904, 527.0337485340572, 221.19349338855264, 481.73013407244525, 181.5419998990558, 1082.7313015256175, 383.0719600844083, 202.68004232437798, 471.64250294248916, 317.4271296541989, 326.8814981403499, 603.6292711338016, 602.6063005660613, 671.5499542678089, 393.2746487057731, 339.2800129370977, 361.02793954321584, 435.5705361219598, 381.5053408681186, 843.9918641778221, 312.7921031560372, 334.5314541904713, 264.05234174529966, 307.7841984417466, 496.0632389171387, 439.69263021814356, 382.4887958210971, 388.69761826878016, 325.33376290687426, 98.76456593365013, 103.15512920857431, 91.09587863138658, 78.67555190830012, 77.09501856739199, 66.92193977492423, 60.41359993504748, 63.282044398205066, 116.26942840747222, 74.05406052238563, 52.20387461410433, 81.15887872766274, 47.56887162756135, 66.08988545544419, 45.802334333461346, 76.15121084368694, 56.4107276273565, 37.935750007714, 31.791539427312685, 33.88254343738642, 166.17722748451564, 54.3528826475945, 29.070672809180593, 30.027470883921637, 49.018622667434265, 38.99440767613367, 27.48172428420042, 45.40053795956189, 33.8522364721204, 28.64319390480511, 152.000209347393, 74.70175503276037, 53.422150454198274, 97.46441256473786, 67.2821461010308, 111.90149922207611, 119.85286735601863, 74.14661349972727, 94.91664325608552, 375.3190314217074, 124.32127897914636, 150.69751777288818, 102.6046150360903, 450.6338953467055, 106.25379868185325, 177.43430389996118, 750.211277836001, 238.84668020014925, 249.7561266110172, 250.1786437227342, 832.6447064014402, 360.2499213978296, 391.20801723029916, 245.266181862835, 201.6761201154013, 221.45526774592068, 272.5229578720482, 134.35922384218247, 145.47135412000287, 713.5749467873551, 283.72872849685564, 317.00574866717454, 168.5175853148397, 236.51284565718686, 353.67011369885756, 430.95331704769563, 156.68978466174192, 181.46765779437612, 344.90963938241197, 289.2233983924147, 350.54024509894157, 424.7014125698605, 245.45699113750302, 240.94143983481098, 216.10586041136577, 230.36952910158462, 276.3229779999113, 270.9795829714365, 208.7742397561694, 220.04749495032914, 235.01540020650958], \"Total\": [3592.0, 1015.0, 648.0, 1221.0, 545.0, 423.0, 663.0, 560.0, 590.0, 468.0, 419.0, 267.0, 281.0, 391.0, 169.0, 553.0, 284.0, 303.0, 305.0, 156.0, 287.0, 318.0, 203.0, 164.0, 374.0, 117.0, 252.0, 288.0, 125.0, 132.0, 267.4680260291951, 113.20146035906066, 82.04779205658576, 57.16944195608289, 281.46737974339777, 93.93683117305494, 50.40958979577022, 43.269221424368176, 127.31867515580585, 68.16919674038647, 45.50215305554012, 48.53546824682911, 30.237462230587063, 41.90250798358205, 40.485024654843684, 30.95332886338271, 45.71490665429931, 32.89019443378503, 38.48365733577088, 24.63158880678689, 30.805591313160928, 28.900661379583333, 51.75991956808049, 44.04116177655331, 35.20334082853991, 28.518373155848057, 24.826824539114718, 98.5635608914241, 21.833517608449306, 96.29362801933131, 648.3503914136745, 287.9405006875338, 153.81338668690688, 3592.5785342746753, 419.7677497925876, 560.9052568409616, 391.920401238058, 663.3973980969839, 590.3829330823997, 193.69962903580873, 146.735123141526, 239.30263044636396, 80.2050146470626, 140.93724891833807, 120.0859606929483, 94.7895163763904, 632.7340696084847, 255.05860256763918, 595.6564309711721, 208.31863390997682, 1507.4327140954779, 478.0164123275018, 235.78517763064195, 612.7561556522764, 402.10270716660705, 416.1081160696676, 874.6088541052382, 878.9292785659727, 1022.0901993667504, 538.1839364194399, 448.8961364754796, 485.2951643809686, 622.1312299590106, 527.883439672803, 1557.5668109651772, 419.31662419525185, 465.4971333159141, 334.83947240298414, 427.37188943261583, 927.0165559648343, 784.6022696005555, 671.7121942135118, 1221.3423246702205, 679.0038766057319, 99.29155936237413, 103.70650536898721, 91.75919969488312, 79.3174548135759, 77.7254716026369, 67.47874035846932, 60.95990508836721, 63.884471462647404, 117.54686632251962, 74.88352720398046, 52.84897370567226, 82.17038539477905, 48.18518759683636, 66.9596156829355, 46.4222402600812, 77.2005468998363, 57.19513172702464, 38.48648110434042, 32.29099798070072, 34.43054448939719, 169.0964100723503, 55.31014460164386, 29.595914600605653, 30.577846885268837, 49.938738934331035, 39.735669431658025, 28.013917287757707, 46.325446065475944, 34.56414050124125, 29.26047374388054, 156.0538416051073, 76.59617286386916, 54.644308172983344, 100.86769101671163, 69.18438695966626, 116.87188466142014, 125.45213592087855, 76.96490361050189, 99.75821877854345, 423.4435624520828, 132.36052997330935, 164.09503142192798, 110.1913498185754, 545.9103161118891, 115.4785734779572, 203.89665964802631, 1015.5882465685308, 284.3882240572706, 303.02483416328516, 305.88529297365244, 1221.3423246702205, 468.71430637629646, 553.8657700584631, 318.98905371892477, 252.1454294128941, 288.3859913619839, 374.51859552270855, 159.37471255728548, 179.72532928524794, 1557.5668109651772, 443.6631364847525, 529.3327180951601, 221.5677799635658, 365.7060555344362, 679.0038766057319, 927.0165559648343, 201.9945471470881, 259.49384756277493, 784.6022696005555, 671.7121942135118, 1022.0901993667504, 1507.4327140954779, 508.12401164209814, 518.2622024616885, 400.4048817179773, 478.35055562133044, 878.9292785659727, 874.6088541052382, 400.6435898738009, 521.1259325537491, 3592.5785342746753], \"Category\": [\"Default\", \"Default\", \"Default\", \"Default\", \"Default\", \"Default\", \"Default\", \"Default\", \"Default\", \"Default\", \"Default\", \"Default\", \"Default\", \"Default\", \"Default\", \"Default\", \"Default\", \"Default\", \"Default\", \"Default\", \"Default\", \"Default\", \"Default\", \"Default\", \"Default\", \"Default\", \"Default\", \"Default\", \"Default\", \"Default\", \"Topic1\", \"Topic1\", \"Topic1\", \"Topic1\", \"Topic1\", \"Topic1\", \"Topic1\", \"Topic1\", \"Topic1\", \"Topic1\", \"Topic1\", \"Topic1\", \"Topic1\", \"Topic1\", \"Topic1\", \"Topic1\", \"Topic1\", \"Topic1\", \"Topic1\", \"Topic1\", \"Topic1\", \"Topic1\", \"Topic1\", \"Topic1\", \"Topic1\", \"Topic1\", \"Topic1\", \"Topic1\", \"Topic1\", \"Topic1\", \"Topic1\", \"Topic1\", \"Topic1\", \"Topic1\", \"Topic1\", \"Topic1\", \"Topic1\", \"Topic1\", \"Topic1\", \"Topic1\", \"Topic1\", \"Topic1\", \"Topic1\", \"Topic1\", \"Topic1\", \"Topic1\", \"Topic1\", \"Topic1\", \"Topic1\", \"Topic1\", \"Topic1\", \"Topic1\", \"Topic1\", \"Topic1\", \"Topic1\", \"Topic1\", \"Topic1\", \"Topic1\", \"Topic1\", \"Topic1\", \"Topic1\", \"Topic1\", \"Topic1\", \"Topic1\", \"Topic1\", \"Topic1\", \"Topic1\", \"Topic1\", \"Topic1\", \"Topic1\", \"Topic1\", \"Topic1\", \"Topic1\", \"Topic1\", \"Topic2\", \"Topic2\", \"Topic2\", \"Topic2\", \"Topic2\", \"Topic2\", \"Topic2\", \"Topic2\", \"Topic2\", \"Topic2\", \"Topic2\", \"Topic2\", \"Topic2\", \"Topic2\", \"Topic2\", \"Topic2\", \"Topic2\", \"Topic2\", \"Topic2\", \"Topic2\", \"Topic2\", \"Topic2\", \"Topic2\", \"Topic2\", \"Topic2\", \"Topic2\", \"Topic2\", \"Topic2\", \"Topic2\", \"Topic2\", \"Topic2\", \"Topic2\", \"Topic2\", \"Topic2\", \"Topic2\", \"Topic2\", \"Topic2\", \"Topic2\", \"Topic2\", \"Topic2\", \"Topic2\", \"Topic2\", \"Topic2\", \"Topic2\", \"Topic2\", \"Topic2\", \"Topic2\", \"Topic2\", \"Topic2\", \"Topic2\", \"Topic2\", \"Topic2\", \"Topic2\", \"Topic2\", \"Topic2\", \"Topic2\", \"Topic2\", \"Topic2\", \"Topic2\", \"Topic2\", \"Topic2\", \"Topic2\", \"Topic2\", \"Topic2\", \"Topic2\", \"Topic2\", \"Topic2\", \"Topic2\", \"Topic2\", \"Topic2\", \"Topic2\", \"Topic2\", \"Topic2\", \"Topic2\", \"Topic2\", \"Topic2\", \"Topic2\", \"Topic2\", \"Topic2\", \"Topic2\", \"Topic2\"], \"logprob\": [30.0, 29.0, 28.0, 27.0, 26.0, 25.0, 24.0, 23.0, 22.0, 21.0, 20.0, 19.0, 18.0, 17.0, 16.0, 15.0, 14.0, 13.0, 12.0, 11.0, 10.0, 9.0, 8.0, 7.0, 6.0, 5.0, 4.0, 3.0, 2.0, 1.0, -5.4274, -6.2906, -6.6136, -6.9801, -5.3866, -6.484, -7.1073, -7.2612, -6.182, -6.807, -7.2114, -7.1473, -7.6227, -7.2967, -7.3315, -7.6007, -7.2113, -7.5422, -7.3865, -7.8338, -7.6102, -7.6752, -7.0929, -7.2545, -7.4805, -7.6916, -7.8302, -6.453, -7.9618, -6.4787, -4.5723, -5.3856, -6.0111, -2.8953, -5.0213, -4.7361, -5.0921, -4.5785, -4.715, -5.8071, -6.0798, -5.6113, -6.6746, -6.1353, -6.2987, -6.5236, -4.747, -5.6152, -4.8369, -5.8128, -4.027, -5.0661, -5.7027, -4.8581, -5.254, -5.2247, -4.6113, -4.613, -4.5047, -5.0398, -5.1875, -5.1253, -4.9376, -5.0702, -4.2761, -5.2687, -5.2015, -5.4381, -5.2849, -4.8076, -4.9282, -5.0676, -5.0515, -5.2294, -6.1289, -6.0854, -6.2098, -6.3563, -6.3766, -6.5181, -6.6205, -6.5741, -5.9658, -6.4169, -6.7665, -6.3253, -6.8595, -6.5307, -6.8973, -6.389, -6.689, -7.0858, -7.2625, -7.1988, -5.6086, -6.7262, -7.3519, -7.3196, -6.8295, -7.0583, -7.4082, -6.9062, -7.1997, -7.3668, -5.6978, -6.4082, -6.7434, -6.1422, -6.5128, -6.0041, -5.9354, -6.4156, -6.1687, -4.7939, -5.8988, -5.7064, -6.0908, -4.611, -6.0558, -5.5431, -4.1013, -5.2459, -5.2012, -5.1995, -3.9971, -4.8349, -4.7524, -5.2193, -5.415, -5.3215, -5.114, -5.8212, -5.7417, -4.1514, -5.0737, -4.9628, -5.5946, -5.2557, -4.8533, -4.6557, -5.6674, -5.5206, -4.8784, -5.0545, -4.8622, -4.6703, -5.2186, -5.2371, -5.3459, -5.282, -5.1001, -5.1196, -5.3804, -5.3278, -5.262], \"loglift\": [30.0, 29.0, 28.0, 27.0, 26.0, 25.0, 24.0, 23.0, 22.0, 21.0, 20.0, 19.0, 18.0, 17.0, 16.0, 15.0, 14.0, 13.0, 12.0, 11.0, 10.0, 9.0, 8.0, 7.0, 6.0, 5.0, 4.0, 3.0, 2.0, 1.0, 0.5554, 0.552, 0.5509, 0.5457, 0.5452, 0.5452, 0.5443, 0.5432, 0.5431, 0.5428, 0.5426, 0.5422, 0.54, 0.5398, 0.5393, 0.5386, 0.538, 0.5364, 0.535, 0.534, 0.5339, 0.5327, 0.5323, 0.5321, 0.5302, 0.5297, 0.5297, 0.5281, 0.5265, 0.5257, 0.5251, 0.5235, 0.5249, 0.4899, 0.5108, 0.5061, 0.5086, 0.4959, 0.476, 0.4984, 0.5033, 0.4827, 0.5126, 0.4882, 0.4849, 0.4965, 0.3747, 0.4151, 0.3452, 0.4199, 0.2266, 0.3361, 0.4062, 0.2958, 0.3211, 0.3162, 0.1867, 0.1801, 0.1375, 0.2438, 0.2775, 0.2617, 0.201, 0.2328, -0.0552, 0.2644, 0.2271, 0.32, 0.2293, -0.0678, -0.0216, -0.0056, -0.5874, -0.1783, 0.8448, 0.8448, 0.8429, 0.842, 0.842, 0.8418, 0.8411, 0.8406, 0.8392, 0.839, 0.8378, 0.8377, 0.8372, 0.837, 0.8367, 0.8364, 0.8363, 0.8357, 0.8345, 0.8341, 0.8327, 0.8327, 0.8322, 0.832, 0.8315, 0.8313, 0.8309, 0.8299, 0.8293, 0.8288, 0.8238, 0.8251, 0.8275, 0.8158, 0.8222, 0.8067, 0.8045, 0.8128, 0.8004, 0.7295, 0.7875, 0.7649, 0.7788, 0.6583, 0.7669, 0.7111, 0.5472, 0.6756, 0.6568, 0.6491, 0.467, 0.5869, 0.5024, 0.5873, 0.6268, 0.586, 0.5322, 0.6794, 0.6387, 0.0695, 0.4031, 0.3374, 0.5764, 0.4143, 0.1979, 0.0841, 0.5961, 0.4925, 0.0282, 0.0075, -0.22, -0.4167, 0.1225, 0.0842, 0.2334, 0.1195, -0.307, -0.3216, 0.1983, -0.012, -1.8769]}, \"token.table\": {\"Topic\": [1, 2, 1, 2, 1, 2, 1, 2, 1, 2, 1, 2, 1, 2, 1, 2, 1, 2, 1, 2, 1, 2, 1, 2, 1, 2, 1, 2, 1, 2, 1, 2, 1, 2, 1, 2, 1, 2, 1, 2, 1, 2, 1, 2, 1, 2, 1, 2, 1, 2, 1, 2, 1, 2, 1, 2, 1, 2, 1, 2, 1, 2, 1, 2, 1, 2, 1, 2, 1, 2, 1, 2, 1, 2, 1, 2, 1, 2, 1, 2, 1, 2, 1, 2, 1, 2, 1, 2, 1, 2, 1, 2, 1, 2, 1, 2, 1, 2, 1, 2, 1, 2, 1, 2, 1, 2, 1, 2, 1, 2, 1, 2, 1, 2, 1, 2, 1, 2, 1, 2, 1, 2, 1, 2, 1, 2, 1, 2, 1, 2, 1, 2, 1, 2, 1, 2, 2, 1, 2, 1, 2, 1, 2, 1, 2, 1, 2, 1, 2, 1, 2, 1, 2, 1, 2, 1, 2, 1, 2, 1, 2, 1, 2, 1, 2, 1, 2, 1, 2, 1, 2, 1, 2, 1, 2, 1, 2, 1, 2, 1, 2, 1, 2, 1, 2, 1, 2, 1, 2, 1, 2, 1, 2, 1, 2, 1, 2, 1, 2, 1, 2, 1, 2, 1, 2, 1, 2, 1, 2, 1, 2, 1, 2, 1, 2, 1, 2, 1, 2, 1, 2, 1, 2, 1, 2, 1, 2, 1, 2, 1, 2, 1, 2, 1, 2, 1, 2, 1, 2, 1, 2, 1, 2, 1, 2, 1, 2, 1, 2, 1, 2, 1, 2, 1, 2, 1, 2, 1, 2, 1, 2, 1, 2, 1, 2, 1, 2, 1, 2, 1, 2, 1, 2, 1, 2, 1, 2, 1, 2, 1, 2, 1, 2, 1, 2, 1, 2], \"Freq\": [0.010071349532848039, 0.9970636037519558, 0.014819482324176032, 0.9929053157197941, 0.032703414460543964, 0.9811024338163188, 0.034175796631082826, 0.9910981023014019, 0.017484005540413874, 0.9791043102631768, 0.05012118360994059, 0.9523024885888712, 0.9818231863011527, 0.03506511379646974, 0.9472851286323215, 0.054520007403299084, 0.008507245078369393, 0.9868404290908496, 0.9918747643567496, 0.019837495287134993, 0.020753265679215826, 0.9961567526023596, 0.04782700554244961, 0.9565401108489922, 0.9874321369315043, 0.025985056235039588, 0.9686120473077804, 0.03238989330169329, 0.9692010876248441, 0.032306702920828136, 0.9406126731729745, 0.06029568417775478, 0.07922238648758266, 0.9201984892019217, 0.028931718986736805, 0.9836784455490514, 0.9743585843470696, 0.04059827434779457, 0.9347046885581763, 0.06541262710279078, 0.0256321789893642, 0.9740228015958395, 0.012607565413569484, 0.9959976676719893, 0.9738491852024032, 0.03246163950674678, 0.01830016763748524, 0.9699088847867178, 0.9880196527239695, 0.024700491318099236, 0.9658174252721963, 0.02840639486094695, 0.010898089819061098, 0.9917261735345599, 0.11335631063096328, 0.8855961768044007, 0.9937779924041675, 0.023111116102422502, 0.9763593480608951, 0.022706031350253373, 0.042781889027331814, 0.9583143142122327, 0.8736616431473422, 0.12960914486251782, 0.9294916780723035, 0.0638582068904636, 0.9921467539578485, 0.033071558465261615, 0.22277829097649832, 0.7772487040735608, 0.4005042438391046, 0.5988671947971517, 0.984361629354173, 0.021874702874537178, 0.7184400271224344, 0.2819362987322573, 0.27234962754690595, 0.7289357678461307, 0.9688359595735896, 0.034601284270485345, 0.021541399001803598, 0.9909043540829655, 0.5686959434274863, 0.43024378966110877, 0.029741931928460263, 0.9616557990202151, 0.009642596637906226, 0.9931874537043412, 0.9982501608280311, 0.0037387646472959966, 0.5344784911658239, 0.4650155825666554, 0.026110965146450695, 0.9791611929919011, 0.01774135830983288, 0.9816884931440859, 0.4792289327790774, 0.5216606612022249, 0.9276956111427196, 0.07103975400642447, 0.16175071999724025, 0.8404004799856614, 0.9326652287553949, 0.06661894491109964, 0.5418708167497475, 0.4584073023214688, 0.23041754546594678, 0.7680584848864893, 0.02598314970103157, 0.9873596886391997, 0.9687063214029302, 0.03250692353701108, 0.9552901579460047, 0.04526312469070845, 0.9618239431960911, 0.045801140152194816, 0.6860620242209153, 0.31401843894688664, 0.8328933517458457, 0.16752693602478108, 0.9900270089872516, 0.01064545170954034, 0.965998409913183, 0.01931996819826366, 0.018921843318457296, 0.9839358525597794, 0.038978805393977634, 0.9614771997181151, 0.012953276112116772, 0.9844489845208746, 0.3527423132534181, 0.6480614592330239, 0.9729343517388692, 0.030404198491839663, 0.23198288197439101, 0.7680514335638622, 0.9909882630176173, 0.9666963232526152, 0.04027901346885897, 0.6574762192381324, 0.3434139180842031, 0.7236445989606614, 0.2765762079797292, 0.6905944264855602, 0.3098527973138855, 0.7858534533973173, 0.21388671973199155, 0.951723867452959, 0.048479231854172175, 0.9739907845431023, 0.030437212016971946, 0.9502496072186505, 0.049919303943944116, 0.9654772403889059, 0.03472939713629158, 0.3606339739373383, 0.6401253037387755, 0.5175901826604614, 0.48216575951259716, 0.9876810600697004, 0.010658428705788132, 0.7196607154455859, 0.2814195633533485, 0.8609531864551723, 0.13995790715773737, 0.700816771453068, 0.3005796703250544, 0.9657959920393684, 0.031154709420624788, 0.15686302801025617, 0.8407858301349731, 0.23920445476646118, 0.7627462802930555, 0.01565325621555294, 0.9861551415798353, 0.9889674857136236, 0.02060348928570049, 0.06044097890521599, 0.936835173030848, 0.19829826031914233, 0.801124971689335, 0.7884375103848933, 0.2120419062019978, 0.9389223977744399, 0.06329813917580493, 0.07793653600785032, 0.9179192018702371, 0.01335407181443297, 0.9882013142680397, 0.47864233356757907, 0.5213519571782246, 0.979544282468574, 0.01749186218693882, 0.9214358503891134, 0.0779155314667265, 0.025166305596535, 0.981485918264865, 0.072600980142013, 0.9347376193284173, 0.8091912970940917, 0.19138549350358183, 0.7551858268633539, 0.24504554853973134, 0.1740212580641706, 0.8261430251256942, 0.9982203378081727, 0.008833808299187368, 0.9817884127920089, 0.01570861460467214, 0.9447617474072152, 0.05678895749442277, 0.4595348568442262, 0.5394539623823524, 0.5184482323384622, 0.48081892515260605, 0.016404225015613203, 0.9842535009367922, 0.9600397224392256, 0.04987219337346627, 0.3185020220314034, 0.6820364636302289, 0.02002453448644329, 0.9812021898357212, 0.9889641913223932, 0.021976982029386517, 0.1749031565229433, 0.8250148892591664, 0.12751557600248148, 0.8680868058630471, 0.1891775640930249, 0.8067866703967239, 0.7883557965419377, 0.21138877825257002, 0.012865795206909676, 0.9906662309320451, 0.18307516342351113, 0.8172998367121033, 0.23232751245500405, 0.7663340336202372, 0.03569654289073694, 0.9638066580498974, 0.7438771834054505, 0.25551460039411594, 0.018079865948683112, 0.9763127612288881, 0.7206838063423043, 0.28078589857492375, 0.7464526373136443, 0.255177099656741, 0.978461719190277, 0.02386491998025066, 0.028908256441817982, 0.9684265908009024, 0.7302336123494234, 0.2694246152434259, 0.014934374843714158, 0.9856687396851344, 0.03378844727371716, 0.9798649709377977, 0.012169834608850917, 0.9857566033169243, 0.8664675403033812, 0.1333026985082125, 0.26093251954754487, 0.73848826287041, 0.5775955123264851, 0.42216283292965684, 0.9828486061697456, 0.014669382181637993, 0.5350497753341261, 0.46493236526009757, 0.021586408441412727, 0.9713883798635727, 0.8012277196407149, 0.1987379461249815, 0.5607936875125354, 0.4397132322541471, 0.29429513216314956, 0.7059472188698863, 0.30058516119974976, 0.6975117202199322, 0.029043978677361543, 0.9874952750302924, 0.7702900993259838, 0.23010784746814344, 0.9994175095345308, 0.012188018408957692], \"Term\": [\"146s\", \"146s\", \"146t\", \"146t\", \"146ve\", \"146ve\", \"additional\", \"additional\", \"adjustable\", \"adjustable\", \"allow\", \"allow\", \"alot\", \"alot\", \"anyone\", \"anyone\", \"available\", \"available\", \"awesome\", \"awesome\", \"bauer\", \"bauer\", \"bed\", \"bed\", \"bmw\", \"bmw\", \"br\", \"br\", \"bronco\", \"bronco\", \"buy\", \"buy\", \"cab\", \"cab\", \"cabin\", \"cabin\", \"camaro\", \"camaro\", \"car\", \"car\", \"cargo\", \"cargo\", \"center\", \"center\", \"civic\", \"civic\", \"climate\", \"climate\", \"college\", \"college\", \"commute\", \"commute\", \"console\", \"console\", \"control\", \"control\", \"convertible\", \"convertible\", \"coupe\", \"coupe\", \"dash\", \"dash\", \"day\", \"day\", \"decide\", \"decide\", \"dependable\", \"dependable\", \"design\", \"design\", \"door\", \"door\", \"dream\", \"dream\", \"drive\", \"drive\", \"driver\", \"driver\", \"economical\", \"economical\", \"eddie\", \"eddie\", \"engine\", \"engine\", \"equip\", \"equip\", \"escape\", \"escape\", \"escort\", \"escort\", \"even\", \"even\", \"excursion\", \"excursion\", \"expedition\", \"expedition\", \"explorer\", \"explorer\", \"family\", \"family\", \"feature\", \"feature\", \"fix\", \"fix\", \"ford\", \"ford\", \"front\", \"front\", \"ft\", \"ft\", \"fun\", \"fun\", \"gas\", \"gas\", \"gasket\", \"gasket\", \"good\", \"good\", \"great\", \"great\", \"gt\", \"gt\", \"hatchback\", \"hatchback\", \"height\", \"height\", \"holder\", \"holder\", \"inch\", \"inch\", \"interior\", \"interior\", \"jetta\", \"jetta\", \"large\", \"large\", \"lariat\", \"leak\", \"leak\", \"like\", \"like\", \"little\", \"little\", \"look\", \"look\", \"lot\", \"lot\", \"love\", \"love\", \"maintenance\", \"maintenance\", \"mile\", \"mile\", \"mileage\", \"mileage\", \"model\", \"model\", \"much\", \"much\", \"mustang\", \"mustang\", \"need\", \"need\", \"never\", \"never\", \"new\", \"new\", \"nothing\", \"nothing\", \"offer\", \"offer\", \"option\", \"option\", \"optional\", \"optional\", \"original\", \"original\", \"package\", \"package\", \"passenger\", \"passenger\", \"people\", \"people\", \"pick\", \"pick\", \"pickup\", \"pickup\", \"position\", \"position\", \"power\", \"power\", \"probe\", \"probe\", \"problem\", \"problem\", \"produce\", \"produce\", \"provide\", \"provide\", \"quot\", \"quot\", \"really\", \"really\", \"rear\", \"rear\", \"reliable\", \"reliable\", \"repair\", \"repair\", \"replace\", \"replace\", \"ride\", \"ride\", \"road\", \"road\", \"row\", \"row\", \"safe\", \"safe\", \"seat\", \"seat\", \"shifter\", \"shifter\", \"sho\", \"sho\", \"side\", \"side\", \"standard\", \"standard\", \"steer\", \"steer\", \"still\", \"still\", \"storage\", \"storage\", \"suv\", \"suv\", \"system\", \"system\", \"tailgate\", \"tailgate\", \"take\", \"take\", \"temperature\", \"temperature\", \"thing\", \"thing\", \"think\", \"think\", \"thunderbird\", \"thunderbird\", \"tilt\", \"tilt\", \"time\", \"time\", \"torque\", \"torque\", \"trac\", \"trac\", \"trim\", \"trim\", \"trip\", \"trip\", \"truck\", \"truck\", \"use\", \"use\", \"used\", \"used\", \"vehicle\", \"vehicle\", \"vent\", \"vent\", \"want\", \"want\", \"well\", \"well\", \"wheel\", \"wheel\", \"window\", \"window\", \"xl\", \"xl\", \"year\", \"year\", \"zx2\", \"zx2\"]}, \"R\": 30, \"lambda.step\": 0.01, \"plot.opts\": {\"xlab\": \"PC1\", \"ylab\": \"PC2\"}, \"topic.order\": [1, 2]};\n",
       "\n",
       "function LDAvis_load_lib(url, callback){\n",
       "  var s = document.createElement('script');\n",
       "  s.src = url;\n",
       "  s.async = true;\n",
       "  s.onreadystatechange = s.onload = callback;\n",
       "  s.onerror = function(){console.warn(\"failed to load library \" + url);};\n",
       "  document.getElementsByTagName(\"head\")[0].appendChild(s);\n",
       "}\n",
       "\n",
       "if(typeof(LDAvis) !== \"undefined\"){\n",
       "   // already loaded: just create the visualization\n",
       "   !function(LDAvis){\n",
       "       new LDAvis(\"#\" + \"ldavis_el791051403871983242886769490512\", ldavis_el791051403871983242886769490512_data);\n",
       "   }(LDAvis);\n",
       "}else if(typeof define === \"function\" && define.amd){\n",
       "   // require.js is available: use it to load d3/LDAvis\n",
       "   require.config({paths: {d3: \"https://d3js.org/d3.v5\"}});\n",
       "   require([\"d3\"], function(d3){\n",
       "      window.d3 = d3;\n",
       "      LDAvis_load_lib(\"https://cdn.jsdelivr.net/gh/bmabey/pyLDAvis@3.3.1/pyLDAvis/js/ldavis.v3.0.0.js\", function(){\n",
       "        new LDAvis(\"#\" + \"ldavis_el791051403871983242886769490512\", ldavis_el791051403871983242886769490512_data);\n",
       "      });\n",
       "    });\n",
       "}else{\n",
       "    // require.js not available: dynamically load d3 & LDAvis\n",
       "    LDAvis_load_lib(\"https://d3js.org/d3.v5.js\", function(){\n",
       "         LDAvis_load_lib(\"https://cdn.jsdelivr.net/gh/bmabey/pyLDAvis@3.3.1/pyLDAvis/js/ldavis.v3.0.0.js\", function(){\n",
       "                 new LDAvis(\"#\" + \"ldavis_el791051403871983242886769490512\", ldavis_el791051403871983242886769490512_data);\n",
       "            })\n",
       "         });\n",
       "}\n",
       "</script>"
      ],
      "text/plain": [
       "PreparedData(topic_coordinates=               x           y  topics  cluster       Freq\n",
       "topic                                                   \n",
       "0     -60.312317  141.369629       1        1  57.263349\n",
       "1      60.312561 -141.369141       2        1  42.736651, topic_info=         Term         Freq        Total Category  logprob  loglift\n",
       "133       car  3592.000000  3592.000000  Default  30.0000  30.0000\n",
       "915     truck  1015.000000  1015.000000  Default  29.0000  29.0000\n",
       "110        br   648.000000   648.000000  Default  28.0000  28.0000\n",
       "754      seat  1221.000000  1221.000000  Default  27.0000  27.0000\n",
       "700      rear   545.000000   545.000000  Default  26.0000  26.0000\n",
       "..        ...          ...          ...      ...      ...      ...\n",
       "369      good   276.322978   878.929279   Topic2  -5.1001  -0.3070\n",
       "498      look   270.979583   874.608854   Topic2  -5.1196  -0.3216\n",
       "302  explorer   208.774240   400.643590   Topic2  -5.3804   0.1983\n",
       "933       use   220.047495   521.125933   Topic2  -5.3278  -0.0120\n",
       "133       car   235.015400  3592.578534   Topic2  -5.2620  -1.8769\n",
       "\n",
       "[185 rows x 6 columns], token_table=      Topic      Freq   Term\n",
       "term                        \n",
       "1         1  0.010071   146s\n",
       "1         2  0.997064   146s\n",
       "2         1  0.014819   146t\n",
       "2         2  0.992905   146t\n",
       "3         1  0.032703  146ve\n",
       "...     ...       ...    ...\n",
       "991       2  0.987495     xl\n",
       "993       1  0.770290   year\n",
       "993       2  0.230108   year\n",
       "998       1  0.999418    zx2\n",
       "998       2  0.012188    zx2\n",
       "\n",
       "[287 rows x 3 columns], R=30, lambda_step=0.01, plot_opts={'xlab': 'PC1', 'ylab': 'PC2'}, topic_order=[1, 2])"
      ]
     },
     "execution_count": 19,
     "metadata": {},
     "output_type": "execute_result"
    }
   ],
   "source": [
    "pyLDAvis.enable_notebook()\n",
    "pyLDAvis.sklearn.prepare(lda_Pos, bow_corpus_Pos, bow_vectorizer_Pos, mds='tsne')"
   ]
  },
  {
   "cell_type": "code",
   "execution_count": 20,
   "id": "4b9df808",
   "metadata": {},
   "outputs": [
    {
     "data": {
      "text/html": [
       "<div>\n",
       "<style scoped>\n",
       "    .dataframe tbody tr th:only-of-type {\n",
       "        vertical-align: middle;\n",
       "    }\n",
       "\n",
       "    .dataframe tbody tr th {\n",
       "        vertical-align: top;\n",
       "    }\n",
       "\n",
       "    .dataframe thead th {\n",
       "        text-align: right;\n",
       "    }\n",
       "</style>\n",
       "<table border=\"1\" class=\"dataframe\">\n",
       "  <thead>\n",
       "    <tr style=\"text-align: right;\">\n",
       "      <th></th>\n",
       "      <th>Topic_0</th>\n",
       "      <th>Topic_1</th>\n",
       "    </tr>\n",
       "  </thead>\n",
       "  <tbody>\n",
       "    <tr>\n",
       "      <th>Doc_0</th>\n",
       "      <td>0.9686</td>\n",
       "      <td>0.0314</td>\n",
       "    </tr>\n",
       "    <tr>\n",
       "      <th>Doc_1</th>\n",
       "      <td>0.8783</td>\n",
       "      <td>0.1217</td>\n",
       "    </tr>\n",
       "    <tr>\n",
       "      <th>Doc_2</th>\n",
       "      <td>0.7882</td>\n",
       "      <td>0.2118</td>\n",
       "    </tr>\n",
       "    <tr>\n",
       "      <th>Doc_3</th>\n",
       "      <td>0.9886</td>\n",
       "      <td>0.0114</td>\n",
       "    </tr>\n",
       "    <tr>\n",
       "      <th>Doc_4</th>\n",
       "      <td>0.5529</td>\n",
       "      <td>0.4471</td>\n",
       "    </tr>\n",
       "  </tbody>\n",
       "</table>\n",
       "</div>"
      ],
      "text/plain": [
       "       Topic_0  Topic_1\n",
       "Doc_0   0.9686   0.0314\n",
       "Doc_1   0.8783   0.1217\n",
       "Doc_2   0.7882   0.2118\n",
       "Doc_3   0.9886   0.0114\n",
       "Doc_4   0.5529   0.4471"
      ]
     },
     "execution_count": 20,
     "metadata": {},
     "output_type": "execute_result"
    }
   ],
   "source": [
    "lda_Pos_topic_weights = lda_Pos.transform(bow_corpus_Pos)\n",
    "Pos_doc_names = [\"Doc_\" + str(i) for i in range(len(normalized_Pos))]\n",
    "Pos_topic_names = [\"Topic_\" + str(i) for i in range(2)]\n",
    "df_Pos_document_topic = pd.DataFrame(np.round(lda_Pos_topic_weights, 4), columns=Pos_topic_names, index=Pos_doc_names)\n",
    "df_Pos_document_topic.head()"
   ]
  },
  {
   "cell_type": "code",
   "execution_count": 21,
   "id": "d49d3599",
   "metadata": {},
   "outputs": [
    {
     "data": {
      "text/html": [
       "<div>\n",
       "<style scoped>\n",
       "    .dataframe tbody tr th:only-of-type {\n",
       "        vertical-align: middle;\n",
       "    }\n",
       "\n",
       "    .dataframe tbody tr th {\n",
       "        vertical-align: top;\n",
       "    }\n",
       "\n",
       "    .dataframe thead th {\n",
       "        text-align: right;\n",
       "    }\n",
       "</style>\n",
       "<table border=\"1\" class=\"dataframe\">\n",
       "  <thead>\n",
       "    <tr style=\"text-align: right;\">\n",
       "      <th></th>\n",
       "      <th>Topic_0</th>\n",
       "      <th>Topic_1</th>\n",
       "      <th>Pos_dominant_topic</th>\n",
       "    </tr>\n",
       "  </thead>\n",
       "  <tbody>\n",
       "    <tr>\n",
       "      <th>Doc_0</th>\n",
       "      <td>0.9686</td>\n",
       "      <td>0.0314</td>\n",
       "      <td>0</td>\n",
       "    </tr>\n",
       "    <tr>\n",
       "      <th>Doc_1</th>\n",
       "      <td>0.8783</td>\n",
       "      <td>0.1217</td>\n",
       "      <td>0</td>\n",
       "    </tr>\n",
       "    <tr>\n",
       "      <th>Doc_2</th>\n",
       "      <td>0.7882</td>\n",
       "      <td>0.2118</td>\n",
       "      <td>0</td>\n",
       "    </tr>\n",
       "    <tr>\n",
       "      <th>Doc_3</th>\n",
       "      <td>0.9886</td>\n",
       "      <td>0.0114</td>\n",
       "      <td>0</td>\n",
       "    </tr>\n",
       "    <tr>\n",
       "      <th>Doc_4</th>\n",
       "      <td>0.5529</td>\n",
       "      <td>0.4471</td>\n",
       "      <td>0</td>\n",
       "    </tr>\n",
       "    <tr>\n",
       "      <th>Doc_5</th>\n",
       "      <td>0.9890</td>\n",
       "      <td>0.0110</td>\n",
       "      <td>0</td>\n",
       "    </tr>\n",
       "    <tr>\n",
       "      <th>Doc_6</th>\n",
       "      <td>0.3609</td>\n",
       "      <td>0.6391</td>\n",
       "      <td>1</td>\n",
       "    </tr>\n",
       "    <tr>\n",
       "      <th>Doc_7</th>\n",
       "      <td>0.5223</td>\n",
       "      <td>0.4777</td>\n",
       "      <td>0</td>\n",
       "    </tr>\n",
       "    <tr>\n",
       "      <th>Doc_8</th>\n",
       "      <td>0.5262</td>\n",
       "      <td>0.4738</td>\n",
       "      <td>0</td>\n",
       "    </tr>\n",
       "    <tr>\n",
       "      <th>Doc_9</th>\n",
       "      <td>0.4398</td>\n",
       "      <td>0.5602</td>\n",
       "      <td>1</td>\n",
       "    </tr>\n",
       "  </tbody>\n",
       "</table>\n",
       "</div>"
      ],
      "text/plain": [
       "       Topic_0  Topic_1  Pos_dominant_topic\n",
       "Doc_0   0.9686   0.0314                   0\n",
       "Doc_1   0.8783   0.1217                   0\n",
       "Doc_2   0.7882   0.2118                   0\n",
       "Doc_3   0.9886   0.0114                   0\n",
       "Doc_4   0.5529   0.4471                   0\n",
       "Doc_5   0.9890   0.0110                   0\n",
       "Doc_6   0.3609   0.6391                   1\n",
       "Doc_7   0.5223   0.4777                   0\n",
       "Doc_8   0.5262   0.4738                   0\n",
       "Doc_9   0.4398   0.5602                   1"
      ]
     },
     "execution_count": 21,
     "metadata": {},
     "output_type": "execute_result"
    }
   ],
   "source": [
    "Pos_dominant_topic = np.argmax(df_Pos_document_topic.values, axis=1)\n",
    "df_Pos_document_topic['Pos_dominant_topic'] = Pos_dominant_topic\n",
    "df_Pos_document_topic.head(10)"
   ]
  },
  {
   "cell_type": "code",
   "execution_count": 22,
   "id": "ffc1eb65",
   "metadata": {},
   "outputs": [],
   "source": [
    "from gensim.models.coherencemodel import CoherenceModel\n",
    "from gensim.corpora.dictionary import Dictionary\n",
    "\n",
    "Pos_corpus_tokenized = [tokenize_text(normalized_Pos[doc_id]) for doc_id in range(len(normalized_Pos))]\n",
    "Pos_dictionary = Dictionary(Pos_corpus_tokenized)\n",
    "Pos_corpus_bow = [Pos_dictionary.doc2bow(doc) for doc in Pos_corpus_tokenized]\n",
    "Pos_topic_topwords = get_topic_words(vectorizer = bow_vectorizer_Pos, lda_model = lda_Pos, n_words=20)"
   ]
  },
  {
   "cell_type": "code",
   "execution_count": 23,
   "id": "ccf6ceff",
   "metadata": {},
   "outputs": [
    {
     "name": "stdout",
     "output_type": "stream",
     "text": [
      "Coherence score for the model (higher values are better):  -0.73658\n",
      "Coherence score by topic (higher values are better):  [-0.69924 -0.77391]\n",
      "Log-Likelihood (higher values are better):  -669225.9580643387\n",
      "Perplexity (lower values are better):  549.8812404565177\n"
     ]
    }
   ],
   "source": [
    "cm_Pos = CoherenceModel(topics=Pos_topic_topwords, \n",
    "                    corpus = Pos_corpus_bow , \n",
    "                    dictionary = Pos_dictionary, coherence='u_mass')\n",
    "print(\"Coherence score for the model (higher values are better): \", np.round(cm_Pos.get_coherence(), 5))\n",
    "print(\"Coherence score by topic (higher values are better): \", np.round(cm_Pos.get_coherence_per_topic(),5))\n",
    "print(\"Log-Likelihood (higher values are better): \", lda_Pos.score(bow_corpus_Pos))\n",
    "print(\"Perplexity (lower values are better): \", lda_Pos.perplexity(bow_corpus_Pos))"
   ]
  },
  {
   "cell_type": "markdown",
   "id": "78c986a2",
   "metadata": {},
   "source": [
    "**Negative Label Topic Modeling**"
   ]
  },
  {
   "cell_type": "code",
   "execution_count": 24,
   "id": "2fda65d5",
   "metadata": {},
   "outputs": [],
   "source": [
    "normalized_Neg = normalize_corpus(df_Neg['text'])\n",
    "\n",
    "bow_vectorizer_Neg = CountVectorizer(max_features=1000)\n",
    "\n",
    "bow_corpus_Neg = bow_vectorizer_Neg.fit_transform(normalized_Neg)"
   ]
  },
  {
   "cell_type": "code",
   "execution_count": 25,
   "id": "fafa9864",
   "metadata": {},
   "outputs": [],
   "source": [
    "lda_Neg = LatentDirichletAllocation(n_components=2, max_iter=100,\n",
    "                                learning_method = 'online',\n",
    "                                learning_offset = 50.,\n",
    "                                random_state = 0)"
   ]
  },
  {
   "cell_type": "code",
   "execution_count": 26,
   "id": "a2fe47b1",
   "metadata": {},
   "outputs": [
    {
     "data": {
      "text/plain": [
       "LatentDirichletAllocation(learning_method='online', learning_offset=50.0,\n",
       "                          max_iter=100, n_components=2, random_state=0)"
      ]
     },
     "execution_count": 26,
     "metadata": {},
     "output_type": "execute_result"
    }
   ],
   "source": [
    "lda_Neg.fit(bow_corpus_Neg)"
   ]
  },
  {
   "cell_type": "code",
   "execution_count": 27,
   "id": "96de011c",
   "metadata": {},
   "outputs": [
    {
     "name": "stdout",
     "output_type": "stream",
     "text": [
      "Topic 0:\n",
      "car ford problem time buy mile drive vehicle br quot replace year new take transmission work repair first month truck\n",
      "Topic 1:\n",
      "car seat like ford drive good look engine vehicle well power rear much even front model use door road little\n"
     ]
    }
   ],
   "source": [
    "no_top_words_Neg = 20\n",
    "display_topics(lda_Neg, bow_vectorizer_Neg.get_feature_names(), no_top_words_Neg)"
   ]
  },
  {
   "cell_type": "code",
   "execution_count": 28,
   "id": "61b56d64",
   "metadata": {},
   "outputs": [
    {
     "data": {
      "text/html": [
       "<div>\n",
       "<style scoped>\n",
       "    .dataframe tbody tr th:only-of-type {\n",
       "        vertical-align: middle;\n",
       "    }\n",
       "\n",
       "    .dataframe tbody tr th {\n",
       "        vertical-align: top;\n",
       "    }\n",
       "\n",
       "    .dataframe thead th {\n",
       "        text-align: right;\n",
       "    }\n",
       "</style>\n",
       "<table border=\"1\" class=\"dataframe\">\n",
       "  <thead>\n",
       "    <tr style=\"text-align: right;\">\n",
       "      <th></th>\n",
       "      <th>Topic_0</th>\n",
       "      <th>Topic_1</th>\n",
       "    </tr>\n",
       "  </thead>\n",
       "  <tbody>\n",
       "    <tr>\n",
       "      <th>146s</th>\n",
       "      <td>0.000009</td>\n",
       "      <td>0.000620</td>\n",
       "    </tr>\n",
       "    <tr>\n",
       "      <th>146t</th>\n",
       "      <td>0.000009</td>\n",
       "      <td>0.000417</td>\n",
       "    </tr>\n",
       "    <tr>\n",
       "      <th>2nd</th>\n",
       "      <td>0.000126</td>\n",
       "      <td>0.000639</td>\n",
       "    </tr>\n",
       "    <tr>\n",
       "      <th>3rd</th>\n",
       "      <td>0.000084</td>\n",
       "      <td>0.000823</td>\n",
       "    </tr>\n",
       "    <tr>\n",
       "      <th>4wd</th>\n",
       "      <td>0.000099</td>\n",
       "      <td>0.000477</td>\n",
       "    </tr>\n",
       "  </tbody>\n",
       "</table>\n",
       "</div>"
      ],
      "text/plain": [
       "       Topic_0   Topic_1\n",
       "146s  0.000009  0.000620\n",
       "146t  0.000009  0.000417\n",
       "2nd   0.000126  0.000639\n",
       "3rd   0.000084  0.000823\n",
       "4wd   0.000099  0.000477"
      ]
     },
     "execution_count": 28,
     "metadata": {},
     "output_type": "execute_result"
    }
   ],
   "source": [
    "word_weights_Neg = lda_Neg.components_ / lda_Neg.components_.sum(axis=1)[:, np.newaxis]\n",
    "word_weights_df_Neg = pd.DataFrame(word_weights_Neg.T, \n",
    "                               index = bow_vectorizer_Neg.get_feature_names(), \n",
    "                               columns = [\"Topic_\" + str(i) for i in range(2)])\n",
    "word_weights_df_Neg.head()"
   ]
  },
  {
   "cell_type": "code",
   "execution_count": 29,
   "id": "a55392d0",
   "metadata": {},
   "outputs": [
    {
     "data": {
      "text/html": [
       "<div>\n",
       "<style scoped>\n",
       "    .dataframe tbody tr th:only-of-type {\n",
       "        vertical-align: middle;\n",
       "    }\n",
       "\n",
       "    .dataframe tbody tr th {\n",
       "        vertical-align: top;\n",
       "    }\n",
       "\n",
       "    .dataframe thead th {\n",
       "        text-align: right;\n",
       "    }\n",
       "</style>\n",
       "<table border=\"1\" class=\"dataframe\">\n",
       "  <thead>\n",
       "    <tr style=\"text-align: right;\">\n",
       "      <th></th>\n",
       "      <th>Topic_0</th>\n",
       "      <th>Topic_1</th>\n",
       "    </tr>\n",
       "  </thead>\n",
       "  <tbody>\n",
       "    <tr>\n",
       "      <th>car</th>\n",
       "      <td>0.041996</td>\n",
       "      <td>0.029586</td>\n",
       "    </tr>\n",
       "    <tr>\n",
       "      <th>ford</th>\n",
       "      <td>0.024765</td>\n",
       "      <td>0.012432</td>\n",
       "    </tr>\n",
       "    <tr>\n",
       "      <th>problem</th>\n",
       "      <td>0.017171</td>\n",
       "      <td>0.001776</td>\n",
       "    </tr>\n",
       "    <tr>\n",
       "      <th>time</th>\n",
       "      <td>0.012816</td>\n",
       "      <td>0.003428</td>\n",
       "    </tr>\n",
       "    <tr>\n",
       "      <th>buy</th>\n",
       "      <td>0.011555</td>\n",
       "      <td>0.002701</td>\n",
       "    </tr>\n",
       "    <tr>\n",
       "      <th>mile</th>\n",
       "      <td>0.011091</td>\n",
       "      <td>0.002257</td>\n",
       "    </tr>\n",
       "    <tr>\n",
       "      <th>drive</th>\n",
       "      <td>0.010209</td>\n",
       "      <td>0.011495</td>\n",
       "    </tr>\n",
       "    <tr>\n",
       "      <th>vehicle</th>\n",
       "      <td>0.010020</td>\n",
       "      <td>0.008151</td>\n",
       "    </tr>\n",
       "    <tr>\n",
       "      <th>br</th>\n",
       "      <td>0.009493</td>\n",
       "      <td>0.002582</td>\n",
       "    </tr>\n",
       "    <tr>\n",
       "      <th>quot</th>\n",
       "      <td>0.008861</td>\n",
       "      <td>0.002786</td>\n",
       "    </tr>\n",
       "  </tbody>\n",
       "</table>\n",
       "</div>"
      ],
      "text/plain": [
       "          Topic_0   Topic_1\n",
       "car      0.041996  0.029586\n",
       "ford     0.024765  0.012432\n",
       "problem  0.017171  0.001776\n",
       "time     0.012816  0.003428\n",
       "buy      0.011555  0.002701\n",
       "mile     0.011091  0.002257\n",
       "drive    0.010209  0.011495\n",
       "vehicle  0.010020  0.008151\n",
       "br       0.009493  0.002582\n",
       "quot     0.008861  0.002786"
      ]
     },
     "execution_count": 29,
     "metadata": {},
     "output_type": "execute_result"
    }
   ],
   "source": [
    "word_weights_df_Neg.sort_values(by='Topic_0',ascending=False).head(10)"
   ]
  },
  {
   "cell_type": "code",
   "execution_count": 30,
   "id": "cb016abf",
   "metadata": {},
   "outputs": [
    {
     "name": "stderr",
     "output_type": "stream",
     "text": [
      "/Users/yangweichao/opt/anaconda3/lib/python3.9/site-packages/past/builtins/misc.py:45: DeprecationWarning: the imp module is deprecated in favour of importlib; see the module's documentation for alternative uses\n",
      "  from imp import reload\n",
      "/Users/yangweichao/opt/anaconda3/lib/python3.9/site-packages/past/builtins/misc.py:45: DeprecationWarning: the imp module is deprecated in favour of importlib; see the module's documentation for alternative uses\n",
      "  from imp import reload\n",
      "/Users/yangweichao/opt/anaconda3/lib/python3.9/site-packages/past/builtins/misc.py:45: DeprecationWarning: the imp module is deprecated in favour of importlib; see the module's documentation for alternative uses\n",
      "  from imp import reload\n",
      "/Users/yangweichao/opt/anaconda3/lib/python3.9/site-packages/past/builtins/misc.py:45: DeprecationWarning: the imp module is deprecated in favour of importlib; see the module's documentation for alternative uses\n",
      "  from imp import reload\n",
      "/Users/yangweichao/opt/anaconda3/lib/python3.9/site-packages/past/builtins/misc.py:45: DeprecationWarning: the imp module is deprecated in favour of importlib; see the module's documentation for alternative uses\n",
      "  from imp import reload\n",
      "/Users/yangweichao/opt/anaconda3/lib/python3.9/site-packages/past/builtins/misc.py:45: DeprecationWarning: the imp module is deprecated in favour of importlib; see the module's documentation for alternative uses\n",
      "  from imp import reload\n",
      "/Users/yangweichao/opt/anaconda3/lib/python3.9/site-packages/past/builtins/misc.py:45: DeprecationWarning: the imp module is deprecated in favour of importlib; see the module's documentation for alternative uses\n",
      "  from imp import reload\n",
      "/Users/yangweichao/opt/anaconda3/lib/python3.9/site-packages/past/builtins/misc.py:45: DeprecationWarning: the imp module is deprecated in favour of importlib; see the module's documentation for alternative uses\n",
      "  from imp import reload\n"
     ]
    },
    {
     "data": {
      "text/html": [
       "\n",
       "<link rel=\"stylesheet\" type=\"text/css\" href=\"https://cdn.jsdelivr.net/gh/bmabey/pyLDAvis@3.3.1/pyLDAvis/js/ldavis.v1.0.0.css\">\n",
       "\n",
       "\n",
       "<div id=\"ldavis_el791051403867556451042975727987\"></div>\n",
       "<script type=\"text/javascript\">\n",
       "\n",
       "var ldavis_el791051403867556451042975727987_data = {\"mdsDat\": {\"x\": [-60.31231689453125, 60.31256103515625], \"y\": [141.36962890625, -141.369140625], \"topics\": [1, 2], \"cluster\": [1, 1], \"Freq\": [52.790936250914925, 47.209063749085075]}, \"tinfo\": {\"Term\": [\"problem\", \"seat\", \"replace\", \"repair\", \"fix\", \"month\", \"mile\", \"buy\", \"time\", \"service\", \"dealer\", \"dealership\", \"purchase\", \"ford\", \"suv\", \"br\", \"break\", \"start\", \"work\", \"day\", \"warranty\", \"week\", \"quot\", \"recall\", \"car\", \"sport\", \"later\", \"mechanic\", \"feel\", \"shop\", \"expedition\", \"row\", \"excursion\", \"horsepower\", \"sedan\", \"fold\", \"optional\", \"mach\", \"cargo\", \"storage\", \"escape\", \"trac\", \"content\", \"seating\", \"adult\", \"href\", \"height\", \"adequate\", \"146s\", \"lb\", \"equip\", \"trim\", \"impression\", \"cabin\", \"instrument\", \"adjustable\", \"prefer\", \"airbags\", \"lumbar\", \"luxury\", \"suv\", \"acceleration\", \"position\", \"exterior\", \"rpm\", \"seat\", \"option\", \"size\", \"style\", \"torque\", \"sport\", \"lack\", \"leg\", \"market\", \"large\", \"feel\", \"space\", \"speed\", \"feature\", \"foot\", \"room\", \"design\", \"easy\", \"standard\", \"small\", \"average\", \"model\", \"mustang\", \"interior\", \"like\", \"power\", \"driver\", \"look\", \"rear\", \"good\", \"road\", \"much\", \"front\", \"wheel\", \"car\", \"drive\", \"engine\", \"well\", \"use\", \"control\", \"even\", \"ford\", \"vehicle\", \"little\", \"door\", \"taurus\", \"truck\", \"thing\", \"repair\", \"mechanic\", \"leak\", \"probe\", \"lemon\", \"service\", \"gasket\", \"wife\", \"dealership\", \"refuse\", \"alternator\", \"replace\", \"fix\", \"radiator\", \"rebuild\", \"crack\", \"manager\", \"expire\", \"rotor\", \"inform\", \"fell\", \"apart\", \"winter\", \"freeze\", \"overheat\", \"rod\", \"month\", \"eventually\", \"strand\", \"bill\", \"later\", \"purchase\", \"dealer\", \"break\", \"motor\", \"problem\", \"oil\", \"shop\", \"trade\", \"recall\", \"week\", \"warranty\", \"customer\", \"start\", \"day\", \"mile\", \"buy\", \"cost\", \"time\", \"work\", \"br\", \"ford\", \"quot\", \"car\", \"brake\", \"transmission\", \"year\", \"take\", \"another\", \"new\", \"first\", \"vehicle\", \"drive\", \"truck\", \"engine\", \"know\", \"like\", \"good\"], \"Freq\": [1040.0, 1078.0, 481.0, 382.0, 354.0, 376.0, 739.0, 791.0, 904.0, 268.0, 344.0, 254.0, 313.0, 2100.0, 282.0, 672.0, 253.0, 385.0, 491.0, 355.0, 288.0, 259.0, 650.0, 243.0, 4077.0, 240.0, 171.0, 134.0, 329.0, 186.0, 131.11176869558597, 85.55065903235281, 88.4018318585225, 73.27608103663724, 121.89413188757682, 77.34620813488182, 56.37689232550523, 56.35045843263445, 82.20786868700173, 51.6302720321504, 49.75877467373212, 48.438150625717945, 55.85221659366104, 46.31255403167751, 45.804433146783026, 38.19852819037974, 45.80760656446403, 45.67677128841995, 37.686034923108636, 38.47501335934052, 49.996132751648844, 67.48287768444568, 34.69563946401467, 39.852629025178324, 33.03001222843489, 32.942685182263546, 31.031349911514305, 48.3132843518981, 31.971216688765654, 34.303436531310865, 275.52647086689643, 104.40812329958747, 73.97339874597382, 94.29215412324737, 64.71892497411716, 1012.853706244569, 146.56146316438827, 170.8756463964032, 81.24701015300346, 70.2836171462908, 228.70117889420342, 100.80704840497911, 73.2225953777009, 71.02781091888467, 223.7692764061329, 293.9570364918175, 177.99421747045292, 291.6898765839127, 190.71061072040163, 125.09188342828557, 232.0274816449793, 207.695672078501, 187.1962141182733, 147.7665591509642, 285.85771897428003, 107.19147900030248, 338.75213591557616, 280.55850334357143, 295.2067134215162, 799.3579203581935, 429.2924166177104, 286.8223627835073, 552.4830041829198, 392.5391657632291, 637.6473894409523, 306.6113236267481, 377.258845380306, 351.56097666758666, 273.0657918700317, 1796.961830409904, 698.1645864014858, 512.9741393411596, 439.1782603406371, 328.831783752283, 244.21043670190767, 361.01615483544725, 755.0852704750215, 495.04134090055044, 295.60716229809486, 321.3900603043695, 290.6463376991154, 293.83110050465666, 276.74285866373333, 381.33124707723914, 133.57394771906206, 118.92059047171068, 72.36864114794012, 64.66618248158323, 265.9272813907141, 121.4231434164346, 59.79003941987754, 251.41769793042474, 45.45087982186162, 41.52514133593813, 474.0360247206514, 349.2354772715421, 35.03039368658319, 34.40704109823007, 55.25907207040885, 35.26545707944881, 36.48895222336911, 36.38476590741421, 29.235954592554865, 37.55746855832292, 41.19772993874167, 38.101888137539554, 23.27984329691087, 24.537747955555727, 38.35446717595557, 364.35849251947366, 42.064706970964906, 24.65504952094711, 39.07266008748446, 164.36061582657615, 296.06272410936845, 322.086804065795, 238.01370497340187, 132.24660864275248, 932.6366745804172, 134.6861602278633, 172.67165594510044, 102.24494096785543, 221.71108482914164, 235.08728104309492, 258.64188202978, 77.27950441274837, 330.260376222514, 305.5742921171091, 602.3797232236948, 627.5935239133714, 215.78504599872224, 696.0703885293981, 397.7394833581032, 515.587689437541, 1345.0597442713408, 481.27838444707345, 2280.9744964880815, 323.9759333755738, 429.5545835026694, 469.22640018094813, 441.0791712495455, 275.8864510283309, 449.9715747064819, 375.0745700112607, 544.2161450343428, 554.4716383946388, 351.9505732009583, 335.8996275049471, 275.58756461922616, 311.47608698994674, 277.02550756325513], \"Total\": [1040.0, 1078.0, 481.0, 382.0, 354.0, 376.0, 739.0, 791.0, 904.0, 268.0, 344.0, 254.0, 313.0, 2100.0, 282.0, 672.0, 253.0, 385.0, 491.0, 355.0, 288.0, 259.0, 650.0, 243.0, 4077.0, 240.0, 171.0, 134.0, 329.0, 186.0, 131.7390759349919, 86.0741324775343, 88.96151509994901, 73.88674293411879, 122.93655708657803, 78.01571204394399, 56.88745135011666, 56.868633882555365, 83.03261557774418, 52.149170731387805, 50.301258741800794, 48.9690301979966, 56.4882918798576, 46.87330459474028, 46.38493355249451, 38.69270775926158, 46.40430679629792, 46.27712460873259, 38.18595525909841, 39.04939522876992, 50.74496535824102, 68.49762011953877, 35.223776675404, 40.48690367054277, 33.58113486872102, 33.52368317651363, 31.580766221454514, 49.18363700059865, 32.54820429256019, 34.93866786750185, 282.63726044372197, 106.48450544670283, 75.35661988844247, 96.58637082110452, 66.15013653060986, 1078.3547183520363, 151.1696078817522, 177.62932185399606, 83.29432897121029, 72.06793690800544, 240.28528532797222, 105.25357763040388, 75.51327156224254, 73.18755985018117, 242.75172911603707, 329.91939412123327, 193.78522934291254, 327.78641413345804, 209.1291669564497, 133.63264851943904, 259.0426650742152, 231.3916825130774, 207.50945265606785, 160.74982199111562, 329.9866209211268, 113.99504389110052, 401.5069368036849, 327.78948515409354, 352.89208354457276, 1110.8340073481402, 561.1484670251435, 355.2707094520823, 762.0521767660991, 511.90102555920737, 914.6728970042075, 388.5072947604918, 506.3687931645376, 480.80751603146723, 355.43303134918995, 4077.9363268979855, 1252.6362247961247, 848.8737668461067, 702.9464649830882, 492.2940844331765, 313.0155451452771, 607.9630311966012, 2100.1450147463624, 1039.2574859348933, 436.9505491275815, 524.4231736887621, 439.16497119989714, 645.7816737056149, 550.4136641543787, 382.5467821037398, 134.16911017230643, 119.57175870734994, 73.03457621064473, 65.27746957647834, 268.6548967096119, 122.87401795708485, 60.51661510368093, 254.5309384742773, 46.074519947515384, 42.12158397553999, 481.0256230433237, 354.41475426749236, 35.59121880513256, 34.984842250918746, 56.22448826017686, 35.88433974492445, 37.14174203455535, 37.06848857799579, 29.90117117353634, 38.47224696198365, 42.208702886551755, 39.07055858851501, 23.87947458474786, 25.18521390564879, 39.41006335682394, 376.49670001668375, 43.55505349546718, 25.571006293527187, 40.60560887693482, 171.52421180421842, 313.4882181746458, 344.604118509221, 253.26044435861058, 139.10812375127637, 1040.5276386259025, 142.12012739341782, 186.15359171667134, 108.23200189946542, 243.27001422932653, 259.8820028962387, 288.42934645659653, 81.95986691883691, 385.8002532698203, 355.48093947332427, 739.4526880269997, 791.6599397075859, 248.27289310542494, 904.270461725639, 491.07034203671424, 672.3822680765679, 2100.1450147463624, 650.4907755526601, 4077.9363268979855, 417.11355947558854, 613.0540886058754, 690.0403564125261, 646.3001067332712, 353.0718359276264, 697.8763188063381, 566.6455419611914, 1039.2574859348933, 1252.6362247961247, 645.7816737056149, 848.8737668461067, 412.7150455323974, 1110.8340073481402, 914.6728970042075], \"Category\": [\"Default\", \"Default\", \"Default\", \"Default\", \"Default\", \"Default\", \"Default\", \"Default\", \"Default\", \"Default\", \"Default\", \"Default\", \"Default\", \"Default\", \"Default\", \"Default\", \"Default\", \"Default\", \"Default\", \"Default\", \"Default\", \"Default\", \"Default\", \"Default\", \"Default\", \"Default\", \"Default\", \"Default\", \"Default\", \"Default\", \"Topic1\", \"Topic1\", \"Topic1\", \"Topic1\", \"Topic1\", \"Topic1\", \"Topic1\", \"Topic1\", \"Topic1\", \"Topic1\", \"Topic1\", \"Topic1\", \"Topic1\", \"Topic1\", \"Topic1\", \"Topic1\", \"Topic1\", \"Topic1\", \"Topic1\", \"Topic1\", \"Topic1\", \"Topic1\", \"Topic1\", \"Topic1\", \"Topic1\", \"Topic1\", \"Topic1\", \"Topic1\", \"Topic1\", \"Topic1\", \"Topic1\", \"Topic1\", \"Topic1\", \"Topic1\", \"Topic1\", \"Topic1\", \"Topic1\", \"Topic1\", \"Topic1\", \"Topic1\", \"Topic1\", \"Topic1\", \"Topic1\", \"Topic1\", \"Topic1\", \"Topic1\", \"Topic1\", \"Topic1\", \"Topic1\", \"Topic1\", \"Topic1\", \"Topic1\", \"Topic1\", \"Topic1\", \"Topic1\", \"Topic1\", \"Topic1\", \"Topic1\", \"Topic1\", \"Topic1\", \"Topic1\", \"Topic1\", \"Topic1\", \"Topic1\", \"Topic1\", \"Topic1\", \"Topic1\", \"Topic1\", \"Topic1\", \"Topic1\", \"Topic1\", \"Topic1\", \"Topic1\", \"Topic1\", \"Topic1\", \"Topic1\", \"Topic1\", \"Topic1\", \"Topic1\", \"Topic1\", \"Topic1\", \"Topic1\", \"Topic1\", \"Topic2\", \"Topic2\", \"Topic2\", \"Topic2\", \"Topic2\", \"Topic2\", \"Topic2\", \"Topic2\", \"Topic2\", \"Topic2\", \"Topic2\", \"Topic2\", \"Topic2\", \"Topic2\", \"Topic2\", \"Topic2\", \"Topic2\", \"Topic2\", \"Topic2\", \"Topic2\", \"Topic2\", \"Topic2\", \"Topic2\", \"Topic2\", \"Topic2\", \"Topic2\", \"Topic2\", \"Topic2\", \"Topic2\", \"Topic2\", \"Topic2\", \"Topic2\", \"Topic2\", \"Topic2\", \"Topic2\", \"Topic2\", \"Topic2\", \"Topic2\", \"Topic2\", \"Topic2\", \"Topic2\", \"Topic2\", \"Topic2\", \"Topic2\", \"Topic2\", \"Topic2\", \"Topic2\", \"Topic2\", \"Topic2\", \"Topic2\", \"Topic2\", \"Topic2\", \"Topic2\", \"Topic2\", \"Topic2\", \"Topic2\", \"Topic2\", \"Topic2\", \"Topic2\", \"Topic2\", \"Topic2\", \"Topic2\", \"Topic2\", \"Topic2\", \"Topic2\", \"Topic2\", \"Topic2\", \"Topic2\"], \"logprob\": [30.0, 29.0, 28.0, 27.0, 26.0, 25.0, 24.0, 23.0, 22.0, 21.0, 20.0, 19.0, 18.0, 17.0, 16.0, 15.0, 14.0, 13.0, 12.0, 11.0, 10.0, 9.0, 8.0, 7.0, 6.0, 5.0, 4.0, 3.0, 2.0, 1.0, -6.1382, -6.5652, -6.5324, -6.7201, -6.2111, -6.666, -6.9822, -6.9827, -6.605, -7.0702, -7.1071, -7.134, -6.9916, -7.1789, -7.1899, -7.3715, -7.1898, -7.1927, -7.385, -7.3643, -7.1023, -6.8024, -7.4677, -7.3291, -7.5169, -7.5195, -7.5793, -7.1366, -7.5495, -7.479, -5.3956, -6.366, -6.7106, -6.4679, -6.8442, -4.0938, -6.0268, -5.8734, -6.6168, -6.7618, -5.5819, -6.4011, -6.7208, -6.7512, -5.6037, -5.3309, -5.8325, -5.3386, -5.7635, -6.1852, -5.5674, -5.6782, -5.7821, -6.0187, -5.3588, -6.3397, -5.189, -5.3775, -5.3266, -4.3305, -4.9522, -5.3554, -4.6999, -5.0417, -4.5565, -5.2887, -5.0814, -5.1519, -5.4046, -3.5204, -4.4658, -4.7741, -4.9294, -5.2187, -5.5163, -5.1254, -4.3875, -4.8097, -5.3253, -5.2416, -5.3422, -5.3313, -5.3912, -4.9589, -6.0079, -6.1241, -6.6208, -6.7333, -5.3193, -6.1033, -6.8117, -5.3754, -7.0859, -7.1762, -4.7413, -5.0468, -7.3463, -7.3643, -6.8905, -7.3396, -7.3055, -7.3084, -7.5271, -7.2767, -7.1842, -7.2623, -7.7549, -7.7023, -7.2557, -5.0044, -7.1633, -7.6976, -7.2371, -5.8005, -5.212, -5.1277, -5.4302, -6.0179, -4.0645, -5.9996, -5.7511, -6.2752, -5.5012, -5.4426, -5.3471, -6.5551, -5.1027, -5.1803, -4.5016, -4.4606, -5.5283, -4.3571, -4.9167, -4.6572, -3.6983, -4.7261, -3.1702, -5.1219, -4.8398, -4.7515, -4.8133, -5.2825, -4.7934, -4.9754, -4.6032, -4.5845, -5.039, -5.0857, -5.2836, -5.1612, -5.2784], \"loglift\": [30.0, 29.0, 28.0, 27.0, 26.0, 25.0, 24.0, 23.0, 22.0, 21.0, 20.0, 19.0, 18.0, 17.0, 16.0, 15.0, 14.0, 13.0, 12.0, 11.0, 10.0, 9.0, 8.0, 7.0, 6.0, 5.0, 4.0, 3.0, 2.0, 1.0, 0.6341, 0.6327, 0.6325, 0.6305, 0.6303, 0.6302, 0.6298, 0.6297, 0.6288, 0.6288, 0.628, 0.6279, 0.6275, 0.6268, 0.6262, 0.626, 0.6259, 0.6258, 0.6257, 0.624, 0.624, 0.6239, 0.6237, 0.623, 0.6223, 0.6213, 0.6213, 0.621, 0.6209, 0.6205, 0.6134, 0.6191, 0.6203, 0.6148, 0.617, 0.5762, 0.6079, 0.6001, 0.6139, 0.6138, 0.5894, 0.5957, 0.608, 0.6089, 0.5574, 0.5234, 0.5538, 0.5222, 0.5466, 0.5728, 0.5287, 0.5308, 0.5358, 0.5546, 0.4953, 0.5773, 0.4689, 0.4832, 0.4603, 0.3098, 0.371, 0.4248, 0.3172, 0.3733, 0.278, 0.4021, 0.3445, 0.3257, 0.3752, -0.1807, 0.0543, 0.1351, 0.1685, 0.2353, 0.3906, 0.1176, -0.3841, -0.1028, 0.248, 0.1492, 0.2261, -0.1486, -0.0488, 0.7474, 0.7461, 0.7451, 0.7414, 0.7412, 0.7404, 0.7387, 0.7385, 0.7383, 0.737, 0.7363, 0.7359, 0.7359, 0.7347, 0.7339, 0.7333, 0.7332, 0.7329, 0.732, 0.7281, 0.7265, 0.7263, 0.7255, 0.7252, 0.7245, 0.7234, 0.7178, 0.7158, 0.7141, 0.7121, 0.7079, 0.6934, 0.683, 0.6885, 0.7, 0.6411, 0.6969, 0.6754, 0.6937, 0.6578, 0.6503, 0.6416, 0.6918, 0.5951, 0.5993, 0.5456, 0.5183, 0.6103, 0.4889, 0.5398, 0.4851, 0.305, 0.4493, 0.1696, 0.4979, 0.3949, 0.3649, 0.3685, 0.5039, 0.3117, 0.338, 0.1037, -0.0644, 0.1436, -0.1765, 0.3467, -0.521, -0.4439]}, \"token.table\": {\"Topic\": [1, 1, 2, 1, 2, 1, 2, 1, 2, 1, 2, 1, 2, 1, 2, 1, 2, 1, 2, 1, 2, 1, 2, 1, 2, 1, 2, 1, 2, 1, 2, 1, 2, 1, 2, 1, 2, 1, 2, 1, 2, 1, 2, 1, 2, 1, 2, 1, 2, 1, 2, 1, 2, 1, 2, 1, 2, 1, 2, 1, 2, 1, 2, 1, 2, 1, 2, 1, 2, 1, 2, 1, 2, 1, 2, 1, 2, 1, 2, 1, 2, 1, 2, 1, 2, 1, 2, 1, 2, 1, 2, 1, 2, 1, 2, 1, 2, 1, 2, 1, 2, 1, 2, 1, 2, 1, 2, 1, 1, 2, 1, 2, 1, 2, 1, 2, 1, 2, 1, 2, 1, 2, 1, 2, 1, 2, 1, 2, 1, 2, 1, 2, 1, 2, 1, 2, 1, 2, 1, 2, 1, 2, 1, 2, 1, 2, 1, 2, 1, 2, 1, 2, 1, 2, 1, 2, 1, 2, 1, 2, 1, 2, 1, 2, 1, 2, 1, 2, 1, 2, 1, 2, 1, 2, 1, 2, 1, 2, 1, 2, 1, 2, 1, 2, 1, 2, 1, 2, 1, 2, 1, 2, 1, 2, 1, 2, 1, 2, 1, 2, 1, 2, 1, 2, 1, 2, 1, 2, 1, 2, 1, 2, 1, 2, 1, 2, 1, 2, 1, 2, 1, 2, 1, 2, 1, 2, 1, 2, 1, 2, 1, 2, 1, 2, 1, 2, 1, 2, 1, 2, 1, 2, 1, 2, 1, 2, 1, 2, 1, 2, 1, 2, 1, 2, 1, 2, 1, 2, 1, 2, 1, 2, 1, 2, 1, 2, 1, 2, 1, 2, 1, 2, 1, 2, 1, 2, 1, 2, 1, 2, 1, 2, 1, 2], \"Freq\": [0.9951302708590981, 0.9766679158035216, 0.01878207530391388, 0.994011628616176, 0.021608948448177737, 0.9843787100076009, 0.02982965787901821, 0.9917013236192551, 0.021558724426505544, 0.9759343335958615, 0.020331965283247114, 0.02374079760582366, 0.9971134994445937, 0.21808593086360947, 0.7817106093293015, 0.023691796516178018, 0.9713636571632988, 0.9386372981461993, 0.061406178383396216, 0.049254279281009845, 0.960458445979692, 0.23349812666701902, 0.7674205946508396, 0.22296086494268666, 0.7767668843164568, 0.059227567249942784, 0.9397440670324254, 0.20715965501623892, 0.7932698984768174, 0.9879737982804293, 0.024699344957010733, 0.4406640653379074, 0.5593515487121685, 0.9875637354001292, 0.012043460187806453, 0.991355874578468, 0.0177027834746155, 0.7795140010913978, 0.22043633637420676, 0.12889043020259056, 0.8700104038674863, 0.017785844405955903, 0.9782214423275747, 0.061005467529021154, 0.9394841999469258, 0.14065451743792318, 0.8608056467200899, 0.06674325338739258, 0.9344055474234962, 0.011786386432952935, 0.9861276648903955, 0.8989087150452982, 0.10372023635138056, 0.6121010971771226, 0.3870919711120121, 0.5572248240813923, 0.4422672672508472, 0.807834680327649, 0.19140333889296215, 0.9011637667896469, 0.09638115152830448, 0.6043301372193333, 0.39581856940681476, 0.985319423257424, 0.01970638846514848, 0.994010910475478, 0.019880218209509557, 0.5937861045423681, 0.40627470310793606, 0.02295944832449973, 0.9642968296289887, 0.9891917859214882, 0.01124081574910782, 0.9943898503177858, 0.007590762216166304, 0.02692388523590616, 0.9692598684926218, 0.9732221968884724, 0.020706855252946223, 0.9133111501361022, 0.08607120786622952, 0.8911267577436378, 0.10911756217269035, 0.02599276306861281, 0.9877249966072867, 0.33883616084841583, 0.6617893766570622, 0.014107764814515257, 0.984721984053165, 0.9869806732857623, 0.012817930821893017, 0.9354001539662421, 0.06734881108556943, 0.35949898445045353, 0.6404319656766357, 0.0418769682913674, 0.9631702707014503, 0.7321017002923947, 0.268298634482156, 0.008138417027668628, 0.9847484603479039, 0.6975171146861534, 0.30284050277126096, 0.9912873001621872, 0.02154972391656929, 0.987998619252855, 0.013534227660998014, 0.9820972012718399, 0.9936469993701653, 0.02838991426771901, 0.03344350608196369, 0.9698616763769471, 0.9826946030563631, 0.029778624335041307, 0.8359496111018297, 0.16435619472510551, 0.33194816007560773, 0.6687422786924653, 0.9595873344529889, 0.03800345879021738, 0.9227534683920887, 0.07826926740825753, 0.040810565029676144, 0.9561332378381268, 0.9731264665528861, 0.02560859122507595, 0.008363178820907743, 0.9952182796880213, 0.9667174854135283, 0.02648541055927475, 0.015319221264059744, 0.9957493821638834, 0.7192793835214211, 0.27996982262223025, 0.6774221947792392, 0.3226909779184889, 0.72435984940363, 0.2755716818383375, 0.9831571570697833, 0.03072366115843073, 0.9731338392447713, 0.028621583507199157, 0.984725606661323, 0.01758438583323791, 0.027867309447749886, 0.9753558306712461, 0.9701102229031925, 0.027327048532484296, 0.007453280406464289, 0.9987395744662146, 0.1852721644241257, 0.8141156422140413, 0.8443191609557487, 0.15690887062009487, 0.03187278932184065, 0.9668079427624997, 0.05032056943357179, 0.9489021664616395, 0.7445166548355974, 0.2547550357395015, 0.85725751656708, 0.14338470917670024, 0.35536382782580195, 0.64481339726456, 0.04925410727097476, 0.9499006402259419, 0.9724176840822809, 0.0330754314313701, 0.9843998750329875, 0.017578569197017634, 0.03970583707354219, 0.9926459268385547, 0.9819973362598959, 0.013270234273782378, 0.7645035587004066, 0.23523186421550973, 0.9816101288555827, 0.03166484286630912, 0.013692144897449967, 0.9858344326163977, 0.1037934947529336, 0.8966604685600653, 0.05422851327232087, 0.9442141134474693, 0.2598038378890412, 0.739441692453425, 0.028096818079626745, 0.9833886327869361, 0.7677265337975865, 0.232466813032857, 0.02858380760524192, 0.9718494585782251, 0.09043449136012699, 0.9125662309976451, 0.021703970028100664, 0.9766786512645298, 0.0026140593694206475, 0.9959566197492667, 0.01455223934998062, 0.9853944931272591, 0.7902039527707204, 0.21106424797133247, 0.02537422969726964, 0.9642207284962463, 0.8956053626669277, 0.10422993444830624, 0.026977091280533345, 0.9711752860992003, 0.9991387368608838, 0.011617892289080044, 0.9826132402602427, 0.015117126773234502, 0.9393940442418495, 0.06120435036521428, 0.981368828114622, 0.02133410495901352, 0.9923817852982619, 0.008134276928674277, 0.011166742303017426, 0.9901178175342118, 0.06983480619480177, 0.9293401132077467, 0.9626788990421014, 0.03940790814792228, 0.8667018050660894, 0.13333873924093684, 0.9185426598485491, 0.082565632345937, 0.8908239860152116, 0.10982761471420417, 0.9530338059920372, 0.04994063612185348, 0.9206853119139361, 0.08087100712757547, 0.1451528336888748, 0.8553649128094407, 0.9971395378048069, 0.019175760342400133, 0.039106791047684775, 0.9776697761921194, 0.9724551599184705, 0.024011238516505447, 0.9765166827852, 0.02476672746194348, 0.3171901069863257, 0.6823455472242421, 0.662621153970734, 0.3392802472221284, 0.5032578550272104, 0.49780740894388326, 0.23001967752332533, 0.7696812286357425, 0.9713057290561106, 0.027751592258746016, 0.9802113663660783, 0.02042107013262663, 0.05543646883269592, 0.9424199701558306, 0.29850547186815735, 0.7014063000180747, 0.9781361729513348, 0.014599047357482608, 0.45526222246749976, 0.5450758581923807, 0.6682997224693609, 0.3311029020136955, 0.4763015967642598, 0.5234506437166815, 0.10401160758624284, 0.8979668788278965, 0.0961975039494427, 0.9042565371247613, 0.624514129977966, 0.3755620280505308, 0.7680771788815406, 0.23070450061643344, 0.016524387530378826, 0.9914632518227295, 0.025594719812732727, 0.9725993528838436, 0.18938223720512729, 0.8104745205122651, 0.3202711231977276, 0.6796703926684807], \"Term\": [\"146s\", \"acceleration\", \"acceleration\", \"adequate\", \"adequate\", \"adjustable\", \"adjustable\", \"adult\", \"adult\", \"airbags\", \"airbags\", \"alternator\", \"alternator\", \"another\", \"another\", \"apart\", \"apart\", \"average\", \"average\", \"bill\", \"bill\", \"br\", \"br\", \"brake\", \"brake\", \"break\", \"break\", \"buy\", \"buy\", \"cabin\", \"cabin\", \"car\", \"car\", \"cargo\", \"cargo\", \"content\", \"content\", \"control\", \"control\", \"cost\", \"cost\", \"crack\", \"crack\", \"customer\", \"customer\", \"day\", \"day\", \"dealer\", \"dealer\", \"dealership\", \"dealership\", \"design\", \"design\", \"door\", \"door\", \"drive\", \"drive\", \"driver\", \"driver\", \"easy\", \"easy\", \"engine\", \"engine\", \"equip\", \"equip\", \"escape\", \"escape\", \"even\", \"even\", \"eventually\", \"eventually\", \"excursion\", \"excursion\", \"expedition\", \"expedition\", \"expire\", \"expire\", \"exterior\", \"exterior\", \"feature\", \"feature\", \"feel\", \"feel\", \"fell\", \"fell\", \"first\", \"first\", \"fix\", \"fix\", \"fold\", \"fold\", \"foot\", \"foot\", \"ford\", \"ford\", \"freeze\", \"freeze\", \"front\", \"front\", \"gasket\", \"gasket\", \"good\", \"good\", \"height\", \"height\", \"horsepower\", \"horsepower\", \"href\", \"impression\", \"impression\", \"inform\", \"inform\", \"instrument\", \"instrument\", \"interior\", \"interior\", \"know\", \"know\", \"lack\", \"lack\", \"large\", \"large\", \"later\", \"later\", \"lb\", \"lb\", \"leak\", \"leak\", \"leg\", \"leg\", \"lemon\", \"lemon\", \"like\", \"like\", \"little\", \"little\", \"look\", \"look\", \"lumbar\", \"lumbar\", \"luxury\", \"luxury\", \"mach\", \"mach\", \"manager\", \"manager\", \"market\", \"market\", \"mechanic\", \"mechanic\", \"mile\", \"mile\", \"model\", \"model\", \"month\", \"month\", \"motor\", \"motor\", \"much\", \"much\", \"mustang\", \"mustang\", \"new\", \"new\", \"oil\", \"oil\", \"option\", \"option\", \"optional\", \"optional\", \"overheat\", \"overheat\", \"position\", \"position\", \"power\", \"power\", \"prefer\", \"prefer\", \"probe\", \"probe\", \"problem\", \"problem\", \"purchase\", \"purchase\", \"quot\", \"quot\", \"radiator\", \"radiator\", \"rear\", \"rear\", \"rebuild\", \"rebuild\", \"recall\", \"recall\", \"refuse\", \"refuse\", \"repair\", \"repair\", \"replace\", \"replace\", \"road\", \"road\", \"rod\", \"rod\", \"room\", \"room\", \"rotor\", \"rotor\", \"row\", \"row\", \"rpm\", \"rpm\", \"seat\", \"seat\", \"seating\", \"seating\", \"sedan\", \"sedan\", \"service\", \"service\", \"shop\", \"shop\", \"size\", \"size\", \"small\", \"small\", \"space\", \"space\", \"speed\", \"speed\", \"sport\", \"sport\", \"standard\", \"standard\", \"start\", \"start\", \"storage\", \"storage\", \"strand\", \"strand\", \"style\", \"style\", \"suv\", \"suv\", \"take\", \"take\", \"taurus\", \"taurus\", \"thing\", \"thing\", \"time\", \"time\", \"torque\", \"torque\", \"trac\", \"trac\", \"trade\", \"trade\", \"transmission\", \"transmission\", \"trim\", \"trim\", \"truck\", \"truck\", \"use\", \"use\", \"vehicle\", \"vehicle\", \"warranty\", \"warranty\", \"week\", \"week\", \"well\", \"well\", \"wheel\", \"wheel\", \"wife\", \"wife\", \"winter\", \"winter\", \"work\", \"work\", \"year\", \"year\"]}, \"R\": 30, \"lambda.step\": 0.01, \"plot.opts\": {\"xlab\": \"PC1\", \"ylab\": \"PC2\"}, \"topic.order\": [2, 1]};\n",
       "\n",
       "function LDAvis_load_lib(url, callback){\n",
       "  var s = document.createElement('script');\n",
       "  s.src = url;\n",
       "  s.async = true;\n",
       "  s.onreadystatechange = s.onload = callback;\n",
       "  s.onerror = function(){console.warn(\"failed to load library \" + url);};\n",
       "  document.getElementsByTagName(\"head\")[0].appendChild(s);\n",
       "}\n",
       "\n",
       "if(typeof(LDAvis) !== \"undefined\"){\n",
       "   // already loaded: just create the visualization\n",
       "   !function(LDAvis){\n",
       "       new LDAvis(\"#\" + \"ldavis_el791051403867556451042975727987\", ldavis_el791051403867556451042975727987_data);\n",
       "   }(LDAvis);\n",
       "}else if(typeof define === \"function\" && define.amd){\n",
       "   // require.js is available: use it to load d3/LDAvis\n",
       "   require.config({paths: {d3: \"https://d3js.org/d3.v5\"}});\n",
       "   require([\"d3\"], function(d3){\n",
       "      window.d3 = d3;\n",
       "      LDAvis_load_lib(\"https://cdn.jsdelivr.net/gh/bmabey/pyLDAvis@3.3.1/pyLDAvis/js/ldavis.v3.0.0.js\", function(){\n",
       "        new LDAvis(\"#\" + \"ldavis_el791051403867556451042975727987\", ldavis_el791051403867556451042975727987_data);\n",
       "      });\n",
       "    });\n",
       "}else{\n",
       "    // require.js not available: dynamically load d3 & LDAvis\n",
       "    LDAvis_load_lib(\"https://d3js.org/d3.v5.js\", function(){\n",
       "         LDAvis_load_lib(\"https://cdn.jsdelivr.net/gh/bmabey/pyLDAvis@3.3.1/pyLDAvis/js/ldavis.v3.0.0.js\", function(){\n",
       "                 new LDAvis(\"#\" + \"ldavis_el791051403867556451042975727987\", ldavis_el791051403867556451042975727987_data);\n",
       "            })\n",
       "         });\n",
       "}\n",
       "</script>"
      ],
      "text/plain": [
       "PreparedData(topic_coordinates=               x           y  topics  cluster       Freq\n",
       "topic                                                   \n",
       "1     -60.312317  141.369629       1        1  52.790936\n",
       "0      60.312561 -141.369141       2        1  47.209064, topic_info=        Term         Freq        Total Category  logprob  loglift\n",
       "663  problem  1040.000000  1040.000000  Default  30.0000  30.0000\n",
       "752     seat  1078.000000  1078.000000  Default  29.0000  29.0000\n",
       "717  replace   481.000000   481.000000  Default  28.0000  28.0000\n",
       "716   repair   382.000000   382.000000  Default  27.0000  27.0000\n",
       "328      fix   354.000000   354.000000  Default  26.0000  26.0000\n",
       "..       ...          ...          ...      ...      ...      ...\n",
       "915    truck   351.950573   645.781674   Topic2  -5.0390   0.1436\n",
       "263   engine   335.899628   848.873767   Topic2  -5.0857  -0.1765\n",
       "447     know   275.587565   412.715046   Topic2  -5.2836   0.3467\n",
       "476     like   311.476087  1110.834007   Topic2  -5.1612  -0.5210\n",
       "364     good   277.025508   914.672897   Topic2  -5.2784  -0.4439\n",
       "\n",
       "[181 rows x 6 columns], token_table=      Topic      Freq          Term\n",
       "term                               \n",
       "0         1  0.995130          146s\n",
       "11        1  0.976668  acceleration\n",
       "11        2  0.018782  acceleration\n",
       "18        1  0.994012      adequate\n",
       "18        2  0.021609      adequate\n",
       "...     ...       ...           ...\n",
       "979       2  0.972599        winter\n",
       "988       1  0.189382          work\n",
       "988       2  0.810475          work\n",
       "996       1  0.320271          year\n",
       "996       2  0.679670          year\n",
       "\n",
       "[284 rows x 3 columns], R=30, lambda_step=0.01, plot_opts={'xlab': 'PC1', 'ylab': 'PC2'}, topic_order=[2, 1])"
      ]
     },
     "execution_count": 30,
     "metadata": {},
     "output_type": "execute_result"
    }
   ],
   "source": [
    "pyLDAvis.sklearn.prepare(lda_Neg, bow_corpus_Neg, bow_vectorizer_Neg, mds='tsne')"
   ]
  },
  {
   "cell_type": "code",
   "execution_count": 31,
   "id": "9759fd8e",
   "metadata": {},
   "outputs": [
    {
     "data": {
      "text/html": [
       "<div>\n",
       "<style scoped>\n",
       "    .dataframe tbody tr th:only-of-type {\n",
       "        vertical-align: middle;\n",
       "    }\n",
       "\n",
       "    .dataframe tbody tr th {\n",
       "        vertical-align: top;\n",
       "    }\n",
       "\n",
       "    .dataframe thead th {\n",
       "        text-align: right;\n",
       "    }\n",
       "</style>\n",
       "<table border=\"1\" class=\"dataframe\">\n",
       "  <thead>\n",
       "    <tr style=\"text-align: right;\">\n",
       "      <th></th>\n",
       "      <th>Topic_0</th>\n",
       "      <th>Topic_1</th>\n",
       "    </tr>\n",
       "  </thead>\n",
       "  <tbody>\n",
       "    <tr>\n",
       "      <th>Doc_0</th>\n",
       "      <td>0.3686</td>\n",
       "      <td>0.6314</td>\n",
       "    </tr>\n",
       "    <tr>\n",
       "      <th>Doc_1</th>\n",
       "      <td>0.0776</td>\n",
       "      <td>0.9224</td>\n",
       "    </tr>\n",
       "    <tr>\n",
       "      <th>Doc_2</th>\n",
       "      <td>0.9953</td>\n",
       "      <td>0.0047</td>\n",
       "    </tr>\n",
       "    <tr>\n",
       "      <th>Doc_3</th>\n",
       "      <td>0.6511</td>\n",
       "      <td>0.3489</td>\n",
       "    </tr>\n",
       "    <tr>\n",
       "      <th>Doc_4</th>\n",
       "      <td>0.5300</td>\n",
       "      <td>0.4700</td>\n",
       "    </tr>\n",
       "  </tbody>\n",
       "</table>\n",
       "</div>"
      ],
      "text/plain": [
       "       Topic_0  Topic_1\n",
       "Doc_0   0.3686   0.6314\n",
       "Doc_1   0.0776   0.9224\n",
       "Doc_2   0.9953   0.0047\n",
       "Doc_3   0.6511   0.3489\n",
       "Doc_4   0.5300   0.4700"
      ]
     },
     "execution_count": 31,
     "metadata": {},
     "output_type": "execute_result"
    }
   ],
   "source": [
    "lda_Neg_topic_weights = lda_Neg.transform(bow_corpus_Neg)\n",
    "Neg_doc_names = [\"Doc_\" + str(i) for i in range(len(normalized_Neg))]\n",
    "Neg_topic_names = [\"Topic_\" + str(i) for i in range(2)]\n",
    "df_Neg_document_topic = pd.DataFrame(np.round(lda_Neg_topic_weights, 4), columns=Neg_topic_names, index=Neg_doc_names)\n",
    "df_Neg_document_topic.head()"
   ]
  },
  {
   "cell_type": "code",
   "execution_count": 32,
   "id": "c3c7856e",
   "metadata": {},
   "outputs": [
    {
     "data": {
      "text/html": [
       "<div>\n",
       "<style scoped>\n",
       "    .dataframe tbody tr th:only-of-type {\n",
       "        vertical-align: middle;\n",
       "    }\n",
       "\n",
       "    .dataframe tbody tr th {\n",
       "        vertical-align: top;\n",
       "    }\n",
       "\n",
       "    .dataframe thead th {\n",
       "        text-align: right;\n",
       "    }\n",
       "</style>\n",
       "<table border=\"1\" class=\"dataframe\">\n",
       "  <thead>\n",
       "    <tr style=\"text-align: right;\">\n",
       "      <th></th>\n",
       "      <th>Topic_0</th>\n",
       "      <th>Topic_1</th>\n",
       "      <th>Neg_dominant_topic</th>\n",
       "    </tr>\n",
       "  </thead>\n",
       "  <tbody>\n",
       "    <tr>\n",
       "      <th>Doc_0</th>\n",
       "      <td>0.3686</td>\n",
       "      <td>0.6314</td>\n",
       "      <td>1</td>\n",
       "    </tr>\n",
       "    <tr>\n",
       "      <th>Doc_1</th>\n",
       "      <td>0.0776</td>\n",
       "      <td>0.9224</td>\n",
       "      <td>1</td>\n",
       "    </tr>\n",
       "    <tr>\n",
       "      <th>Doc_2</th>\n",
       "      <td>0.9953</td>\n",
       "      <td>0.0047</td>\n",
       "      <td>0</td>\n",
       "    </tr>\n",
       "    <tr>\n",
       "      <th>Doc_3</th>\n",
       "      <td>0.6511</td>\n",
       "      <td>0.3489</td>\n",
       "      <td>0</td>\n",
       "    </tr>\n",
       "    <tr>\n",
       "      <th>Doc_4</th>\n",
       "      <td>0.5300</td>\n",
       "      <td>0.4700</td>\n",
       "      <td>0</td>\n",
       "    </tr>\n",
       "  </tbody>\n",
       "</table>\n",
       "</div>"
      ],
      "text/plain": [
       "       Topic_0  Topic_1  Neg_dominant_topic\n",
       "Doc_0   0.3686   0.6314                   1\n",
       "Doc_1   0.0776   0.9224                   1\n",
       "Doc_2   0.9953   0.0047                   0\n",
       "Doc_3   0.6511   0.3489                   0\n",
       "Doc_4   0.5300   0.4700                   0"
      ]
     },
     "execution_count": 32,
     "metadata": {},
     "output_type": "execute_result"
    }
   ],
   "source": [
    "Neg_dominant_topic = np.argmax(df_Neg_document_topic.values, axis=1)\n",
    "df_Neg_document_topic['Neg_dominant_topic'] =Neg_dominant_topic\n",
    "df_Neg_document_topic.head()"
   ]
  },
  {
   "cell_type": "code",
   "execution_count": 33,
   "id": "d82c2497",
   "metadata": {},
   "outputs": [],
   "source": [
    "Neg_corpus_tokenized = [tokenize_text(normalized_Neg[doc_id]) for doc_id in range(len(normalized_Neg))]\n",
    "Neg_dictionary = Dictionary(Neg_corpus_tokenized)\n",
    "Neg_corpus_bow = [Neg_dictionary.doc2bow(doc) for doc in Neg_corpus_tokenized]\n",
    "Neg_topic_topwords = get_topic_words(vectorizer = bow_vectorizer_Neg, lda_model = lda_Neg, n_words=20)"
   ]
  },
  {
   "cell_type": "code",
   "execution_count": 34,
   "id": "36e40c35",
   "metadata": {},
   "outputs": [
    {
     "name": "stdout",
     "output_type": "stream",
     "text": [
      "Coherence score for the model (higher values are better):  -0.81841\n",
      "Coherence score by topic (higher values are better):  [-0.84783 -0.78898]\n",
      "Log-Likelihood (higher values are better):  -723462.3433573309\n",
      "Perplexity (lower values are better):  538.2068038721801\n"
     ]
    }
   ],
   "source": [
    "cm_Neg = CoherenceModel(topics=Neg_topic_topwords, \n",
    "                    corpus = Neg_corpus_bow , \n",
    "                    dictionary = Neg_dictionary, coherence='u_mass')\n",
    "print(\"Coherence score for the model (higher values are better): \", np.round(cm_Neg.get_coherence(), 5))\n",
    "print(\"Coherence score by topic (higher values are better): \", np.round(cm_Neg.get_coherence_per_topic(),5))\n",
    "print(\"Log-Likelihood (higher values are better): \", lda_Neg.score(bow_corpus_Neg))\n",
    "print(\"Perplexity (lower values are better): \", lda_Neg.perplexity(bow_corpus_Neg))"
   ]
  }
 ],
 "metadata": {
  "kernelspec": {
   "display_name": "Python 3 (ipykernel)",
   "language": "python",
   "name": "python3"
  },
  "language_info": {
   "codemirror_mode": {
    "name": "ipython",
    "version": 3
   },
   "file_extension": ".py",
   "mimetype": "text/x-python",
   "name": "python",
   "nbconvert_exporter": "python",
   "pygments_lexer": "ipython3",
   "version": "3.9.7"
  }
 },
 "nbformat": 4,
 "nbformat_minor": 5
}
